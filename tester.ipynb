{
 "cells": [
  {
   "cell_type": "markdown",
   "metadata": {},
   "source": [
    "# Imports"
   ]
  },
  {
   "cell_type": "code",
   "execution_count": 17,
   "metadata": {},
   "outputs": [],
   "source": [
    "import pandas as pd\n",
    "import numpy as np\n",
    "import matplotlib.pyplot as plt\n",
    "import seaborn as sns\n",
    "import requests\n",
    "import json\n",
    "import pycountry"
   ]
  },
  {
   "cell_type": "markdown",
   "metadata": {},
   "source": [
    "# API Testing"
   ]
  },
  {
   "cell_type": "code",
   "execution_count": 32,
   "metadata": {},
   "outputs": [
    {
     "name": "stdout",
     "output_type": "stream",
     "text": [
      "                     Winery                                  Wine  Rating  \\\n",
      "0                  Graça 28                          Reserva 2022     4.1   \n",
      "1                 Vila Real                    Vale do Corgo 2021     3.8   \n",
      "2    Casa Ermelinda Freitas      Sandstone Castelão - Shiraz 2023     4.0   \n",
      "3                   Cartuxa                         EA Tinto 2021     3.8   \n",
      "4   Quinta de São Sebastião         Miradouro da Vinha Tinto 2022     3.8   \n",
      "5   Quinta de São Sebastião         Miradouro da Vinha Tinto 2021     3.8   \n",
      "6         Casal das Freiras                   Colheita Tinto 2022     3.5   \n",
      "7   Quinta de São Sebastião  Janela Branca Special Selection 2022     3.7   \n",
      "8                 Vila Real                Cancellus Reserva 2017     3.8   \n",
      "9       Quinta Dona Mafalda                   Little Mafalda 2022     3.8   \n",
      "10            Monte do Além                     Petit Verdot 2012     3.8   \n",
      "11                Vila Real              Cancellus Signature 2019     3.9   \n",
      "12             Feuerheerd's                    Reserva Tinto 2020     4.0   \n",
      "13   Casa Ermelinda Freitas                 Sandstone Shiraz 2023     3.9   \n",
      "14                 Niepoort          Douro Allez Santé Tinto 2021     3.5   \n",
      "15        Quinta da Falorca          Traditional Blend Tinto 2017     3.9   \n",
      "16              Ramos Pinto               Duas Quintas Tinto 2021     4.0   \n",
      "17                 Niepoort                 Dão Rótulo Tinto 2020     3.7   \n",
      "18                     CARM          Formiga Biológico Tinto 2021     3.6   \n",
      "19        Quinta da Pellada              Álvaro Castro Tinto 2019     3.9   \n",
      "20                    Bulas                            Tinto 2022     3.8   \n",
      "21    Herdade do Portocarro               Autocarro 27 Tinto 2021     3.5   \n",
      "22       Herdade do Sobroso                    Reserva Tinto 2021     4.1   \n",
      "23     Quinta do Castelinho                          Reserva 2021     3.6   \n",
      "24       Herdade do Sobroso                    Reserva Tinto 2022     4.1   \n",
      "\n",
      "    num_review  \n",
      "0           92  \n",
      "1          533  \n",
      "2           40  \n",
      "3         2568  \n",
      "4         1290  \n",
      "5         1290  \n",
      "6          185  \n",
      "7           32  \n",
      "8           64  \n",
      "9          688  \n",
      "10          58  \n",
      "11         399  \n",
      "12         555  \n",
      "13          42  \n",
      "14         319  \n",
      "15         181  \n",
      "16        1969  \n",
      "17         131  \n",
      "18          28  \n",
      "19          78  \n",
      "20         299  \n",
      "21        3036  \n",
      "22         704  \n",
      "23          56  \n",
      "24         224  \n"
     ]
    }
   ],
   "source": [
    "r = requests.get(\n",
    "    \"https://www.vivino.com/api/explore/explore\",\n",
    "    params = {\n",
    "        \"country_code\": \"FR\",\n",
    "        \"country_codes[]\":\"pt\",\n",
    "        \"currency_code\":\"EUR\",\n",
    "        \"grape_filter\":\"varietal\",\n",
    "        \"min_rating\":\"1\",\n",
    "        \"order_by\":\"price\",\n",
    "        \"order\":\"asc\",\n",
    "        \"page\": 1,\n",
    "        \"price_range_max\":\"500\",\n",
    "        \"price_range_min\":\"0\",\n",
    "        \"wine_type_ids[]\":\"1\"\n",
    "    },\n",
    "    headers= {\n",
    "        \"User-Agent\": \"Mozilla/5.0 (Windows NT 10.0; Win64; x64; rv:66.0) Gecko/20100101 Firefox/66.0\"\n",
    "    }\n",
    ")\n",
    "results = [\n",
    "    (\n",
    "        t[\"vintage\"][\"wine\"][\"winery\"][\"name\"], \n",
    "        f'{t[\"vintage\"][\"wine\"][\"name\"]} {t[\"vintage\"][\"year\"]}',\n",
    "        t[\"vintage\"][\"statistics\"][\"ratings_average\"],\n",
    "        t[\"vintage\"][\"statistics\"][\"ratings_count\"],\n",
    "    )\n",
    "    for t in r.json()[\"explore_vintage\"][\"matches\"]\n",
    "]\n",
    "dataframe = pd.DataFrame(results,columns=['Winery','Wine','Rating','num_review'])\n",
    "\n",
    "print(dataframe)\n"
   ]
  },
  {
   "cell_type": "markdown",
   "metadata": {},
   "source": [
    "# Vivino API Call"
   ]
  },
  {
   "cell_type": "code",
   "execution_count": 2,
   "metadata": {},
   "outputs": [
    {
     "data": {
      "application/vnd.microsoft.datawrangler.viewer.v0+json": {
       "columns": [
        {
         "name": "index",
         "rawType": "int64",
         "type": "integer"
        },
        {
         "name": "winery",
         "rawType": "object",
         "type": "string"
        },
        {
         "name": "wine",
         "rawType": "object",
         "type": "string"
        },
        {
         "name": "link",
         "rawType": "object",
         "type": "string"
        },
        {
         "name": "region",
         "rawType": "object",
         "type": "string"
        },
        {
         "name": "country",
         "rawType": "object",
         "type": "string"
        },
        {
         "name": "rating",
         "rawType": "float64",
         "type": "float"
        },
        {
         "name": "flavors",
         "rawType": "object",
         "type": "string"
        },
        {
         "name": "foods",
         "rawType": "object",
         "type": "string"
        },
        {
         "name": "num_reviews",
         "rawType": "int64",
         "type": "integer"
        }
       ],
       "conversionMethod": "pd.DataFrame",
       "ref": "63b3f4c8-bf11-4ffa-9eab-5ec47489614d",
       "rows": [
        [
         "0",
         "Château de Lavagnac",
         "Bordeaux 2015",
         "https://vivino.com/wines/93384618",
         "Bordeaux",
         "France",
         "3.6",
         "['Red Fruit', 'Black Fruit', 'Earth', 'Oak', 'Non Oak', 'Spices', 'Dried Fruit', 'Microbio', 'Citrus Fruit', 'Vegetal']",
         "['Beef', 'Veal', 'Game (deer, venison)', 'Poultry']",
         "76"
        ],
        [
         "1",
         "Château de Callac",
         "Graves Rouge 2011",
         "https://vivino.com/wines/2137427",
         "Graves",
         "France",
         "3.6",
         "['Earth', 'Oak', 'Black Fruit', 'Non Oak', 'Red Fruit', 'Spices', 'Microbio', 'Dried Fruit', 'Citrus Fruit', 'Vegetal', 'Floral', 'Tree Fruit', 'Tropical Fruit']",
         "['Beef', 'Lamb', 'Game (deer, venison)', 'Poultry']",
         "221"
        ],
        [
         "2",
         "Château Lacoste Garzac",
         "Bordeaux 2022",
         "https://vivino.com/wines/171614480",
         "Bordeaux",
         "France",
         "3.4",
         "['Oak', 'Black Fruit', 'Earth', 'Non Oak', 'Red Fruit', 'Spices', 'Microbio', 'Dried Fruit', 'Vegetal', 'Citrus Fruit', 'Floral', 'Tree Fruit', 'Tropical Fruit']",
         "['Beef', 'Veal', 'Game (deer, venison)', 'Poultry']",
         "2054"
        ],
        [
         "3",
         "Château Haut Bernin",
         "Bordeaux 2015",
         "https://vivino.com/wines/146357367",
         "Bordeaux",
         "France",
         "3.3",
         "['Black Fruit', 'Red Fruit', 'Non Oak', 'Oak', 'Vegetal', 'Microbio']",
         "['Beef', 'Veal', 'Game (deer, venison)', 'Poultry']",
         "69"
        ],
        [
         "4",
         "Château La Fleur Saint-Jean",
         "Bordeaux 2009",
         "https://vivino.com/wines/1667151",
         "Bordeaux",
         "France",
         "3.6",
         "['Red Fruit', 'Spices', 'Oak', 'Black Fruit', 'Microbio']",
         "['Beef', 'Veal', 'Game (deer, venison)', 'Poultry']",
         "168"
        ]
       ],
       "shape": {
        "columns": 9,
        "rows": 5
       }
      },
      "text/html": [
       "<div>\n",
       "<style scoped>\n",
       "    .dataframe tbody tr th:only-of-type {\n",
       "        vertical-align: middle;\n",
       "    }\n",
       "\n",
       "    .dataframe tbody tr th {\n",
       "        vertical-align: top;\n",
       "    }\n",
       "\n",
       "    .dataframe thead th {\n",
       "        text-align: right;\n",
       "    }\n",
       "</style>\n",
       "<table border=\"1\" class=\"dataframe\">\n",
       "  <thead>\n",
       "    <tr style=\"text-align: right;\">\n",
       "      <th></th>\n",
       "      <th>winery</th>\n",
       "      <th>wine</th>\n",
       "      <th>link</th>\n",
       "      <th>region</th>\n",
       "      <th>country</th>\n",
       "      <th>rating</th>\n",
       "      <th>flavors</th>\n",
       "      <th>foods</th>\n",
       "      <th>num_reviews</th>\n",
       "    </tr>\n",
       "  </thead>\n",
       "  <tbody>\n",
       "    <tr>\n",
       "      <th>0</th>\n",
       "      <td>Château de Lavagnac</td>\n",
       "      <td>Bordeaux 2015</td>\n",
       "      <td>https://vivino.com/wines/93384618</td>\n",
       "      <td>Bordeaux</td>\n",
       "      <td>France</td>\n",
       "      <td>3.6</td>\n",
       "      <td>[Red Fruit, Black Fruit, Earth, Oak, Non Oak, ...</td>\n",
       "      <td>[Beef, Veal, Game (deer, venison), Poultry]</td>\n",
       "      <td>76</td>\n",
       "    </tr>\n",
       "    <tr>\n",
       "      <th>1</th>\n",
       "      <td>Château de Callac</td>\n",
       "      <td>Graves Rouge 2011</td>\n",
       "      <td>https://vivino.com/wines/2137427</td>\n",
       "      <td>Graves</td>\n",
       "      <td>France</td>\n",
       "      <td>3.6</td>\n",
       "      <td>[Earth, Oak, Black Fruit, Non Oak, Red Fruit, ...</td>\n",
       "      <td>[Beef, Lamb, Game (deer, venison), Poultry]</td>\n",
       "      <td>221</td>\n",
       "    </tr>\n",
       "    <tr>\n",
       "      <th>2</th>\n",
       "      <td>Château Lacoste Garzac</td>\n",
       "      <td>Bordeaux 2022</td>\n",
       "      <td>https://vivino.com/wines/171614480</td>\n",
       "      <td>Bordeaux</td>\n",
       "      <td>France</td>\n",
       "      <td>3.4</td>\n",
       "      <td>[Oak, Black Fruit, Earth, Non Oak, Red Fruit, ...</td>\n",
       "      <td>[Beef, Veal, Game (deer, venison), Poultry]</td>\n",
       "      <td>2054</td>\n",
       "    </tr>\n",
       "    <tr>\n",
       "      <th>3</th>\n",
       "      <td>Château Haut Bernin</td>\n",
       "      <td>Bordeaux 2015</td>\n",
       "      <td>https://vivino.com/wines/146357367</td>\n",
       "      <td>Bordeaux</td>\n",
       "      <td>France</td>\n",
       "      <td>3.3</td>\n",
       "      <td>[Black Fruit, Red Fruit, Non Oak, Oak, Vegetal...</td>\n",
       "      <td>[Beef, Veal, Game (deer, venison), Poultry]</td>\n",
       "      <td>69</td>\n",
       "    </tr>\n",
       "    <tr>\n",
       "      <th>4</th>\n",
       "      <td>Château La Fleur Saint-Jean</td>\n",
       "      <td>Bordeaux 2009</td>\n",
       "      <td>https://vivino.com/wines/1667151</td>\n",
       "      <td>Bordeaux</td>\n",
       "      <td>France</td>\n",
       "      <td>3.6</td>\n",
       "      <td>[Red Fruit, Spices, Oak, Black Fruit, Microbio]</td>\n",
       "      <td>[Beef, Veal, Game (deer, venison), Poultry]</td>\n",
       "      <td>168</td>\n",
       "    </tr>\n",
       "  </tbody>\n",
       "</table>\n",
       "</div>"
      ],
      "text/plain": [
       "                        winery               wine  \\\n",
       "0          Château de Lavagnac      Bordeaux 2015   \n",
       "1            Château de Callac  Graves Rouge 2011   \n",
       "2       Château Lacoste Garzac      Bordeaux 2022   \n",
       "3          Château Haut Bernin      Bordeaux 2015   \n",
       "4  Château La Fleur Saint-Jean      Bordeaux 2009   \n",
       "\n",
       "                                 link    region country  rating  \\\n",
       "0   https://vivino.com/wines/93384618  Bordeaux  France     3.6   \n",
       "1    https://vivino.com/wines/2137427    Graves  France     3.6   \n",
       "2  https://vivino.com/wines/171614480  Bordeaux  France     3.4   \n",
       "3  https://vivino.com/wines/146357367  Bordeaux  France     3.3   \n",
       "4    https://vivino.com/wines/1667151  Bordeaux  France     3.6   \n",
       "\n",
       "                                             flavors  \\\n",
       "0  [Red Fruit, Black Fruit, Earth, Oak, Non Oak, ...   \n",
       "1  [Earth, Oak, Black Fruit, Non Oak, Red Fruit, ...   \n",
       "2  [Oak, Black Fruit, Earth, Non Oak, Red Fruit, ...   \n",
       "3  [Black Fruit, Red Fruit, Non Oak, Oak, Vegetal...   \n",
       "4    [Red Fruit, Spices, Oak, Black Fruit, Microbio]   \n",
       "\n",
       "                                         foods  num_reviews  \n",
       "0  [Beef, Veal, Game (deer, venison), Poultry]           76  \n",
       "1  [Beef, Lamb, Game (deer, venison), Poultry]          221  \n",
       "2  [Beef, Veal, Game (deer, venison), Poultry]         2054  \n",
       "3  [Beef, Veal, Game (deer, venison), Poultry]           69  \n",
       "4  [Beef, Veal, Game (deer, venison), Poultry]          168  "
      ]
     },
     "execution_count": 2,
     "metadata": {},
     "output_type": "execute_result"
    }
   ],
   "source": [
    "# Define function\n",
    "\n",
    "def get_vivino_data(\n",
    "    name=None,\n",
    "    country_code=None,\n",
    "    currency_code=None,\n",
    "    min_rating=0,\n",
    "    ratings_count_min=0,\n",
    "    price_range_max=100000,\n",
    "    price_range_min=0,\n",
    "    wine_type_ids=1,\n",
    "):\n",
    "    r = requests.get(\n",
    "        \"https://www.vivino.com/api/explore/explore\",\n",
    "        params={\n",
    "            \"search_query\": name,\n",
    "            \"country_code\": country_code,\n",
    "            \"currency_code\": currency_code,\n",
    "            \"min_rating\": min_rating,\n",
    "            \"min_ratings\": ratings_count_min,\n",
    "            \"order_by\": \"price\",\n",
    "            \"order\": \"asc\",\n",
    "            \"page\": 1,\n",
    "            \"price_range_max\": price_range_max,\n",
    "            \"price_range_min\": price_range_min,\n",
    "            \"wine_type_ids[]\": wine_type_ids,\n",
    "        },\n",
    "        headers={\n",
    "            \"User-Agent\": \"Mozilla/5.0 (Windows NT 10.0; Win64; x64; rv:66.0) Gecko/20100101 Firefox/66.0\"\n",
    "        },\n",
    "    )\n",
    "\n",
    "\n",
    "    results = [\n",
    "        {\n",
    "            \"name\": t[\"vintage\"][\"wine\"][\"winery\"][\"name\"],\n",
    "            \"id\": t[\"vintage\"][\"id\"],\n",
    "            \"wine\": f'{t[\"vintage\"][\"wine\"][\"name\"]} {t[\"vintage\"][\"year\"]}',\n",
    "            \"region\": t[\"vintage\"][\"wine\"][\"region\"][\"name\"],\n",
    "            \"country\": t[\"vintage\"][\"wine\"][\"region\"][\"country\"][\"name\"],\n",
    "            \"rating\": t[\"vintage\"][\"statistics\"][\"ratings_average\"],\n",
    "            \"flavors\": [x[\"group\"] for x in t[\"vintage\"][\"wine\"][\"taste\"][\"flavor\"]],\n",
    "            \"foods\": [x[\"name\"] for x in t[\"vintage\"][\"wine\"][\"style\"][\"food\"]],\n",
    "            \"rating_count\": t[\"vintage\"][\"statistics\"][\"ratings_count\"],\n",
    "        }\n",
    "        for t in r.json()[\"explore_vintage\"][\"matches\"]\n",
    "    ]\n",
    "\n",
    "    # Get lists\n",
    "    wineries = [x[\"name\"] for x in results]\n",
    "    links = [\"https://vivino.com/wines/\" + str(x[\"id\"]) for x in results] # Will expand to a bigger link when searched\n",
    "    wines = [x[\"wine\"] for x in results]\n",
    "    ratings = [x[\"rating\"] for x in results]\n",
    "    flavors = [x[\"flavors\"] for x in results]\n",
    "    foods = [x[\"foods\"] for x in results]\n",
    "    country_code = [x[\"country\"] for x in results]\n",
    "    region = [x[\"region\"] for x in results]\n",
    "\n",
    "    # Clean flavors by removing _ and capitalizing\n",
    "    flavors = [[y.replace(\"_\", \" \").title() for y in x] for x in flavors]\n",
    "\n",
    "    # Get number of reviews\n",
    "    num_reviews = [x[\"rating_count\"] for x in results]\n",
    "\n",
    "    return pd.DataFrame(\n",
    "        {\n",
    "            \"winery\": wineries,\n",
    "            \"wine\": wines,\n",
    "            \"link\": links,\n",
    "            \"region\": region,\n",
    "            \"country\": country_code,\n",
    "            \"rating\": ratings,\n",
    "            \"flavors\": flavors,\n",
    "            \"foods\": foods,\n",
    "            \"num_reviews\": num_reviews,\n",
    "        }\n",
    "    )\n",
    "\n",
    "\n",
    "# Get data\n",
    "dataframe = get_vivino_data(\n",
    "    name=\"\",\n",
    "    country_code=\"FR\",\n",
    "    currency_code=\"USD\",\n",
    "    min_rating=1,\n",
    "    ratings_count_min=1000,\n",
    "    price_range_max=500,\n",
    "    price_range_min=0,\n",
    "    wine_type_ids=1,\n",
    ")\n",
    "\n",
    "dataframe.head()"
   ]
  },
  {
   "cell_type": "code",
   "execution_count": 3,
   "metadata": {},
   "outputs": [],
   "source": [
    "import PyPDF2\n",
    "\n",
    "def extract_text_from_pdf(pdf_path):\n",
    "    \"\"\"\n",
    "    Extract text from a PDF file.\n",
    "    \n",
    "    Args:\n",
    "        pdf_path (str): Path to the PDF file\n",
    "        \n",
    "    Returns:\n",
    "        dict: Dictionary containing page numbers and their corresponding text\n",
    "    \"\"\"\n",
    "    # Dictionary to store text from each page\n",
    "    text_by_page = {}\n",
    "    \n",
    "    try:\n",
    "        # Open the PDF file in binary read mode\n",
    "        with open(pdf_path, 'rb') as file:\n",
    "            # Create a PDF reader object\n",
    "            pdf_reader = PyPDF2.PdfReader(file)\n",
    "            \n",
    "            # Get the number of pages\n",
    "            num_pages = len(pdf_reader.pages)\n",
    "            \n",
    "            # Extract text from each page\n",
    "            for page_num in range(num_pages):\n",
    "                # Get the page object\n",
    "                page = pdf_reader.pages[page_num]\n",
    "                \n",
    "                # Extract text from the page\n",
    "                text = page.extract_text()\n",
    "                \n",
    "                # Store the text in our dictionary\n",
    "                text_by_page[page_num + 1] = text\n",
    "                \n",
    "        return text_by_page\n",
    "    \n",
    "    # Error Messaging\n",
    "    except FileNotFoundError:\n",
    "        print(f\"Error: The file {pdf_path} was not found.\")\n",
    "        return None\n",
    "    except PyPDF2.PdfReadError:\n",
    "        print(\"Error: Invalid or corrupted PDF file.\")\n",
    "        return None\n",
    "    except Exception as e:\n",
    "        print(f\"An unexpected error occurred: {str(e)}\")\n",
    "        return None\n",
    "\n"
   ]
  },
  {
   "cell_type": "code",
   "execution_count": 4,
   "metadata": {},
   "outputs": [
    {
     "name": "stdout",
     "output_type": "stream",
     "text": [
      "{1: \"SPARKLING  |  FRANCE  |  CHAMPAGNE\\nNON-VINTAGE\\n1148 Alexandre Bonnet / 'La Geande' 7 Cepages' / Extra Brut NV 310\\n1147 Alexandre Filaine / 'Cuvée Spéciale' / Brut NV 235\\n1159 Alexandre Filaine / 'DMY' / Brut NV 295\\n1116 Georges Laval / 'Cumières' 1er cru / Brut Nature NV 288\\n1199 Laurent Perrier / 'Grand Siècle - No. 29' / Brut NV 685\\nBLANC DE BLANCS\\n1100 Pascal Agrapart / 'Minèral' / Extra Brut 2018 350\\n1187 Pascal Agrapart / 'Vénus' / Extra Brut 2018 650\\n1124 Raphaël et Vincent Bérêche  / 'Côte' /  Grand Cru /  Extra Brut 2005 498\\n1203 Billecart-Salmon / 'Cuvée Louis Salmon' / Brut 2008 585\\n1146 Franck Bonville / 'Les Belles Voyes' / Brut 2016 298\\n1115 Ulysse Collin / 'Les Roises' / Extra Brut 2011 1450\\n1168 Ulysse Collin / 'Les Pierrières' /  Brut 2018 725\\n1106 Ulysse Collin / 'Les Pierrières' /  Brut 2011 1095\\n1144 Emilien Feneuil / 'Cuvée Totum' / Extra Brut chardonnay -  petit meslier 2018 495\\n1178 Emilien Feneuil / 'Cuvée Mix' / Extra Brut chardonnay -  petit meslier 2018 495\\n1205 Jacques Lassaigne / 'Reserve' / Extra Brut NV 178\\n1161 Georges Laval / 'Les Chênes' / Brut Nature 2020 695\\n1131 Pertois-Moriset / 'Les Quatres Terroirs / Grand Cru / Brut NV 155\\n1190 Pierre Péters / 'Cuvée de Réserve' / Brut NV 225\\n1132 Pierre Péters / 'Oublie' / Grand Cru / Brut NV 295\\n1195 Pierre Péters / 'Cuvée Speciale - Les Montjolys' / Brut 2015 625\\n1192 Pierre Péters / 'L'Etonnant Monsieur Victor' / Brut 2016 675\\n1107 Stéphane Regnault / 'Lydien' No 80 / Grand Cru / Extra Brut NV 280\\n1193 Dom Ruinart / Extra Brut 2010 750\\n1182 Salon / 'Le Mesnil' / Brut 2012 1850\\n1121 Jacques Selosse / 'Initial' / Brut NV 1450\\n1140 Jacques Selosse / 'Millésime' / Extra Brut 2002 4950\\n1134 Jacques Selosse / 'V.O.' / Grand Cru / Brut (disg. 2021) NV 1625\\n1110 Jacques Selosse / 'V.O.' / Grand Cru / Brut (disg. 2019) NV 1625\\n1117 Jacques Selosse / 'V.O.' / Grand Cru / Brut (disg. 2016) NV 1645\\n1158 Suenen / 'C + C' / Grand Cru / Extra Brut NV 325\\n1189 Tarlant / 'BAM!' / Brut Nature NV 455\\n1164 Domaine Vincey / 'Oger' / Grand Cru /  Extra Brut 2018 210\\n\", 2: \"SPARKLING  |  FRANCE  |  CHAMPAGNE\\nBLANC DE NOIRS\\n1114 Raphaël et Vincent Bérêche / 'Rive Gauche' / Extra Brut 2020 265\\n1153 Clandestin Boreal / ' Vieilles Vignes' / Brut Nature NV 265\\n1145 Cedric Bouchard 'Roses de Jeanne' / 'Les Ursules' / Brut Nature 2018 795\\n1198 Billecart-Salmon / 'Le Clos Saint-Hilaire' / Brut 2006 1100\\n1197 Billecart-Salmon / 'Le Clos Saint-Hilaire' / Brut 2005 1150\\n1162 Egly-Ouriet / 'Les Crayères Vieilles Vignes' / Grand Cru / Brut NV 675\\n1176 Ulysse Collin / 'Les Maillons' / Extra Brut 2019 625\\n1136 Ulysse Collin / 'Les Maillons' / Extra Brut 2012 1050\\n1143 Ulysse Collin / 'Les Maillons' / Extra Brut 2010 1100\\n1188 Marc Hébrart /  'Noces de Craie' / Grand Cru / Extra Brut 2018 310\\n1179 Georges Laval / 'Les Hautes Chèvres' / Brut Nature 2019 695\\n1175 Georges Laval / 'Les Longues Violes' / Brut Nature 2015 1525\\n1184 Marie-Noëlle Ledru / Grand Cru / Extra Brut NV 695\\n1177 Nicolas Maillart / 'Mont Martin' / Extra Brut 2019 335\\n1127 Christophe Mignon  / 'ADN de Foudre Meunier' / Brut Nature NV 250\\n1122 Jérôme Prévost / 'La Closerie - Esperluette' / Extra Brut 2018 765\\n1119 Jérôme Prévost / 'La Closerie - Les Beguines' / Extra Brut 2008 1450\\n1112 Eric Rodez / 'Les Beurys' / Extra Brut 2014 345\\n1137 Tarlant / La Vigne d'Or' / Brut Nature 2006 445\\nVINTAGE\\n1109 Raphaël et Vincent Bérêche / 'Äy' / Grand Cru / Extra Brut 2016 695\\n1111 Egly-Ouriet / Grand Cru / Brut 2008 1975\\n1170 Fleury / 'Millésime 2010 350\\n1183 Charles Heidsieck / 'Champagne Charlie' / Brut 2017 1250\\n1202 Les Monts Fournois / 'Montagne' / Brut 2012 498\\n1156 Philipponnat / 'Clos des Goises' / Extra Brut 2014 895\\n1141 Ployez-Jacquemart / 'Liesse de Harbonville' / Brut 2005 495\\n1105 Vilmart & Cie / 'Grand Cellier d'Or' 1er cru / Brut 2018 285\", 3: \"SPARKLING  |  FRANCE  |  CHAMPAGNE\\nROSÉ CHAMPAGNE\\n1191 Alexandre Bonnet / 'La Forêt' / Saignée Extra Brut NV 285\\n1113 Ulysse Collin / 'Les Maillons' / Extra Brut 2013 950\\n1194 Drappier / Brut Nature NV 195\\n1171 Krug / Brut NV 1100\\n1123 Jérôme Prévost / 'La Closerie - Fac-Simile' / Extra Brut 2018 1925\\n1103 Jérôme Prévost / 'La Closerie - Fac-Simile' / Extra Brut 2016 1950\\n1102 Jérôme Prévost / 'La Closerie - Fac-Simile' / Extra Brut 2015 1925\\n1101 Jérôme Prévost / 'La Closerie - Fac-Simile' / Extra Brut 2013 2650\\n1154 Tarlant / 'Zero' / Brut Nature NV 210\\nSPARKLING  |  FRANCE\\n1304 Domaine Comte Abbatucci / 'Cuvée Empire' / Extra Brut / Corsica NV 210\\n1303 Taille aux Loups / 'Triple Zero' / Montlouis / Loire Valley NV 125\\n \", 4: \"HALF BOTTLES\\nSPARKLING  |  CHAMPAGNE  |  FRANCE \\n9011 Krug / 'Grand Cuvée' / Brut NV 298\\n9007 Krug / Brut Rosé NV 565\\n9009 Pierre Paillard / 'Les Parcelles' / Grand Cru / Extra Brut NV 120\\n9008 Ployez-Jacquemart / Extra Brut Rosé NV 85\\n9012 Tarlant / 'Zero' / Brut Nature NV 115\\nWHITE  |  FRANCE \\n9132 Moreau-Naudet / Chablis / Burgundy 2022 80\\nRED  |  FRANCE  \\n9101 Domaine Marquis d'Angerville / 'Champans' 1er Cru / Volnay 2022 288\\n9104 Château Cos d'Estournel / 2ème Grand Cru Classé / Saint-Estèphe / Bordeaux 2016 465\\n9105 Château Lafite-Rothschild / 1er Grand Cru Classé / Pauillac / Bordeaux 2010 1750\\n9119 Château Mouton-Rothschild / 1er Grand Cru Classé / Pauillac / Bordeaux 2005 1150\\n9107 Château Margaux / 1er Grand Cru Classé / Margaux / Bordeaux 2005 1450\\n9110 Château Margaux / 1er Grand Cru Classé / Margaux / Bordeaux 2003 1050\", 5: \"LARGE FORMAT  |  SPARKLING \\nCHAMPAGNE\\n9200 Raphaël et Vincent Bérêche / 'Reflet d'Antan' / Brut 1.5L NV 1650\\n9202 Krug / Grand Cru / Brut 1.5L 2002 2450\\n9225 J. Lassalle / 'Cuvée Angeline' / Brut 1.5L 2011 750\\n9212 Philipponnat / 'Clos des Goisses' / Grand Cru / Brut 1.5L 2012 1690\\n9216 Egly-Ouriet / Grand Cru / Brut Rosé 1.5L NV 1050\\n9203 Krug / Brut Rosé 1.5L NV 2250\\n9215 Ruinart / 'Dom Ruinart' / Brut Rosé  1.5L 2002 1650\\nLARGE FORMAT  |  WHITE  \\nJURA\\n3540 Domaine Ganevat 'Les Survivants' / Côtes du Jura chardonnay 1.5L 2017 645\\n3541 Domaine Ganevat 'Cuvée Marguerite' / Côtes du Jura chardonnay 1.5L 2010 845\\n3533 Domaine Ganevat 'Les Chamois du Paradis' / Côtes du Jura chardonnay  1.5L 2015 595\\nLOIRE VALLEY\\n9211 Domaine Belargus / 'Ronceray' / Anjou 1.5L 2021 430\\nBURGUNDY\\n9232 François Raveneau / 'Montée de Tonnerre' / Chablis 1er Cru  1.5L 2014 4250\\n9210 François Raveneau / 'Butteaux' / Chablis 1er Cru  1.5L 2021 1650\\n9229 François Raveneau / 'Clos' / Chablis Grand Cru  1.5L 2014 5750\\n9218 Domaine Rougeot / 'Sous la Velle - Sans Soufre' / Meursault  1.5L 2021 625\\n9235 Domaine Rougeot / 'Sous la Velle - Sans Soufre' / Meursault  3L 2021 1325\\n9220 Domaine Roulot / Meursault / 'Les Tessons - Clos Mon Plaisir'  1.5L 2007 2350\\n9219 Domaine Roulot / Meursault / 'Meix Chavaux'  1.5L 2007 2250\\n9206 Benoit Ente / Chassagne Montrachet / 'Les Houillères' 1.5L 2021 1250\\n9213 Domaine Hubert Lamy / St. Aubin / 'Les Frionnes'  3L 2018 1250\\nCHÂTEAUNEUF-DU-PAPE\\n9207 Famille Ferrando / 'Cuvée Spéciale Vieilles Vignes Clairette' 2021 895\\nCORSICA\\n9223 Domaine Comte Abbatucci / 'Cuvée Collection - BR' / Ajaccio barbarossa  1.5L NV 365\\n9225 Domaine Comte Abbatucci / 'General de la Révolution' / Ajaccio carcajolu blanc blend  1.5L 2016 550\", 6: \"LARGE FORMAT  |  WHITE  \\nITALY\\n9234 Vignai da Duline / 'Gialloditocai' / Venezia-Giulia tocai giallo 1.5L 2020 325\\nLARGE FORMAT  |  ROSÉ\\nFRANCE\\n9228 Domaine du Gros 'Noré / Bandol mourvèdre - cinsault - grenache - clairette  1.5L 2021 235\\n9230 Domaine Tempier / Bandol mourvèdre - grenache - cinsault  3L 2020 750\\nLARGE FORMAT  |  RED  |  FRANCE\\nLOIRE VALLEY\\n9405 Charles Joguet / 'Grand Clos' / Chinon 1.5L 2010 465\\n9419 Charles Joguet / 'Grand Clos' / Chinon 1.5L 2009 465\\nBEAUJOLAIS\\n9410 Jean-Louis Dutraive / 'Cuv ée Vieilles Vignes Champagne' / Fleurie 1.5L 2017 465\\nJURA\\n9438 Jean François Ganevat / Côtes du Jura / 'Julien en Billat'  pinot noir  1.5L 2019 610\\n9439 Jean François Ganevat / Côtes du Jura / 'Plein Sud' trousseau 1.5L 2019 645\\n9440 Jean François Ganevat / Côtes du Jura / 'Plein Sud' trousseau 1.5L 2018 645\", 7: \"LARGE FORMAT  |  RED  |  FRANCE\\nBORDEAUX\\n9463 Château Ducru-Beaucaillou / 2ème Grand Cru Classé / St. Julien 1.5L 2015 1325\\n9466 Château Léoville Poyferre / 2ème Grand Cru Classé / St. Julien 1.5L 1996 1050\\n9417 Pavillon Rouge du Château Margaux / Margaux  1.5L 2015 1950\\nRHÔNE  \\n9433 Marie et Pierre Benetière / 'Cordeloux' / Côte Rôtie  1.5L 2013 1100\\n9465 Monier-Perréol / 'Terre Blanche' / Saint-Joseph  1.5L 2021 375\\n9410 Thierry Allemand / 'Reynard' / Cornas  1.5L 2020 1600\\n9402 Thierry Allemand / 'Chaillot' / Cornas  1.5L 1997 1750\\n9415 Domaine August Clape / Cornas  1.5L 2017 1200\\n9422 Clos de L'Oratoire des Papes / Châteauneuf-du-Pape  1.5L grenache blend 2013 645\\n9413 Domaine du Vieux Télégraphe / 'La Crau' / Ch âteauneuf-du-Pape  1.5L grenache blend 2003 825\\n9414 Domaine du Vieux Télégraphe / 'La Crau' / Ch âteauneuf-du-Pape  1.5L grenache blend 1992 985\\nLARGE FORMAT  |  RED  |  USA \\n9401 Cameron / 'Abbey Ridge' / Willamette Valley / Oregon pinot noir  1.5L 2022 445\\n9404 Bergström / 'Silice' / Willamette Valley / Oregon pinot noir  1.5L 2014 598\\n9400 Littorai / 'Cerise' / Sonoma Coast pinot noir   1.5L 2011 1395\\n6019 Corison / Napa Valley / California cabernet sauvgnon  1.5L 2000 725\\n6021 Corison / Napa Valley / California cabernet sauvgnon  1.5L 1998 985\\n9412 Corison / Napa Valley / California cabernet sauvgnon  1.5L 1997 1550\\n9406 Corison / Napa Valley / California cabernet sauvgnon  1.5L 1994 1595\\n9407 Corison / Napa Valley / California cabernet sauvgnon  1.5L 1992 1675\\n9462 Diamond Creek / 'Gravelly Meadow' / Napa Valley / California  cabernet sauvgnon   3L 1998 2650\\n9461 Diamond Creek / 'Volcanic Hill' / Napa Valley / California  cabernet sauvgnon   3L 1998 2650\", 8: \"WHITE  |  FRANCE  |  LOIRE\\nVIN DE FRANCE\\n3912 Thierry Germain / 'Solera' chenin blanc NV 425\\nANJOU\\n3958 Patrick Baudouin / 'Le Cornillard' 2018 145\\n3956 Patrick Baudouin / 'Ronceray - Les Zerzilles' 2019 175\\n3960 Domaine Belargus / 'Ronceray' 2019 190\\n3975 Château de Bonnezeaux / 'La Montagne' 2022 150\\n3955 Thibaud Boudignon 2022 125\\n3921 Richard Leroy / 'Rouliers' 2015 785\\n3967 Richard Leroy / 'Rouliers' 2014 925\\nSAVENNI ÈRES\\n3922 Thibaud Boudignon / 'Clos de la Hutte' 2021 290\\n3949 Thibaud Boudignon / 'Clos de la Hutte' 2020 290\\n3918 Domaine aux Moines / 'Roche-aux-Moines' 2022 155\\n3979 Damien Laureau / 'Les Genêts' 2020 140\\n3915 Domaine Nicolas Joly / 'Coulée de Serrant' 2021 375\\n3904 Domaine Nicolas Joly / 'Coulée de Serrant' 2020 330\\n3930 Domaine Nicolas Joly / 'Coulée de Serrant' 2019 340\\nSAUMUR\\n3917 Domaine du Collier 2020 205\\n3976 Domaine du Collier / 'La Charpentrie' 2014 525\\n3908 Domaine Guiberteau 2023 115\\n3980 Domaine Guiberteau / 'Clos de Guichaux - Monopole' 2021 190\\n3944 Clos Rougeard / 'Brézé' 2012 975\\nClos Rougeard / 'Brézé' 2007 845\\n3947 Clos Rougeard / 'Brézé' 2006 765\\n3950 Clos Rougeard / 'Brézé' 2005 785\\n3952 Brendan Stater-West / 'Les Chapaudaises' 2021 128\\nMONTLOUIS-SUR-LOIRE\\n3966 Domaine Taille Aux Loups / 'Clos Michet' 2020 120\\n 3942\", 9: \"WHITE  |  FRANCE  |  LOIRE\\nVOUVRAY\\n3010 Domaine Huet / 'Haut-Lieu' sec 2023 105\\n3968 Domaine Huet / 'Le Mont' sec 2023 135\\n3920 Domaine François Chidaine / 'Tuffeaux' demi-sec 2020 110\\nSANCERRE\\n3953 Pascal Cotat / 'Monts Damnés' 2023 255\\n3306 Vincent Gaudry / 'Constellation du Scorpion' 2022 185\\n3914 Domaine Claude Riffault / 'Mosaïque Calcaire' 2023 120\\n3910 Edmond Vatan / 'Clos de la Néore' 2016 1095\\n3959 Edmond Vatan / 'Clos de la Néore' 2012 1250\\n3920 Domaine Vacheron / 'La Garenne' 2022 235\\n3907 Domaine Vacheron / 'Le Paradis' 2022 215\\n3309 Domaine Vacheron / 'Les Romains' 2022 215\\n3957 Pierre Martin / 'Monts Damnés' 2022 115\\nWHITE  |  FRANCE  |  ALSACE\\n3021 Leyon Beyer riesling 2020 95\\n3015 Albert Boxler / 'Brand' pinot gris 2020 188\\n3909 Albert Boxler / 'Brand' riesling 2020 188\\n3019 Albert Boxler / 'Vieilles Vignes' riesling 2019 235\\n3956 Albert Boxler / 'Sommerberg-Dudenstein'  riesling 2018 248\\n3001 Marcel Deiss / Altenberg de Bergheim' white blend 2009 375\\n3002 Marcel Deiss / Altenberg de Bergheim' white blend 2007 375\\n3004 Marcel Deiss / Altenberg de Bergheim' white blend 2004 375\\n3020 Maison Trimbach / 'Schlossberg' riesling 2019 235\\n3000 Maison Trimbach / 'Clos Sainte Hune' riesling 2018 795\\n3954 Maison Trimbach / 'Cuvée Frédéric Emile' riesling 2017 275\\n3905 Maison Trimbach / 'Cuvée Frédéric Emile' riesling 2016 275\\nWHITE  |  FRANCE  |  COTEAUX CHAMPENOIS\\n3999 Charles Dufour / 'Vin de Comptoir L19.10' NV 210\\n3997 Les Monts Fournois 2020 390\\n7160 Emilien Feneuil / 'Les Goulats' 2018 495\", 10: \"WHITE  |  FRANCE  |  BURGUNDY \\nCHABLIS \\n3174 Eleni & Edouard Vocoret / 'Bas de Chapelot' 2022 145\\nCHABLIS PREMIER CRU\\n3230 Patrick Puize / 'Butteaux' 2023 195\\n9752 François Raveneau / 'Butteaux' 2020 945\\n9715 François Raveneau / 'Butteaux' 2011 1325\\n9723 François Raveneau / 'Butteaux' 2007 1250\\n9760 François Raveneau / 'Mont ée de Tonnerre' 2022 975\\n9732 François Raveneau / 'Mont ée de Tonnerre' 2021 965\\n3114 Domaine Hamelin / 'Beauroy' 2022 140\\nCHABLIS GRAND CRU\\n3122 Patrick Puize / 'Bougros' 2023 238\\n9601 François Raveneau / 'Blanchots' 1992 1950\\n9607 François Raveneau / 'Les Clos' 2022 1750\\n9735 François Raveneau / 'Les Clos' 2021 1750\\n9749 François Raveneau / 'Les Clos' 2020 2150\\n9606 François Raveneau / 'Valmur' 2022 1350\\n9729 François Raveneau / 'Valmur' 2021 1350\", 11: \"WHITE  |  FRANCE  |  BURGUNDY \\nBOURGOGNE ALIGOTÉ\\n9703 Domaine J.F. Coche-Dury 2019 985\\n9750 Arnaud Ente 2010 945\\n3155 Benoit Ente /  'Cuvée Antichtone' 2022 198\\n3165 Alice et Olivier De Moor 2017 215\\nBOURGOGNE \\n9588 Domaine Bizot / 'Les Violettes' 2018 950\\n3167 Domaine Henri Boillot 2019 170\\n3264 Domaine Chanterêves / 'Les Chagniots' 2020 215\\n3144 Pierre Yves Colin-Morey 2022 158\\n3113 Thomas Collardet / 'La Plante des Champs' 2021 135\\n9755 Domaine J.F. Coche-Dury 2021 698\\n9704 Domaine J.F. Coche-Dury 2020 698\\n3214 Benoit Ente 2022 248\\n3291 Antoine Jobard 2022 195\\n3280 Domaine Leflaive 2022 398\\n3240 Bruno Lorenzon / 'Clos Alfred' 2022 120\\n3232 Domaine Paul Pillot 2022 125\\nNUITS-SAINT-GEORGES \\n3124 Robert Chevillon 2021 330\\n3168 Robert Chevillon 2018 335\", 12: \"WHITE  |  FRANCE  |  BURGUNDY \\nBEAUNE\\n3224 Domaine Drouhin / 'Clos des Mouches' 1er cru 2022 640\\nHAUTES CÔTES DE BEAUNE\\n3147 Pierre Yves Colin-Morey / 'Au Bout du Monde' 2022 168\\n3234 François Mikulski 2022 178\\nCORTON-CHARLEMAGNE GRAND CRU\\n3098 Bonneau du Martray 2020 1450\\n3097 Bonneau du Martray 2011 1650\\n9702 Domaine J.F. Coche-Dury 2015 8975\\n3266 Pierre Girardin / 'La Croix' 2020 860\\n9747 Domaine de la Romanée-Conti 2020 9750\\n9717 Pierre Yves Colin-Morey 2018 2250\\nAUXEY-DURESSES\\n3105 Benjamin Leroux 2022 175\\n3176 Domaine Jean-Marc Vincent / 'Les Hautés' 2021 330\\n3236 Domaine Roulot 2022 365\", 13: \"WHITE  |  FRANCE  |  BURGUNDY \\nMEURSAULT\\n3142 Robert Ampeau et Fils / 'Les Perrières' 1er cru 2004 525\\n3170 Bouchard P ère et Fils / 'Les Clous'   2022 225\\n3108 Bouchard P ère et Fils / 'Les Bouchères' 1er cru 2021 395\\n3809 Domaine J.F. Coche-Dury 2021 1450\\n9725 Domaine J.F. Coche-Dury / 'Les Rougeots' 2020 2250\\n9720 Domaine J.F. Coche-Dury / 'Les Chevalières' 2020 2250\\n3190 Domaine Dupont-Fahn / 'Les Clous' 2022 155\\n3180 Arnaud Ente / 'Clos de Ambres' 2019 1950\\n9746 Arnaud Ente / 'Clos de Ambres' 2014 2950\\n3206 Arnaud Ente / 'Les Gouttes d'Or' 1er cru 2019 1725\\n3217 Arnaud Ente / 'Les Petits Charrons' 2019 2250\\n3290 Domaine Jobard-Morey / 'Les Poruzots' 1er cru 2020 430\\n3136 Domaine des Comtes Lafon / 'Clos de la Baronne' 2021 430\\n3225 Domaine Comtes Lafon / 'Porusots' 1er cru 2021 985\\n3143 Domaine Leflaive / 'Sous le Dos d'Ane' 2022 845\\n3294 Domaine François Mikulski 2022 325\\n3292 Domaine François Mikulski / 'Clos du Pré du Manche 2022 368\\n3138 Domaine François Mikulski / 'Poruzots' 1er cru 2022 590\\n3289 Domaine François Mikulski / 'Genevrières' 1er cru 2022 750\\n3195 Domaine François Mikulski / 'Les Charmes - Vieilles Vignes' 1er cru 2022 895\\n3205 Domaine François Mikulski / 'Genevrières' 1er cru 2021 698\\n3287 Domaine Roulot 2022 498\\n3298 Domaine Roulot / 'Les Narvaux' 2022 595\\n3268 Domaine Roulot / 'À Mon Plaisir Clos du Haut Tesson' 2022 695\\n3207 Domaine Roulot / 'Les Tillets' 2022 595\\n9706 Domaine Roulot / 'Les Meix Chavaux' 2022 595\\n9705 Domaine Roulot / 'Les Vireuils' 2022 595\\n3247 Domaine Roulot / 'Clos des Bouchères' 1er cru 2022 995\\n9450 Domaine Roulot / 'Les Porusots' 1er cru 2022 995\\n9451 Domaine Roulot / 'Charmes' 1er cru 2022 995\\n9718 Domaine Roulot / 'Les Tessons - Clos Mon Plaisir' 2012 1250\\n9757 Domaine Roulot / 'Clos des Bouchères' 1er cru 2012 1650\", 14: \"WHITE  |  FRANCE  |  BURGUNDY \\nPULIGNY-MONTRACHET\\n3134 Domaine Roger Belland / 'Les Champs Gains' 1er cru 2021 325\\n3293 Domaine Alain Chavy / 'Les 8 Climats' 2022 275\\n3213 Thomas Collardet / 'Les Enseignières' 2021 395\\n3183 Thomas Collardet / 'Les Nosroyes' 2021 340\\n3186 Benoit Ente 2022 595\\n3199 Benoit Ente 2021 575\\n3200 Benoit Ente / 'La Truffiere' 1er cru 2022 895\\n3237 Pierre Girardin / 'Les Caillerets' 1er cru 2021 590\\n3131 Domaine Hubert Lamy / 'Les Tremblots' 2022 535\\n3182 Domaine Leflaive 2022 650\\n3187 Domaine Leflaive / 'Clavoillon' 1er cru 2022 950\\n3127 Domaine Chavy-Martin / 'Les Folatières' 1er cru 2022 388\\nSAINT-AUBIN\\n3156 Pierre Yves Colin-Morey 2022 228\\n3246 Pierre Yves Colin-Morey / 'Les Champlots' 1er cru 2022 325\\n3179 Pierre Yves Colin-Morey / 'Hommage à Marguerite' 1er cru 2022 310\\n3299 Domaine Hubert Lamy / 'Clos du Meix' 1er cru 2022 380\\n3283 Domaine Hubert Lamy / 'En Remilly' 1er cru 2020 575\\n3233 Domaine Hubert Lamy / 'En Remilly' 1er cru 2018 595\\n3210 Domaine Paul Pillot / 'Les Pitangerets' 1er cru 2022 265\\nCHASSAGNE-MONTRACHET\\n3248 Pierre Yves Colin-Morey / 1er cru 2021 825\\n3150 Benoit Ente / 'Les Houlières' 2022 595\\n3278 Camille Giroud / 'Tonton Marcel' 1er cru 2020 535\\n3239 Domaine Hubert Lamy / 'Macherelles' 1er cru 2021 635\\n3242 Domaine Hubert Lamy / 'Le Concis du Champs' 2021 498\\n3245 Domaine Michel Niellon 2021 350\\n3279 Domaine Michel Niellon / 'La Maltroie' 1er cru 2021 505\\n3100 Domaine Michel Niellon / 'La Maltroie' 1er cru 2020 495\\n3276 Domaine Morey-Coffinet / 'Les Houlières' 2022 250\\n3154 Domaine Jean-Marc Pillot 2022 198\\n3145 Domaine Jean-Marc Pillot / 'Les Chenevottes' 1er cru 2022 275\\n3166 Domaine Jean-Marc Pillot / 'Morgeot-Les Fairendes' 1er cru 2022 288\\n3266 Domaine Jean-Marc Pillot / 'Les Vergers-Clos Saint Marc' 1er cru 2022 525\\n3277 Domaine Paul Pillot 2022 290\\n3173 Domaine Paul Pillot / 'Les Caillerets' 1er cru 2022 695\\n3111 Domaine Paul Pillot / 'Les Mazures' 1er cru 2022 310\\n3140 Domaine Paul Pillot / 'La Romanée' 1er cru 2022 928\\n3197 Domaine Paul Pillot / 'Les Champs Gains' 1er cru 2019 745\", 15: \"WHITE  |  FRANCE  |  BURGUNDY \\nCHEVALIER-MONTRACHET GRAND CRU\\n3178 Bouchard P ère et Fils 2021 1175\\n9719 Domaine Michel Niellon 2020 1925\\n9221 Domaine Michel Niellon 2021 1955\\nCRIOTS BÂTARD-MONTRACHET GRAND CRU\\n9604 Domaine Hubert Lamy 2012 1950\\nBÂTARD-MONTRACHET GRAND CRU\\n9744 Jean-Noël Gagnard 2018 1800\\n3099 Pierre Girardin 2020 1650\\n9701 Domaine Leflaive 2020 2950\\n9762 Domaine Ramonet 2020 2200\\nBIENVENUE-BÂTARD-MONTRACHET GRAND CRU\\n9709 Domaine Leflaive 2020 2650\\nMONTRACHET GRAND CRU\\n9708 Domaine de la Romanée-Conti 2004 14000\\n9734 Domaine Baron Thénard 2015 1650\\nMARANGES\\n3235 Domaine Bachelet-Monnot / 'La Fussière' 1er cru 2022 165\\nBOURGOGNE CÔTE CHALONNAISE\\n3120 Domaine de Villaine / 'Les Clous Aimé' 2022 155\\nRULLY\\n3196 Domaine Dureuil-Janthial 2021 140\\n3137 Domaine Dureuil-Janthial / 'Margoles' 1er cru 2022 198\\n3243 Domaine de Villaine / 'Grésigny' 1er cru 2020 298\\nMONTAGNY\\n3121 Bruno Lorenzon / 'Le May' 2022 155\\n3141 Bruno Lorenzon / 'Le Mont Laurent' 1er cru 2021 220\", 16: \"WHITE  |  FRANCE  |  BURGUNDY \\nMÂCON-VERZÉ\\n3185 Domaine Leflaive 2022 210\\nMÂCON-SOLUTRÉ-POUILLY\\n3267 Domaine Leflaive 2021 205\\nPOUILLY-FUISSÉ\\n3273 Domaine Robert Denogent / 'Vers Cras - Vieilles Vignes' 1er cru 2021 235\\nWHITE  |  FRANCE  |  JURA\\n3485 Peggy et Jean-Pascal Buronfosse / 'Sous le Monçeau' savagnin 2019 150\\n3507 Domaine Dorbon / 'Cuvée des Moyne' savagnin 2017 98\\n3511 Anne et Jean-François Ganevat / 'La Barraque' / Côtes-du-Jura chardonnay 2020 285\\n3508 Domaine Ganevat / 'Montferrand' savagnin 2020 285\\n3501 Nicolas Jacob / 'Les Argales' chardonnay 2018 240\\n9727 Pierre Overnoy / Arbois  chardonnay 2016 1450\\n3480 François Rousset-Martin / 'Oxymore - Sous Voile 4 ans' chardonnay 2018 330\\nVIN JAUNE\\n4112 Bénédicte et Stephane Tissot / 'En Spois'  savagnin  620ml 2014 325\\nWHITE  |  FRANCE  |  SAVOIE\\n3502 Domaine de l'Aitonnement / 'Big Bang' / Vin des Allobroges jacquère -  altesse 2022 115\\n3819 Domaine Belluard / 'Monsieur Gringet' / Vin de Savoie gringet 2020 195\\n3504 Domaine Belluard / 'Les Grandes Jorasses' / Vin de Savoie altesse 2020 185\", 17: \"WHITE  |  FRANCE  |  BORDEAUX\\n3308 Château Cos d'Estournel 2018 430\\n3315 Château Palmer / 'Vin Blanc de Palmer' 2022 498\\n3317 Château Palmer / 'Vin Blanc de Palmer' 2021 498\\n3311 Château Haut-Brion / Pessac-Léognan 2010 3550\\n9605 Château Haut-Brion / Pessac-Léognan 1989 4750\\n3316 Château Pape-Clément / Pessac-Léognan 2016 450\\n3319 Château Pape-Clément / Pessac-Léognan 2005 470\\n3314 Château d'Yquem / 'Y' 2016 680\\n4109 Château d'Yquem / 'Y' 2004 845\\n4106 Château d'Yquem / 'Y' 1988 1250\\n4104 Château d'Yquem / 'Y' 1985 1250\\n4103 Château d'Yquem / 'Y' 1980 1475\\n4102 Château d'Yquem / 'Y' 1979 1475\\n4101 Château d'Yquem / 'Y' 1977 1475\\nWHITE  |  FRANCE  |  RHÔNE \\n3518 Clos de L'Oratoire des Papes / 'Choregies' / Châteauneuf-du-Pape  grenache blanc blend 2021 360\\n3706 Domaine de Marcoux / Châteauneuf-du-Pape marsanne blend 2014 150\\n3818 Monier-Perréol / Saint-Joseph 2023 150\\n3710 André Perret / 'Chery' / Condrieu viognier 2021 330\\n3503 André Perret / Saint-Joseph 2022 188\\n3720 Domaine J.L. Chave / Hermitage marsanne - roussanne 2021 750\\n3700 Marc Sorrel / Hermitage / 'Les Rocules' marsanne 2019 700\\n3821 Clos de Caillou / 'Les Safres' / Châteauneuf-du-Pape grenache blanc - roussane - clairette 2022 185\", 18: \"WHITE  |  FRANCE  |  LANGUEDOC - ROUSSILLON \\n3500 Domaine de la Grange des Pères / Vin de Pays de l'Hérault roussane - marsanne - chardonnay 2018 650\\n3816 Domaine Léon Barral / Vin de France  terret blanc - terret gris - viognier - roussanne 2022 140\\nWHITE  |  PROVENCE\\n1503 Domaine Tempier / Bandol clairette-ugni blanc-bourbelenc-marsanne 2023 148\\n1502 Domaine de Terrebrune / Bandol clairette-ugni blanc-bourboulenc 2022 120\\nPALETTE\\n3820 Château Simone 2020 185\\nWHITE  |  FRANCE  |  CORSICA\\n3812 Domaine Comte Abbatucci / 'General de la Révolution' / Ajaccio carcajolu blanc blend 2014 240\\n3813 Domaine Comte Abbatucci / 'General de la Révolution' / Ajaccio carcajolu blanc blend 2013 230\\n3859 Domaine Comte Abbatucci / 'Diplomate d'Empire' / Ajaccio vermentinu blend 2012 290\", 19: \"WHITE  |  UNITED STATES | CALIFORNIA\\nCHARDONNAY\\n2055 Aubert / 'Cix' / Sonoma Coast chardonnay 2022 320\\n2058 Aubert / 'Larry Hyde and Sons' / Carneros chardonnay 2022 285\\n2057 Aubert / 'Powder House' / Sonoma chardonnay 2022 285\\n2041 Aubert / 'Eastside' / Russian River Valley chardonnay 2022 270\\n2033 Aubert / 'Sugar Shack' / Napa Valley chardonnay 2022 285\\n2056 Aubert / 'UV-SL' / Sonoma chardonnay 2022 270\\n2044 Hyde de Villaine / Carneros 2019 215\\n2040 Kongsgaard / Napa Valley 2021 380\\n2035 Kongsgaard / 'The Judge' / Napa Valley 2021 845\\nSAUVIGNON BLANC\\n2038 Eisele Vineyard 2022 375\\n2032 Knight's Bridge / 'Pont de Chevalier' 2022 125\\nWHITE  |  UNITED STATES | OREGON\\n2060 Bergström / 'Bergström' / Willamette Valley chardonnay 2020 275\\n2039 Cameron / 'Clos Électrique' / Willamette Valley chardonnay 2015 370\\n2034 Cameron / 'Clos Électrique' / Willamette Valley chardonnay 2014 390\\n2031 Cameron / 'Giuliano Bianco' / Willamette Valley white blend 2023 95\", 20: \"ROSÉ\\nFRANCE\\n1510 Alexandre Bonnet / 'La Forêt / Rosé de Riceys 2019 170\\n1537 Pascal Cotat / Sancerre 2022 260\\nOREGON\\n1533 Hope Well / 'Monday's Child' / Eola-Amity Hills  pinot noir 2021 125\", 21: \"RED  |  FRANCE  |  LOIRE\\nANJOU\\n7921 Domaine de la Roche-aux-Moines / 'Rouge de Cépage Cabernet' 1990 850\\nSAUMUR-CHAMPIGNY\\n7916 Domaine de Closiers / 'Les Coudraies' 2021 150\\n7913 Domaine du Collier 2020 235\\n7920 Clos Rougeard / 'Le Clos' 2011 725\\n7926 Clos Rougeard / 'Le Bourg' 2011 1100\\n7914 Clos Rougeard / 'Le Bourg' 2008 1350\\n7929 Clos Rougeard / 'Le Bourg' 2007 1050\\n7933 Clos Rougeard / 'Le Bourg' 2006 1050\\n9569 Clos Rougeard / 'Le Bourg' 2004 1275\\n9557 Clos Rougeard / 'Le Bourg' 2003 1275\\n7901 Clos Rougeard / 'Les Poyeaux' 2011 725\\nCHINON\\n7900 Charles Joguet / 'Cuvée Terroir' 2021 85\", 22: \"RED  |  FRANCE  |  CÔTEAUX CHAMPENOIS\\n6521 Egly-Ouriet / 'Cuvée des Grands Côtes' / Ambonnay pinot noir 2019 625\\n7275 Tarlant / 'Grand Picou-St. Agnan' 2019 325\\nRED  |  FRANCE  |  JURA \\n7545 Domaine Ganevat / ' Billat' pinot noir 2022 460\\n7499 Domaine Labet / 'La Reine' gamay 2020 390\\n7495 Domaine Labet / 'La Reine' gamay 2018 395\\n7512 Domaine Labet / 'Chaseaux' trousseau 2019 425\\n7546 Domaine Labet / 'Metis' gamay - pinot noir 2019 465\\n7501 Domaine du Pélican / 'Béranger' / Arbois trousseau 2022 225\\nRED  |  FRANCE  |  SAVOIE\\n7505 Domaine de l'Aitonnement / 'Nebula' / Vin des Allobroges douce noir - mondeuse 2022 115\\nRED  |  FRANCE  |  BEAUJOLAIS \\n7293 Yvon Métras / 'Printemps' / Fleurie 2023 178\\n7137 Yvon Métras / Moulin-a-Vent 2023 215\", 23: \"RED  |  FRANCE  |  BURGUNDY \\nBOURGOGNE\\n7166 Lucien Boillot 2019 118\\nMARSANNAY\\n7130 Domaine Denis Mortet / 'Les Longeroies' 2022 228\\nFIXIN\\n7145 Domaine Denis Mortet / 'Vieilles Vignes' 2022 245\\nGEVREY-CHAMBERTIN\\n7292 Domaine Louis Boillot 2022 195\\n7223 Claude Dugat 2022 540\\n7136 Gilbert et Christine Felettig / 'La Justice' 2021 270\\n7193 Domaine Rémi Jeanniard / 'Vieilles Vignes' 2022 178\\n7230 Benjamin Leroux 2021 298\\n7272 Domaine Denis Mortet / 'Mes Cinq Terroirs' 2022 325\\n7218 Domaine Denis Mortet / 'Lavaux St. Jacques' 2022 895\\nGRIOTTE-CHAMBERTIN GRAND CRU\\n7202 Domaine Ponsot 1990 2250\\n9640 Domaine Fourrier 1999 2450\\nCHARMES-CHAMBERTIN GRAND CRU\\n7144 Olivier Bernstein 2017 1175\\n9549 Domaine Christophe Roumier 2016 3250\\nCHAMBERTIN GRAND CRU\\n7147 Domaine Drouhin 2002 2350\\n7153 Domaine Drouhin 2001 2250\\n9570 Domaine Mortet 2016 3900\\nCHAMBERTIN-CLOS DE BÈZE GRAND CRU\\n7206 Olivier Bernstein 2018 3200\\n9537 Domaine Henri Rebourseau 2019 1650\", 24: \"RED  |  FRANCE  |  BURGUNDY \\nMOREY SAINT-DENIS \\n7208 Domaine G. Roumier / 'Clos de la Bussiere' 1er cru 2022 630\\n7283 Domaine Taupenot-Merme / 'La Riotte' 1er cru 2017 388\\nCLOS DE LA ROCHE GRAND CRU\\n7150 Domaine Arlaud 2020 800\\nCLOS SAINT-DENIS GRAND CRU\\n7286 Domaine Arlaud 2020 1025\\n9525 Domaine des Chézeaux 2001 1350\\n9505 Domaine des Chézeaux 1999 1400\\nCHAMBOLLE-MUSIGNY\\n7246 Ghislaine Barthod 2021 395\\n7185 Domaine Louis Boillot 2022 245\\n9527 Domaine Joseph Drouhin / 'Les Amoureuses' 1er cru 1999 2350\\n7187 Domaine Faiveley 2022 280\\n7276 Domaine Rémi Jeanniard / 'Vieilles Vignes' 2022 185\\nMUSIGNY GRAND CRU\\n7261 Comte de Vogüé 2022 2670\\nBONNES MARES GRAND CRU\\n7271 Domaine Arlaud 2020 1300\\n7273 Olivier Bernstein 2018 1925\\n9664 Domaine G. Roumier 2022 2750\\n9629 Domaine G. Roumier 2001 4800\\nCLOS DE VOUGEOT GRAND CRU\\n7265 Olivier Bernstein 2018 1350\\n7189 Domaine Jean-Jacques Confuron 2020 750\\n7209 Domaine Jean Grivot 2002 1050\\n7123 Maxime Cheurlin-Noëllat 2019 1150\", 25: \"RED  |  FRANCE  |  BURGUNDY \\nVOSNE-ROMANÉE \\n7298 Domaine Jean Grivot 2022 338\\n7295 Benjamin Leroux 2022 425\\n7135 Domaine Mugneret-Gibourg 2022 525\\n9620 Prieuré-Roch / 'Les Haut Mazières' 1er cru 2014 2550\\n7239 Emmanuel Rouget / 'Les Beaumonts' 1er cru 2018 1245\\n9586 Emmanuel Rouget / 'Cros Parantoux' 1er cru 2020 3750\\n7115 Emmanuel Rouget / 'Cros Parantoux' 1er cru 2018 3825\\n9520 Emmanuel Rouget / 'Cros Parantoux' 1er cru 2015 6100\\nECHÉZEAUX GRAND CRU\\n7154 Domaine Bizot 2017 4750\\n9590 Domaine Jean Grivot 2020 1200\\n7133 Domaine Méo-Camuzet / 'Les Rouges du Bas' 2020 1650\\n9564 Domaine de la Romanée-Conti 1999 6950\\n7219 Emmanuel Rouget 2021 1255\\n7157 Emmanuel Rouget 2020 1925\\n7242 Domaine Jean Tardy / 'Les Treux - Vieilles Vignes' 2018 895\\nGRANDS-ECHÉZEAUX GRAND CRU\\n9661 Georges Noëllat 2019 1775\\n9536 Domaine de la Romanée-Conti 2020 ` 4250\\n9623 Domaine de la Romanée-Conti 2015 4500\\n7219 Emmanuel Rouget 2021 1255\\nROMANÉE-SAINT-VIVANT GRAND CRU\\n9595 Domaine de l'Arlot 2020 1350\\n9524 Domaine Jean-Jacques Confuron 2020 2100\\n7117 Domaine Jean-Jacques Confuron 2019 2100\\n9516 Domaine de la Romanée-Conti 2020 6350\\n9583 Domaine de la Romanée-Conti 2019 7850\\n9504 Domaine de la Romanée-Conti 2017 5950\\n9542 Domaine de la Romanée-Conti 1995 6500\", 26: \"RED  |  FRANCE  |  BURGUNDY \\nRICHEBOURG GRAND CRU\\n9501 Domaine de la Romanée-Conti 2020 6500\\n9580 Domaine de la Romanée-Conti 2007 6750\\n9518 Domaine de la Romanée-Conti 1996 8250\\nNUITS-SAINT-GEORGES\\n7140 Domaine Faiveley / 'Les Montroziers' 2022 238\\n72417 Domaine Jean Grivot / 'Les Charmois' 2022 288\\n7102 Domaine Georges Mugneret-Gibourg / 'Les Chaignots' 1er cru 2022 775\\n7103 Domaine Georges Mugneret-Gibourg / 'Les Chaignots' 1er cru 1995 1195\\n7184 Domaine Taupenot-Merme / 'Les Pruliers' 1er cru 2017 395\\nCORTON GRAND CRU\\n7126 Domaine Méo-Camuzet / 'Les Perrières' 2020 1150\\n7148 Domaine J.F. Coche-Dury 2013 3650\\n7161 Domaine J.F. Coche-Dury / 'Charlotte Dumay - Hospices de Beaune' 2017 4200\\nSAVIGNY-LÈS-BEAUNE \\n7288 Robert Ampeau et Fils / 'Les Lavi ères' 1er cru 2002 225\\n7274 Jane Eyre / 'Aux Vergelesses' 1er  cru 2021 215\\n7134 Emmanuel Rouget / 'Les Lavi ères' 1er cru 2020 685\\nLADOIX\\n7216 Philippe Pacalet 2020 215\", 27: \"RED  |  FRANCE  |  BURGUNDY \\nBEAUNE \\n7101 Bouchard P ère et Fils / 'Grèves - Vigne L'Enfant Jésus' 1er cru 2021 490\\n7170 Gilbert et Christine Felettig / 'Les Champs-Pimonts' 1er cru 2022 268\\n7176 Domaine Antoine Jobard / 'Les Montrevenots' 1er cru 2021 350\\nPOMMARD\\n7143 Domaine Blain-Gagnard 2022 198\\n7116 Domaine Lucien Boillot / 'Les Fremiers' 1er cru 2019 298\\n7173 Domaine Michel Bouzereau / 'Les Cras' 2022 218\\n7138 Domaine Buisson-Charles / 'En Mareau' 2022 250\\n7152 Domaine J.F. Coche-Dury / 'Hospices de Beaune' 2018 3250\\n7287 Genot-Boulanger / 'Clos Blanc' 2014 375\\n7151 Genot-Boulanger / 'Clos Blanc' 2012 375\\n7146 Philippe Pacalet 2020 265\\n7098 Domaine Rougeot / 'Clos des Roses' 2022 295\\nVOLNAY\\n7188 Marquis d'Angerville / 'Les Caillerets' 1er cru 2022 548\\n7168 Marquis d'Angerville / 'Clos des Anges' 1er cru 2022 418\\n7142 Marquis d'Angerville / 'Clos des Ducs' 1er cru 2022 960\\n7190 Marquis d'Angerville / 'Les Taillepieds' 1er cru 2022 548\\n9575 Marquis d'Angerville / 'Clos des Ducs' 1er cru 1990 1750\\n7243 Domaine Ballot-Millot / 'Les Santenots' 1er cru 2022 350\\n7172 Domaine Louis Boillot / 'Les Grands Poisots' 2022 165\\n7132 Domaine Lucien Boillot / 'Les Brouillards' 1er cru 2019 248\\n7181 Domaine Michel Bouzereau / 'Les Aussy' 1er cru 2022 298\\n7186 Clos de la Chapelle / 'Taillepieds' 1er cru 2021 370\\n7180 Domaine J.F. Coche-Dury 2019 1525\\n9663 Domaine J.F. Coche-Dury 1er cru 2020 1525\\n7100 Domaine J.F. Coche-Dury / 'Santenots' 1er cru / Hospices de Beaune 2017 2800\\n7139 Domaine Henri Delagrange et Fils / 'Vieilles Vignes' 2022 185\\n7125 Arnaud Ente / 'Les Santenots du Milieu' 1er cru 2019 895\\n7099 Domaine Michel Lafarge / 'Clos des Chênes' 1er cru 1993 1850\\n7165 Domaine Rougeot / 'Les Santenots - Sans Soufre' 1er cru 2021 398\", 28: \"RED  |  FRANCE  |  BURGUNDY \\nAUXEY-DURESSES\\n7162 Domaine J.F. Coche-Dury 2019 835\\nMEURSAULT\\n9622 Domaine J.F. Coche-Dury 2021 995\\n9671 Domaine J.F. Coche-Dury 2020 975\\nSAINT AUBIN\\n7155 Jean-Claude Bachelet / 'Derrière la Tour' 1er cru 2021 190\\nCHASSAGNE-MONTRACHET\\n7211 Domaine Paul Pillot / 'Clos Saint Jean' 1er cru 2022 315\\nBLAGNY\\n7158 Benjamin Leroux / Pièce Sous le Bois' 1er cru 2020 318\\nMERCUREY\\n7113 Bruno Lorenzon / 'Les Champs Martin - Cuvée Carline' 1er cru 2021 240\", 29: \"RED  |  FRANCE  |  BORDEAUX \\nSAINT-ESTÈPHE\\n7330 Château Calon-Ségur / 3ème Grand Cru Classé 2009 678\\n7372 Château Cos d'Estournel  / 2ème Grand Cru Classé 2016 695\\n7324 Château Lafon-Rochet / 4ème Grand Cru Classé 1986 498\\nPAUILLAC\\n7432 Château d'Armailhac / 5ème Grand Cru Classé 2016 235\\n9627 Château Lafite-Rothschild / 1er Grand Cru Classé 1996 3650\\n9649 Château Lafite-Rothschild / 1er Grand Cru Classé 1990 3475\\n9544 Château Lafite-Rothschild / 1er Grand Cru Classé 1986 3750\\n9676 Château Latour / 1er Grand Cru Classé 2010 3750\\n9679 Château Latour / 1er Grand Cru Classé 2000 3250\\n7440 Château Lynch-Bages 2015 498\\n7331 Château Pontet Canet / 5ème Grand Cru Classé 2014 350\\nSAINT-JULIEN\\n7323 Château Beychevelle / 4ème Grand Cru Classé 2016 410\\n7307 Chäteau Ducru-Beaucaillou / 2ême Grand Cru Classé 2009 1098\\n7300 Chäteau Ducru-Beaucaillou / 2ême Grand Cru Classé 1995 1150\\n7321 Château Léoville-Barton / 2ème Grand Cru Classé 2000 650\\n9576 Château Léoville-Las Cases / 2ème Grand Cru Classé 1986 1700\\n7329 Château Léoville-Poyferré/ 2ème Grand Cru Classé 2014 285\", 30: 'RED  |  FRANCE  |  BORDEAUX \\nMARGAUX\\n7380 Château Giscours / 3ème Grand Cru Classé 2018 250\\n9678 Château Margaux / 1er Grand Cru Classé 2000 3250\\n9589 Château Margaux / 1er Grand Cru Classé 1978 2100\\n7305 Alter Ego de Château Palmer 2019 298\\n7309 Château Palmer / 3ème Grand Cru Classé 1989 1850\\n7375 Château du Tertre / 5ème Grand Cru Classé 2012 165\\nPESSAC-LÉOGNAN \\n7351 Château Haut-Bailly / Grand Cru Classé 2019 375\\n9507 Château Haut-Brion / 1er Grand Cru Classé 1989 7250\\n7412 Château Smith Haut Lafitte / Grand Cru Classé 2014 298', 31: \"RED  |  FRANCE  |  BORDEAUX \\nPOMEROL\\n7444 Château La Conseillante 2000 1150\\n7413 Château Gombaude-Guillot 2015 288\\n7415 Château Lafleur 2019 3250\\n9517 Château Lafleur 2014 1875\\n7369 Château Lafleur 2006 1995\\n9547 Petrus 2012 6750\\n9519 Petrus 2011 5450\\n9585 Petrus 2005 8200\\n9584 Petrus 2003 7300\\n9582 Petrus 2000 11000\\n9592 Petrus 1989 12550\\n9596 Petrus 1979 5330\\n7385 Vieux Château Certan 2014 690\\nSAINT-ÉMILION\\n7376 Château Angélus / Premier Grand Cru Classé A 2014 1065\\n9551 Château Angélus / Premier Grand Cru Classé A 1998 1725\\n9555 Château Angélus / 'Hommage à Elizabeth Bouchet' / Premier Grand Cru Classé A 2018 3095\\n7332 Château Ausone / Premier Grand Cru Classé A 2014 1650\\n7347 Château Canon / Premier Grand Cru Classé B 2012 315\", 32: \"RED  |  FRANCE  |  RHÔNE - NORTH\\nVIN DE FRANCE\\n7730 Christian Lericq / 'Trois Coups' 2021 110\\nCÔTE RÔTIE\\n9632 Domaine Yves Gangloff / 'La Sereine Noir' 2020 735\\n9631 Domaine Yves Gangloff / 'La Sereine Noir' 2016 985\\n7613 Domaine Jamet 2020 465\\n7720 Domaine Jamet 2001 850\\n7618 Michel et Stéphane Ogier / 'La Belle Hélène' 2016 895\\nSAINT-JOSEPH\\n7707 Domaine Coursodon / 'La Sensonne' 2022 195\\n7601 Pierre Gonon 2015 598\\n7605 Pierre Gonon 2014 598\\n7704 Domaine Lionnet 2021 135\\n7752 Monier-Perréol / 'Chätelet'' 2022 155\\n7794 Monier-Perréol / 'Les Serves' 2022 210\\n7795 Monier-Perréol / 'Terre Blanche' 2022 190\\n7792 Monier-Perréol 2022 135\\nCROZES-HERMITAGE\\n7728 Alain Graillot 2021 135\\n7781 Jean-Baptiste Souillard / 'Les Habrards' 2022 145\\nHERMITAGE\\n7788 Bernard Faurie / 'Bessards' 2019 698\\n7710 Bernard Faurie / 'Greffieux-Bessards' 2019 698\\n7741 Domaine Marc Sorrel / 'Le Gréal' 2021 795\\n7757 Domaine Marc Sorrel / 'Le Gréal' 2019 695\", 33: \"RED  |  FRANCE  |  RHÔNE - NORTH\\nCORNAS\\n7709 Thierry Allemand / 'Chaillot' 2020 725\\n7703 Thierry Allemand / 'Chaillot' 2018 785\\n7723 Thierry Allemand / 'Reynard' 2020 845\\n9638 Thierry Allemand / 'Reynard' 2008 1200\\n7341 Thierry Allemand / 'Chaillot' 2015 1100\\n7740 Franck Balthazar / 'Sans Soufre' 2021 325\\n7617 Franck Balthazar / 'Chaillot' 2020 370\\n7761 Auguste Clape 2021 560\\n7790 Domaine du Coulet / 'Brise Cailloux' 2021 165\\n7607 Guillaume Gilles 2021 275\", 34: \"RED  |  FRANCE  |  RHÔNE - SOUTH\\nCÔTES DU RHÔNE\\n9662 Château de Fonsalette / 'Cuvée Syrah' 2009 1150\\n9653 Château de Fonsalette / 'Cuvée Syrah' 1991 1750\\nCÔTE DU VIVARAIS\\n7620 Domaine Gallety / 'La Syrare' syrah 2019 295\\nGIGONDAS\\n7614 Domaine Gour de Chaulé / 'Le Gour' 2021 135\\nCHÂTEAUNEUF-DU-PAPE\\n7705 Famille Ferrando 2020 248\\n7805 Domaine de la Janasse / 'Chaupin' grenache 2020 235\\n7708 Domaine de la Janasse / 'Tradition' grenache blend 2017 135\\n7783 Domaine la Manarine / 'Pied de Baud' grenache 2020 140\\n7787 Domaine de Marcoux / 'Vieilles Vignes' grenache - syrah - mourvèdre 2020 390\\n7596 Château Mont-Redon / 'Le Plateau' grenache - syrah - mourvèdre 2017 495\\n9511 Château Rayas grenache 2009 5350\\n9510 Château Rayas grenache 2008 5400\\n7606 Roger Sabon / 'Le Secret des Sabon' grenache 2013 490\", 35: \"RED  |  FRANCE  |  LANGUEDOC\\n7820 Leon Barral / 'Valinière' / Faugères / Pays d'Hèrault mourvedre - syrah 2020 235\\n7813 Domaine de la Grange des Pères / Pays d'Hérault syrah - mourvèdre - cabernet sauvignon 2018 675\\n7838 Domaine de la Grange des Pères / Pays d'Hérault syrah - mourvèdre - cabernet sauvignon 2014 1100\\nRED  |  FRANCE  |  PROVENCE \\nPALETTE\\n7910 Château Simone 2019 175\\nBANDOL\\n7939 Domaine Tempier 2022 175\\n7902 Domaine Tempier / 'La Cabassaou' 2022 355\\n7917 Domaine Tempier / 'La Tourtine' 2022 245\", 36: \"RED  |  UNITED STATES  |  OREGON\\nPINOT NOIR\\n6509 Cameron / 'Julia' / Dundee Hills / Willamette Valley 2021 275\\n6505 Cameron / 'Abbey Ridge' / Dundee Hills / Willamette Valley 2014 390\\n6500 Cameron / 'Abbey Ridge' / Dundee Hills / Willamette Valley 2011 420\\n6506 Cameron / 'Clos Électrique' / Dundee Hills / Willamette Valley 2015 370\\nRED  |  UNITED STATES  |  CALIFORNIA\\nPINOT NOIR\\n6508 Summer Dreams (Hundred Acre) / 'Twilight' / Sonoma Coast 2020 350\\nSYRAH\\n7092 Cayuse Vineyards / 'En Cerise' / Walla Walla / Washington 2022 335\\n6091 Clos Saron / 'Cuvée Mysterieuse' / Sierra Foothills 2009 250\\n6090 Clos Saron / 'Cuvée Mysterieuse' / Sierra Foothills 2007 275\\n6089 Clos Saron / 'Cuvée Mysterieuse' / Sierra Foothills 2006 295\\n6093 Clos Saron / 'Stone Soup' / Sierra Foothills 2009 300\\n6025 Sean Thackrey / 'Orion - Rossi Vineyard' / St. Helena  syrah blend 2010 570\\n6027 Sean Thackrey / 'Orion - Rossi Vineyard' / St. Helena  syrah blend 1998 695\\n6026 Sean Thackrey / 'Orion - Rossi Vineyard' / St. Helena  syrah blend 1989 695\\nZINFANDEL\\n6087 Ridge / 'York Creek' / Spring Mountain 1983 545\", 37: \"RED  |  UNITED STATES  |  CALIFORNIA\\nNAPA VALLEY CABERNET SAUVIGNON\\n6054 Abreu / 'Capella' cabernet sauvignon - cabernet franc 2006 975\\n6029 Abreu / 'Las Posadas' cabernet sauvignon - cabernet franc 2014 1250\\n6063 Charles Krug 1983 425\\n6041 Charles Krug 1966 525\\n6037 Charles Krug 1964 525\\n6036 Charles Krug 1963 540\\n6033 Charles Krug 1961 540\\n6022 Charles Krug 1960 540\\n6015 Charles Krug 1959 540\\n6014 Charles Krug 1958 530\\n6009 Corison 2003 555\\n6010 Corison 2002 575\\n6110 Corison 2000 650\\n6111 Corison 1998 690\\n6112 Corison 1997 750\\n6006 Colgin 'Cariad'  cabernet sauvignon - merlot - cabernet franc 2005 1100\\n6081 Colgin 'Herb Lamb' 1998 1400\\n6020 Dalla Valla / 'Collina Dalla Valle' 2021 385\\n6083 Dalla Valle 2020 750\\n6075 Dalla Valle / 'Maya' cabernet sauvignon - cabernet franc 2020 1350\\n6085 Dalla Valle / 'Maya' cabernet sauvignon - cabernet franc 2019 1100\\n6525 Diamond Creek Vineyards / 'Gravelly Meadow' 2016 820\\n6545 Diamond Creek Vineyards / 'Red Rock Terrace' 2016 820\\n6007 Diamond Creek Vineyards / 'Red Rock Terrace' 2006 940\\n6565 Diamond Creek Vineyards / 'Volcanic Hill' 2019 795\\n6535 Diamond Creek Vineyards / 'Volcanic Hill' 2016 820\\n6555 Diamond Creek Vineyards / '3 Vineyard' 2013 940\\n6049 Dunn Vineyards / 'Howell Mountain' 2016 575\\n6076 Dunn Vineyards / 'Howell Mountain' 2015 650\\n6585 Dunn Vineyards / 'Howell Mountain' 2014 665\\n6079 Dunn Vineyards / 'Howell Mountain' 2013 675\\n6077 Dunn Vineyards / 'Howell Mountain' 2011 525\\n6013 Dunn Vineyards / 'Howell Mountain' 2004 550\\n6003 Dunn Vineyards / 'Howell Mountain' 2000 625\\n6008 Dunn Vineyards / 'Howell Mountain' 1993 725\\n7095 Dyer / 'Diamond Mountain' 2012 350\", 38: \"RED  |  UNITED STATES  |  CALIFORNIA\\nNAPA VALLEY CABERNET SAUVIGNON continued\\n6140 Eisele Vineyard / 'Estate' 2019 1250\\n6136 Eisele Vineyard / 'Estate' 2018 1195\\n6132 Eisele Vineyard / 'Estate' 2017 1150\\n6100 Eisele Vineyard / 'Estate' 2014 995\\n6150 Grgich Hills / 'Old Vines' 2013 475\\n6605 Heitz Cellar / 'Linda Falls' 2018 640\\n6094 Heitz Cellar / 'Martha's Vineyard' 2018 920\\n6592 Heitz Cellar / 'Trailside' 2018 520\\n6105 Hundred Acre / 'Wraith' 2016 1440\\n6066 Schafer Vineyards / 'Hillside Select' / Stag's Leap District 2018 815\\n6011 Schafer Vineyards / 'Hillside Select' / Stag's Leap District 2016 805\\n6504 Schafer Vineyards / 'Hillside Select' / Stag's Leap District 2015 805\\n6137 Schafer Vineyards / 'Hillside Select' / Stag's Leap District 2014 805\\nSONOMA COUNTY CABERNET SAUVIGNON\\n6570 Knights Bridge / Knights Valley / Calistoga 2019 340\\nSANTA CRUZ MOUNTAINS CABERNET SAUVIGNON \\n6078 Ridge / 'Montebello' 2006 825\\n6065 Ridge / 'Montebello' 2004 875\\n6028 Ridge / 'Montebello' 1993 975\\nRED  |  AROUND THE WORLD\\n8006 Lopez de Heredia / 'Vina Tondonia' / Rioja Gran Reserva / Spain 1968 1850\", 39: \"SWEET WINE\\nFRANCE\\nLOIRE VALLEY\\n3982 Domaine Belargus / Côteaux du Layon 375 ml 2018 120\\n3973 Domaine du Collier / Côteaux de Saumur 2015 380\\n1813 Domaine Les Grandes Vignes / Côteaux du Layon / 'Pont Martin' / Loire  750ml 2015 220\\n3969 Domaine Huet / Vouvray / 'Le Mont' / Loire moelleux 2023 135\\n3974 Domaine Huet / Vouvray / 'Le Mont' / Loire moelleux 2022 130\\n1802 Domaine Huet / Vouvray / 'Cuvée Constance' / Loire  500ml 2016 425\\n3983 Domaine Huet / Vouvray / 'Clos du Bourg' / Loire  moelleux 2006 395\\nBORDEAUX\\n1809 Château Climens / 1er Cru Classé / Sauternes-Barsac 750ml 1988 400\\n1822 Château Climens / 1er Cru Classé / Sauternes-Barsac 750ml 1986 425\\n1823 Château Coutet / 'Cuvée Madame' / 1er Cru Classé / Sauternes-Barsac 750ml 1988 875\\n1806 Château Doisy-Da ëne / 'L'Extravagant' / Sauternes-Barsac 750ml 2013 985\\n1825 Château Filhot  / 2ème Grand Cru Classé / Sauternes 750ml 1990 495\\n1820 Château Gilette / 'Crème de Tête' / Sauternes 750ml 1983 675\\n1831 Château Suduiraut / 1er Cru Classé / 'Crème de Tête' / Sauternes  750ml 1989 825\\n1818 Château d'Yquem / 1er Cru Supérieur / Sauternes 750ml 2021 990\\n1910 Château d'Yquem / 1er Cru Supérieur / Sauternes 375ml 2021 530\\n1840 Château d'Yquem / 1er Cru Supérieur / Sauternes 375ml 2020 525\\n1950 Château d'Yquem / 1er Cru Supérieur / Sauternes 375ml 2016 645\\n1952 Château d'Yquem / 1er Cru Supérieur / Sauternes 375ml 2014 650\\n1945 Château d'Yquem / 1er Cru Supérieur / Sauternes 375ml 2013 660\\n1847 Château d'Yquem / 1er Cru Supérieur / Sauternes 375ml 2010 725\\nROUSSILLON\\n1908 Domaine de Mille Vignes / Rivesaltes Grenat 500ml 2000 245\"}\n"
     ]
    }
   ],
   "source": [
    "print(extract_text_from_pdf(\"menus/coucou-wine.pdf\"))"
   ]
  },
  {
   "cell_type": "markdown",
   "metadata": {},
   "source": [
    "# Create PDF Parser"
   ]
  },
  {
   "cell_type": "code",
   "execution_count": 36,
   "metadata": {},
   "outputs": [],
   "source": [
    "from dotenv import load_dotenv\n",
    "import os\n",
    "\n",
    "load_dotenv(dotenv_path='config.env')\n",
    "google_key = os.getenv('GOOGLE_KEY')\n",
    "\n",
    "if google_key is None:\n",
    "    raise ValueError(\"GOOGLE_KEY not found in .env file\")"
   ]
  },
  {
   "cell_type": "code",
   "execution_count": 37,
   "metadata": {},
   "outputs": [
    {
     "name": "stdout",
     "output_type": "stream",
     "text": [
      "[\n",
      "  {\n",
      "    \"id\": \"1148\",\n",
      "    \"producer\": \"Alexandre Bonnet\",\n",
      "    \"name\": \"'La Geande' 7 Cepages'\",\n",
      "    \"type\": \"Extra Brut\",\n",
      "    \"main_type\": \"SPARKLING\",\n",
      "    \"region\": \"CHAMPAGNE\",\n",
      "    \"country\": \"FRANCE\",\n",
      "    \"vintage\": \"NV\",\n",
      "    \"price\": \"310\",\n",
      "    \"size\": \"bottle\"\n",
      "  },\n",
      "  {\n",
      "    \"id\": \"1147\",\n",
      "    \"producer\": \"Alexandre Filaine\",\n",
      "    \"name\": \"'Cuv\\u00e9e Sp\\u00e9ciale'\",\n",
      "    \"type\": \"Brut\",\n",
      "    \"main_type\": \"SPARKLING\",\n",
      "    \"region\": \"CHAMPAGNE\",\n",
      "    \"country\": \"FRANCE\",\n",
      "    \"vintage\": \"NV\",\n",
      "    \"price\": \"235\",\n",
      "    \"size\": \"bottle\"\n",
      "  },\n",
      "  {\n",
      "    \"id\": \"1100\",\n",
      "    \"producer\": \"Pascal Agrapart\",\n",
      "    \"name\": \"'Min\\u00e8ral'\",\n",
      "    \"type\": \"Extra Brut\",\n",
      "    \"main_type\": \"SPARKLING\",\n",
      "    \"region\": \"CHAMPAGNE\",\n",
      "    \"country\": \"FRANCE\",\n",
      "    \"vintage\": \"2018\",\n",
      "    \"price\": \"350\",\n",
      "    \"size\": \"bottle\"\n",
      "  }\n",
      "]\n"
     ]
    }
   ],
   "source": [
    "import google.generativeai as genai\n",
    "from typing import List, Dict\n",
    "import json\n",
    "import PyPDF2\n",
    "\n",
    "# Made with Claude 3.5\n",
    "\n",
    "class GeminiWineParser:\n",
    "    def __init__(self, api_key: str):\n",
    "        \"\"\"Initialize the Gemini parser with API key\"\"\"\n",
    "        genai.configure(api_key=api_key)\n",
    "        self.model = genai.GenerativeModel('gemini-1.5-pro')\n",
    "        \n",
    "    def parse_wine_list(self, text: str) -> List[Dict]:\n",
    "        \"\"\"\n",
    "        Parse wine list text using Gemini 1.5\n",
    "        \n",
    "        Args:\n",
    "            text (str): The wine list text to parse\n",
    "            \n",
    "        Returns:\n",
    "            List[Dict]: List of parsed wine entries\n",
    "        \"\"\"\n",
    "        prompt = f\"\"\"Extract wine information from the text below into a structured format.\n",
    "        For each wine entry, extract:\n",
    "        - ID number\n",
    "        - Producer\n",
    "        - Wine name\n",
    "        - Type (e.g., NON-VINTAGE, BLANC DE BLANCS)\n",
    "        - Main Type (e.g., SPARKLING, WHITE, RED, ROSE)\n",
    "        - Region\n",
    "        - Vintage (if available)\n",
    "        - Price\n",
    "        - Size (glass, bottle, half bottle, magnum)\n",
    "        \n",
    "        Format as JSON with missing fields as null but get as many wines as possible even if some fields are missing.\n",
    "        \n",
    "        Text to parse:\n",
    "        {text}\n",
    "        \n",
    "        Respond with only valid JSON in this exact format:\n",
    "        {{\n",
    "            \"wines\": [\n",
    "                {{\n",
    "                    \"id\": \"1234\",\n",
    "                    \"producer\": \"Producer Name\",\n",
    "                    \"name\": \"Wine Name\",\n",
    "                    \"type\": \"Wine Type\",\n",
    "                    \"region\": \"Region\",\n",
    "                    \"country\": \"Country\",\n",
    "                    \"vintage\": \"2020\",\n",
    "                    \"price\": \"123\",\n",
    "                    \"size\": \"bottle\"\n",
    "                }}\n",
    "            ]\n",
    "        }}\"\"\"\n",
    "\n",
    "        try:\n",
    "            response = self.model.generate_content(\n",
    "                prompt,\n",
    "                generation_config={\n",
    "                    'temperature': 0.0,  # Use deterministic output\n",
    "                    'top_p': 1.0,\n",
    "                    'top_k': 1\n",
    "                }\n",
    "            )\n",
    "            \n",
    "            # Find the JSON in the response\n",
    "            response_text = response.text\n",
    "            # Look for JSON between ```json and ``` if present\n",
    "            if '```json' in response_text:\n",
    "                json_str = response_text.split('```json')[1].split('```')[0].strip()\n",
    "            else:\n",
    "                json_str = response_text.strip()\n",
    "                \n",
    "            # Parse the JSON response\n",
    "            json_response = json.loads(json_str)\n",
    "            return json_response[\"wines\"]\n",
    "            \n",
    "        except Exception as e:\n",
    "            print(f\"Error parsing wine list: {str(e)}\")\n",
    "            return []\n",
    "\n",
    "    def parse_pdf_and_wine_list(self, pdf_path: str, page_number: int = 1) -> List[Dict]:\n",
    "        \"\"\"\n",
    "        Extract text from PDF and parse wine list\n",
    "        \n",
    "        Args:\n",
    "            pdf_path (str): Path to PDF file\n",
    "            page_number (int): Page number to parse (default: 1)\n",
    "            \n",
    "        Returns:\n",
    "            List[Dict]: List of parsed wine entries\n",
    "        \"\"\"\n",
    "        try:\n",
    "            with open(pdf_path, 'rb') as file:\n",
    "                reader = PyPDF2.PdfReader(file)\n",
    "                if page_number <= len(reader.pages):\n",
    "                    text = reader.pages[page_number - 1].extract_text()\n",
    "                    return self.parse_wine_list(text)\n",
    "                else:\n",
    "                    raise ValueError(f\"PDF has only {len(reader.pages)} pages\")\n",
    "        except Exception as e:\n",
    "            print(f\"Error processing PDF: {str(e)}\")\n",
    "            return []\n",
    "    \n",
    "    def save_to_json(self, wines: List[Dict], output_file: str):\n",
    "        \"\"\"Save parsed wines to a JSON file\"\"\"\n",
    "        try:\n",
    "            with open(output_file, 'w') as f:\n",
    "                json.dump({'wines': wines}, f, indent=2)\n",
    "            print(f\"Successfully saved to {output_file}\")\n",
    "        except Exception as e:\n",
    "            print(f\"Error saving to file: {str(e)}\")\n",
    "\n",
    "# Add API Key\n",
    "parser = GeminiWineParser(google_key)\n",
    "\n",
    "# Example wine list text\n",
    "sample_text = \"\"\"SPARKLING  |  FRANCE  |  CHAMPAGNE\n",
    "NON-VINTAGE\n",
    "1148 Alexandre Bonnet / 'La Geande' 7 Cepages' / Extra Brut NV 310\n",
    "1147 Alexandre Filaine / 'Cuvée Spéciale' / Brut NV 235\n",
    "BLANC DE BLANCS\n",
    "1100 Pascal Agrapart / 'Minèral' / Extra Brut 2018 350\"\"\"\n",
    "\n",
    "# Parse text directly\n",
    "results = parser.parse_wine_list(sample_text)\n",
    "\n",
    "# Print results\n",
    "print(json.dumps(results, indent=2))"
   ]
  },
  {
   "cell_type": "code",
   "execution_count": 38,
   "metadata": {},
   "outputs": [],
   "source": [
    "text = extract_text_from_pdf(\"menus/rake-wine.pdf\")\n",
    "pages = [text[i] for i in text.keys()]"
   ]
  },
  {
   "cell_type": "code",
   "execution_count": 39,
   "metadata": {},
   "outputs": [
    {
     "name": "stderr",
     "output_type": "stream",
     "text": [
      "100%|██████████| 1/1 [00:35<00:00, 35.11s/it]\n"
     ]
    },
    {
     "data": {
      "application/vnd.microsoft.datawrangler.viewer.v0+json": {
       "columns": [
        {
         "name": "index",
         "rawType": "int64",
         "type": "integer"
        },
        {
         "name": "id",
         "rawType": "object",
         "type": "string"
        },
        {
         "name": "producer",
         "rawType": "object",
         "type": "string"
        },
        {
         "name": "name",
         "rawType": "object",
         "type": "string"
        },
        {
         "name": "type",
         "rawType": "object",
         "type": "string"
        },
        {
         "name": "main_type",
         "rawType": "object",
         "type": "string"
        },
        {
         "name": "region",
         "rawType": "object",
         "type": "string"
        },
        {
         "name": "country",
         "rawType": "object",
         "type": "string"
        },
        {
         "name": "vintage",
         "rawType": "object",
         "type": "string"
        },
        {
         "name": "price",
         "rawType": "object",
         "type": "string"
        },
        {
         "name": "size",
         "rawType": "object",
         "type": "string"
        }
       ],
       "conversionMethod": "pd.DataFrame",
       "ref": "a08cc746-ff9b-45a3-8f67-055df4a2d677",
       "rows": [
        [
         "0",
         null,
         "Chëpìka",
         "Petnat Catawba",
         "PETNAT",
         "WHITE",
         "Finger Lakes",
         "USA",
         "2021",
         "64",
         "bottle"
        ],
        [
         "1",
         null,
         "La Ferme du Vert",
         "L' Angelou Blanc Bulle",
         null,
         "WHITE",
         "Southwest",
         "FRA",
         "2021",
         "56",
         "bottle"
        ],
        [
         "2",
         null,
         "Guiborat",
         "Prisme - Blanc de Blancs",
         "BLANC DE BLANCS, GRAND CRU EXTRA BRUT",
         "SPARKLING",
         "Champagne",
         "FRA",
         null,
         "144",
         "bottle"
        ],
        [
         "3",
         null,
         "Pierre Moncuit",
         "Delos Blanc de Blancs",
         "BLANC DE BLANCS, GRAND CRU BRUT",
         "SPARKLING",
         "Champagne",
         "FRA",
         null,
         "117",
         "bottle"
        ],
        [
         "4",
         null,
         "Robert Moncuit",
         "Millésime Blanc de Blancs",
         "BLANC DE BLANCS, GRAND CRU BRUT",
         "SPARKLING",
         "Champagne",
         "FRA",
         "2013",
         "196",
         "bottle"
        ],
        [
         "5",
         null,
         "Azienda Agricola Monban",
         "Questo Neanche",
         "COL FONDO",
         "SPARKLING",
         "Veneto",
         "ITA",
         "2021",
         "45",
         "bottle"
        ],
        [
         "6",
         null,
         "Diletta Tonello",
         "Marachelle",
         "FRIZZANTE",
         "WHITE",
         "Veneto",
         "ITA",
         null,
         "53",
         "bottle"
        ],
        [
         "7",
         null,
         "Aldo Viola",
         "Brutto",
         null,
         "WHITE",
         "Sicily",
         "ITA",
         "2022",
         "49",
         "bottle"
        ],
        [
         "8",
         null,
         "Joao Pato",
         "Ducking",
         "PETNAT",
         "WHITE",
         "Bairrada",
         "PRT",
         "2022",
         "61",
         "bottle"
        ],
        [
         "9",
         null,
         "Familie Bauer",
         "Unsprung",
         "PETNAT",
         "WHITE",
         "Wagram",
         "AUT",
         "2021",
         "52",
         "bottle"
        ],
        [
         "10",
         null,
         "Annesanti",
         "Raspato",
         "FRIZZANTE ROSATO",
         "ROSE",
         "Umbria",
         "ITA",
         "2020",
         "57",
         "bottle"
        ],
        [
         "11",
         null,
         "Laherte Frères",
         "Les Beaudiers",
         "ROSÉ DE SAIGNÉE",
         "ROSE",
         "Champagne",
         "FRA",
         null,
         "166",
         "bottle"
        ],
        [
         "12",
         null,
         "Weszeli",
         "We Love Petnat",
         "PETNAT",
         "ROSE",
         "Kamptal",
         "AUT",
         "2020",
         "57",
         "bottle"
        ],
        [
         "13",
         null,
         "Sidonio de Sousa",
         "Rose Brut Nature",
         "BRUT NATURE",
         "ROSE",
         "Bairrada",
         "PRT",
         null,
         "46",
         "bottle"
        ],
        [
         "14",
         null,
         "Filipa Pato",
         "3B",
         "METODO TRADICIONAL",
         "ROSE",
         "Bairrada",
         "PRT",
         null,
         "46",
         "bottle"
        ],
        [
         "15",
         null,
         "Josep Foraster",
         "Lilla",
         "METODE ANCESTRAL",
         "ROSE",
         "Catalonia",
         "ESP",
         null,
         null,
         "bottle"
        ],
        [
         "16",
         null,
         "Nevio Scala",
         "Gargante",
         null,
         "ORANGE",
         "Veneto",
         "ITA",
         null,
         "53",
         "bottle"
        ],
        [
         "17",
         null,
         "Folicello",
         "Il Rosso",
         null,
         "RED",
         "Emilia Romagna",
         "ITA",
         null,
         "44",
         "bottle"
        ]
       ],
       "shape": {
        "columns": 10,
        "rows": 18
       }
      },
      "text/html": [
       "<div>\n",
       "<style scoped>\n",
       "    .dataframe tbody tr th:only-of-type {\n",
       "        vertical-align: middle;\n",
       "    }\n",
       "\n",
       "    .dataframe tbody tr th {\n",
       "        vertical-align: top;\n",
       "    }\n",
       "\n",
       "    .dataframe thead th {\n",
       "        text-align: right;\n",
       "    }\n",
       "</style>\n",
       "<table border=\"1\" class=\"dataframe\">\n",
       "  <thead>\n",
       "    <tr style=\"text-align: right;\">\n",
       "      <th></th>\n",
       "      <th>id</th>\n",
       "      <th>producer</th>\n",
       "      <th>name</th>\n",
       "      <th>type</th>\n",
       "      <th>main_type</th>\n",
       "      <th>region</th>\n",
       "      <th>country</th>\n",
       "      <th>vintage</th>\n",
       "      <th>price</th>\n",
       "      <th>size</th>\n",
       "    </tr>\n",
       "  </thead>\n",
       "  <tbody>\n",
       "    <tr>\n",
       "      <th>0</th>\n",
       "      <td>None</td>\n",
       "      <td>Chëpìka</td>\n",
       "      <td>Petnat Catawba</td>\n",
       "      <td>PETNAT</td>\n",
       "      <td>WHITE</td>\n",
       "      <td>Finger Lakes</td>\n",
       "      <td>USA</td>\n",
       "      <td>2021</td>\n",
       "      <td>64</td>\n",
       "      <td>bottle</td>\n",
       "    </tr>\n",
       "    <tr>\n",
       "      <th>1</th>\n",
       "      <td>None</td>\n",
       "      <td>La Ferme du Vert</td>\n",
       "      <td>L' Angelou Blanc Bulle</td>\n",
       "      <td>None</td>\n",
       "      <td>WHITE</td>\n",
       "      <td>Southwest</td>\n",
       "      <td>FRA</td>\n",
       "      <td>2021</td>\n",
       "      <td>56</td>\n",
       "      <td>bottle</td>\n",
       "    </tr>\n",
       "    <tr>\n",
       "      <th>2</th>\n",
       "      <td>None</td>\n",
       "      <td>Guiborat</td>\n",
       "      <td>Prisme - Blanc de Blancs</td>\n",
       "      <td>BLANC DE BLANCS, GRAND CRU EXTRA BRUT</td>\n",
       "      <td>SPARKLING</td>\n",
       "      <td>Champagne</td>\n",
       "      <td>FRA</td>\n",
       "      <td>None</td>\n",
       "      <td>144</td>\n",
       "      <td>bottle</td>\n",
       "    </tr>\n",
       "    <tr>\n",
       "      <th>3</th>\n",
       "      <td>None</td>\n",
       "      <td>Pierre Moncuit</td>\n",
       "      <td>Delos Blanc de Blancs</td>\n",
       "      <td>BLANC DE BLANCS, GRAND CRU BRUT</td>\n",
       "      <td>SPARKLING</td>\n",
       "      <td>Champagne</td>\n",
       "      <td>FRA</td>\n",
       "      <td>None</td>\n",
       "      <td>117</td>\n",
       "      <td>bottle</td>\n",
       "    </tr>\n",
       "    <tr>\n",
       "      <th>4</th>\n",
       "      <td>None</td>\n",
       "      <td>Robert Moncuit</td>\n",
       "      <td>Millésime Blanc de Blancs</td>\n",
       "      <td>BLANC DE BLANCS, GRAND CRU BRUT</td>\n",
       "      <td>SPARKLING</td>\n",
       "      <td>Champagne</td>\n",
       "      <td>FRA</td>\n",
       "      <td>2013</td>\n",
       "      <td>196</td>\n",
       "      <td>bottle</td>\n",
       "    </tr>\n",
       "    <tr>\n",
       "      <th>5</th>\n",
       "      <td>None</td>\n",
       "      <td>Azienda Agricola Monban</td>\n",
       "      <td>Questo Neanche</td>\n",
       "      <td>COL FONDO</td>\n",
       "      <td>SPARKLING</td>\n",
       "      <td>Veneto</td>\n",
       "      <td>ITA</td>\n",
       "      <td>2021</td>\n",
       "      <td>45</td>\n",
       "      <td>bottle</td>\n",
       "    </tr>\n",
       "    <tr>\n",
       "      <th>6</th>\n",
       "      <td>None</td>\n",
       "      <td>Diletta Tonello</td>\n",
       "      <td>Marachelle</td>\n",
       "      <td>FRIZZANTE</td>\n",
       "      <td>WHITE</td>\n",
       "      <td>Veneto</td>\n",
       "      <td>ITA</td>\n",
       "      <td>None</td>\n",
       "      <td>53</td>\n",
       "      <td>bottle</td>\n",
       "    </tr>\n",
       "    <tr>\n",
       "      <th>7</th>\n",
       "      <td>None</td>\n",
       "      <td>Aldo Viola</td>\n",
       "      <td>Brutto</td>\n",
       "      <td>None</td>\n",
       "      <td>WHITE</td>\n",
       "      <td>Sicily</td>\n",
       "      <td>ITA</td>\n",
       "      <td>2022</td>\n",
       "      <td>49</td>\n",
       "      <td>bottle</td>\n",
       "    </tr>\n",
       "    <tr>\n",
       "      <th>8</th>\n",
       "      <td>None</td>\n",
       "      <td>Joao Pato</td>\n",
       "      <td>Ducking</td>\n",
       "      <td>PETNAT</td>\n",
       "      <td>WHITE</td>\n",
       "      <td>Bairrada</td>\n",
       "      <td>PRT</td>\n",
       "      <td>2022</td>\n",
       "      <td>61</td>\n",
       "      <td>bottle</td>\n",
       "    </tr>\n",
       "    <tr>\n",
       "      <th>9</th>\n",
       "      <td>None</td>\n",
       "      <td>Familie Bauer</td>\n",
       "      <td>Unsprung</td>\n",
       "      <td>PETNAT</td>\n",
       "      <td>WHITE</td>\n",
       "      <td>Wagram</td>\n",
       "      <td>AUT</td>\n",
       "      <td>2021</td>\n",
       "      <td>52</td>\n",
       "      <td>bottle</td>\n",
       "    </tr>\n",
       "    <tr>\n",
       "      <th>10</th>\n",
       "      <td>None</td>\n",
       "      <td>Annesanti</td>\n",
       "      <td>Raspato</td>\n",
       "      <td>FRIZZANTE ROSATO</td>\n",
       "      <td>ROSE</td>\n",
       "      <td>Umbria</td>\n",
       "      <td>ITA</td>\n",
       "      <td>2020</td>\n",
       "      <td>57</td>\n",
       "      <td>bottle</td>\n",
       "    </tr>\n",
       "    <tr>\n",
       "      <th>11</th>\n",
       "      <td>None</td>\n",
       "      <td>Laherte Frères</td>\n",
       "      <td>Les Beaudiers</td>\n",
       "      <td>ROSÉ DE SAIGNÉE</td>\n",
       "      <td>ROSE</td>\n",
       "      <td>Champagne</td>\n",
       "      <td>FRA</td>\n",
       "      <td>None</td>\n",
       "      <td>166</td>\n",
       "      <td>bottle</td>\n",
       "    </tr>\n",
       "    <tr>\n",
       "      <th>12</th>\n",
       "      <td>None</td>\n",
       "      <td>Weszeli</td>\n",
       "      <td>We Love Petnat</td>\n",
       "      <td>PETNAT</td>\n",
       "      <td>ROSE</td>\n",
       "      <td>Kamptal</td>\n",
       "      <td>AUT</td>\n",
       "      <td>2020</td>\n",
       "      <td>57</td>\n",
       "      <td>bottle</td>\n",
       "    </tr>\n",
       "    <tr>\n",
       "      <th>13</th>\n",
       "      <td>None</td>\n",
       "      <td>Sidonio de Sousa</td>\n",
       "      <td>Rose Brut Nature</td>\n",
       "      <td>BRUT NATURE</td>\n",
       "      <td>ROSE</td>\n",
       "      <td>Bairrada</td>\n",
       "      <td>PRT</td>\n",
       "      <td>None</td>\n",
       "      <td>46</td>\n",
       "      <td>bottle</td>\n",
       "    </tr>\n",
       "    <tr>\n",
       "      <th>14</th>\n",
       "      <td>None</td>\n",
       "      <td>Filipa Pato</td>\n",
       "      <td>3B</td>\n",
       "      <td>METODO TRADICIONAL</td>\n",
       "      <td>ROSE</td>\n",
       "      <td>Bairrada</td>\n",
       "      <td>PRT</td>\n",
       "      <td>None</td>\n",
       "      <td>46</td>\n",
       "      <td>bottle</td>\n",
       "    </tr>\n",
       "    <tr>\n",
       "      <th>15</th>\n",
       "      <td>None</td>\n",
       "      <td>Josep Foraster</td>\n",
       "      <td>Lilla</td>\n",
       "      <td>METODE ANCESTRAL</td>\n",
       "      <td>ROSE</td>\n",
       "      <td>Catalonia</td>\n",
       "      <td>ESP</td>\n",
       "      <td>None</td>\n",
       "      <td>None</td>\n",
       "      <td>bottle</td>\n",
       "    </tr>\n",
       "    <tr>\n",
       "      <th>16</th>\n",
       "      <td>None</td>\n",
       "      <td>Nevio Scala</td>\n",
       "      <td>Gargante</td>\n",
       "      <td>None</td>\n",
       "      <td>ORANGE</td>\n",
       "      <td>Veneto</td>\n",
       "      <td>ITA</td>\n",
       "      <td>None</td>\n",
       "      <td>53</td>\n",
       "      <td>bottle</td>\n",
       "    </tr>\n",
       "    <tr>\n",
       "      <th>17</th>\n",
       "      <td>None</td>\n",
       "      <td>Folicello</td>\n",
       "      <td>Il Rosso</td>\n",
       "      <td>None</td>\n",
       "      <td>RED</td>\n",
       "      <td>Emilia Romagna</td>\n",
       "      <td>ITA</td>\n",
       "      <td>None</td>\n",
       "      <td>44</td>\n",
       "      <td>bottle</td>\n",
       "    </tr>\n",
       "  </tbody>\n",
       "</table>\n",
       "</div>"
      ],
      "text/plain": [
       "      id                 producer                       name  \\\n",
       "0   None                  Chëpìka             Petnat Catawba   \n",
       "1   None         La Ferme du Vert     L' Angelou Blanc Bulle   \n",
       "2   None                 Guiborat   Prisme - Blanc de Blancs   \n",
       "3   None           Pierre Moncuit      Delos Blanc de Blancs   \n",
       "4   None           Robert Moncuit  Millésime Blanc de Blancs   \n",
       "5   None  Azienda Agricola Monban             Questo Neanche   \n",
       "6   None          Diletta Tonello                 Marachelle   \n",
       "7   None               Aldo Viola                     Brutto   \n",
       "8   None                Joao Pato                    Ducking   \n",
       "9   None            Familie Bauer                   Unsprung   \n",
       "10  None                Annesanti                    Raspato   \n",
       "11  None           Laherte Frères              Les Beaudiers   \n",
       "12  None                  Weszeli             We Love Petnat   \n",
       "13  None         Sidonio de Sousa           Rose Brut Nature   \n",
       "14  None              Filipa Pato                         3B   \n",
       "15  None           Josep Foraster                      Lilla   \n",
       "16  None              Nevio Scala                   Gargante   \n",
       "17  None                Folicello                   Il Rosso   \n",
       "\n",
       "                                     type  main_type          region country  \\\n",
       "0                                  PETNAT      WHITE    Finger Lakes     USA   \n",
       "1                                    None      WHITE       Southwest     FRA   \n",
       "2   BLANC DE BLANCS, GRAND CRU EXTRA BRUT  SPARKLING       Champagne     FRA   \n",
       "3         BLANC DE BLANCS, GRAND CRU BRUT  SPARKLING       Champagne     FRA   \n",
       "4         BLANC DE BLANCS, GRAND CRU BRUT  SPARKLING       Champagne     FRA   \n",
       "5                               COL FONDO  SPARKLING          Veneto     ITA   \n",
       "6                               FRIZZANTE      WHITE          Veneto     ITA   \n",
       "7                                    None      WHITE          Sicily     ITA   \n",
       "8                                  PETNAT      WHITE        Bairrada     PRT   \n",
       "9                                  PETNAT      WHITE          Wagram     AUT   \n",
       "10                       FRIZZANTE ROSATO       ROSE          Umbria     ITA   \n",
       "11                        ROSÉ DE SAIGNÉE       ROSE       Champagne     FRA   \n",
       "12                                 PETNAT       ROSE         Kamptal     AUT   \n",
       "13                            BRUT NATURE       ROSE        Bairrada     PRT   \n",
       "14                     METODO TRADICIONAL       ROSE        Bairrada     PRT   \n",
       "15                       METODE ANCESTRAL       ROSE       Catalonia     ESP   \n",
       "16                                   None     ORANGE          Veneto     ITA   \n",
       "17                                   None        RED  Emilia Romagna     ITA   \n",
       "\n",
       "   vintage price    size  \n",
       "0     2021    64  bottle  \n",
       "1     2021    56  bottle  \n",
       "2     None   144  bottle  \n",
       "3     None   117  bottle  \n",
       "4     2013   196  bottle  \n",
       "5     2021    45  bottle  \n",
       "6     None    53  bottle  \n",
       "7     2022    49  bottle  \n",
       "8     2022    61  bottle  \n",
       "9     2021    52  bottle  \n",
       "10    2020    57  bottle  \n",
       "11    None   166  bottle  \n",
       "12    2020    57  bottle  \n",
       "13    None    46  bottle  \n",
       "14    None    46  bottle  \n",
       "15    None  None  bottle  \n",
       "16    None    53  bottle  \n",
       "17    None    44  bottle  "
      ]
     },
     "execution_count": 39,
     "metadata": {},
     "output_type": "execute_result"
    }
   ],
   "source": [
    "from tqdm import tqdm\n",
    "\n",
    "parser = GeminiWineParser(google_key)\n",
    "\n",
    "\n",
    "# Try with full page\n",
    "for page in tqdm(pages[:1]):\n",
    "    results = parser.parse_wine_list(page)\n",
    "    \n",
    "    \n",
    "# Create dataframe\n",
    "df = pd.DataFrame(results)\n",
    "df"
   ]
  },
  {
   "cell_type": "code",
   "execution_count": 40,
   "metadata": {},
   "outputs": [
    {
     "data": {
      "text/plain": [
       "PETNAT                                   4\n",
       "BLANC DE BLANCS, GRAND CRU BRUT          2\n",
       "BLANC DE BLANCS, GRAND CRU EXTRA BRUT    1\n",
       "COL FONDO                                1\n",
       "FRIZZANTE                                1\n",
       "FRIZZANTE ROSATO                         1\n",
       "ROSÉ DE SAIGNÉE                          1\n",
       "BRUT NATURE                              1\n",
       "METODO TRADICIONAL                       1\n",
       "METODE ANCESTRAL                         1\n",
       "Name: type, dtype: int64"
      ]
     },
     "execution_count": 40,
     "metadata": {},
     "output_type": "execute_result"
    }
   ],
   "source": [
    "df.type.value_counts()"
   ]
  },
  {
   "cell_type": "code",
   "execution_count": 22,
   "metadata": {},
   "outputs": [
    {
     "name": "stdout",
     "output_type": "stream",
     "text": [
      "Getting data for ['FRA' 'USA' 'DEU' 'SVN' 'CHL' 'ESP'] countries\n"
     ]
    },
    {
     "data": {
      "application/vnd.microsoft.datawrangler.viewer.v0+json": {
       "columns": [
        {
         "name": "index",
         "rawType": "int64",
         "type": "integer"
        },
        {
         "name": "id",
         "rawType": "object",
         "type": "string"
        },
        {
         "name": "producer",
         "rawType": "object",
         "type": "string"
        },
        {
         "name": "name",
         "rawType": "object",
         "type": "string"
        },
        {
         "name": "type",
         "rawType": "object",
         "type": "string"
        },
        {
         "name": "main_type",
         "rawType": "object",
         "type": "string"
        },
        {
         "name": "region",
         "rawType": "object",
         "type": "string"
        },
        {
         "name": "country",
         "rawType": "object",
         "type": "string"
        },
        {
         "name": "vintage",
         "rawType": "object",
         "type": "string"
        },
        {
         "name": "price",
         "rawType": "object",
         "type": "string"
        },
        {
         "name": "country_code",
         "rawType": "float64",
         "type": "float"
        }
       ],
       "conversionMethod": "pd.DataFrame",
       "ref": "b54c25f3-057c-4934-81e0-3770f14deab8",
       "rows": [
        [
         "0",
         null,
         "Pierre Gimonnet & Fils",
         "\"BdB\" 1er Cru Brut",
         "BLANC DE BLANCS NV",
         "SPARKLING",
         "Champagne",
         "FRA",
         null,
         "68",
         null
        ],
        [
         "1",
         null,
         "Ployez-Jacquemart",
         "Extra Brut Rosé",
         "ROSÉ NV",
         "SPARKLING",
         "Champagne",
         "FRA",
         null,
         "62",
         null
        ],
        [
         "2",
         null,
         "Domaine Moreau-Naudet",
         "Chablis",
         "CHARDONNAY",
         "WHITE",
         "Burgundy",
         "FRA",
         "2020",
         "52",
         null
        ],
        [
         "3",
         null,
         "Domaine Roger & Didier Raimbault",
         "Sancerre",
         "SAUVIGNON BLANC",
         "WHITE",
         "Loire",
         "FRA",
         "2020",
         "33",
         null
        ],
        [
         "4",
         null,
         "Kistler",
         "\"Les Noisetiers\", Sonoma Coast",
         "CHARDONNAY",
         "WHITE",
         "California",
         "USA",
         "2020",
         "71",
         null
        ],
        [
         "5",
         null,
         "Dashe Cellars",
         "Dry Creek Valley Zinfandel",
         "ZINFANDEL",
         "RED",
         "California",
         "USA",
         "2017",
         "41",
         null
        ],
        [
         "6",
         null,
         "Corison",
         "Napa Valley Cabernet Sauvignon",
         "CABERNET SAUVIGNON",
         "RED",
         "California",
         "USA",
         "2018",
         "116",
         null
        ],
        [
         "7",
         null,
         "O. Horiot",
         "\"Métisse-Les Riceys\", Brut Nature",
         "BRUT NATURE",
         "SPARKLING",
         "Champagne",
         "FRA",
         null,
         "550",
         null
        ],
        [
         "8",
         null,
         "Domaine Benoit Courault",
         "\"Gilbourg\", VDF",
         "CHENIN BLANC",
         "WHITE",
         "Loire Valley",
         "FRA",
         "2020",
         "180",
         null
        ],
        [
         "9",
         null,
         "Weingut J. J. Prüm",
         "\"Graacher Himmelreich\", Kabinett",
         "RIESLING",
         "WHITE",
         "Mosel",
         "DEU",
         "2020",
         "254",
         null
        ],
        [
         "10",
         null,
         "Sébastien Riffault",
         "\"Auksinis Maceration\", Sancerre",
         "SAUVIGNON BLANC",
         "ORANGE",
         "Loire Valley",
         "FRA",
         "2018",
         "187",
         null
        ],
        [
         "11",
         null,
         "Čotar",
         "Kras Malvazija",
         "MALVASIA",
         "ORANGE",
         "Primorska",
         "SVN",
         "2019",
         "178",
         null
        ],
        [
         "12",
         null,
         "Roberto Henriquez",
         "\"Super Estrella\"",
         "CORINTO/CHASSELAS",
         "ORANGE",
         "Itata Valley",
         "CHL",
         "2020",
         "93",
         null
        ],
        [
         "13",
         null,
         "Chateau Moulin de Tricot",
         "Margaux",
         "CABERNET SAUVIGNON BLEND",
         "RED",
         "Bordeaux",
         "FRA",
         "2015",
         "192",
         null
        ],
        [
         "14",
         null,
         "Equipo Navazos",
         "\"Casa del Inca\", PX",
         "PEDRO XIMENEZ",
         "DESSERT",
         "Jerez",
         "ESP",
         "2021",
         "98",
         null
        ]
       ],
       "shape": {
        "columns": 10,
        "rows": 15
       }
      },
      "text/html": [
       "<div>\n",
       "<style scoped>\n",
       "    .dataframe tbody tr th:only-of-type {\n",
       "        vertical-align: middle;\n",
       "    }\n",
       "\n",
       "    .dataframe tbody tr th {\n",
       "        vertical-align: top;\n",
       "    }\n",
       "\n",
       "    .dataframe thead th {\n",
       "        text-align: right;\n",
       "    }\n",
       "</style>\n",
       "<table border=\"1\" class=\"dataframe\">\n",
       "  <thead>\n",
       "    <tr style=\"text-align: right;\">\n",
       "      <th></th>\n",
       "      <th>id</th>\n",
       "      <th>producer</th>\n",
       "      <th>name</th>\n",
       "      <th>type</th>\n",
       "      <th>main_type</th>\n",
       "      <th>region</th>\n",
       "      <th>country</th>\n",
       "      <th>vintage</th>\n",
       "      <th>price</th>\n",
       "      <th>country_code</th>\n",
       "    </tr>\n",
       "  </thead>\n",
       "  <tbody>\n",
       "    <tr>\n",
       "      <th>0</th>\n",
       "      <td>None</td>\n",
       "      <td>Pierre Gimonnet &amp; Fils</td>\n",
       "      <td>\"BdB\" 1er Cru Brut</td>\n",
       "      <td>BLANC DE BLANCS NV</td>\n",
       "      <td>SPARKLING</td>\n",
       "      <td>Champagne</td>\n",
       "      <td>FRA</td>\n",
       "      <td>None</td>\n",
       "      <td>68</td>\n",
       "      <td>NaN</td>\n",
       "    </tr>\n",
       "    <tr>\n",
       "      <th>1</th>\n",
       "      <td>None</td>\n",
       "      <td>Ployez-Jacquemart</td>\n",
       "      <td>Extra Brut Rosé</td>\n",
       "      <td>ROSÉ NV</td>\n",
       "      <td>SPARKLING</td>\n",
       "      <td>Champagne</td>\n",
       "      <td>FRA</td>\n",
       "      <td>None</td>\n",
       "      <td>62</td>\n",
       "      <td>NaN</td>\n",
       "    </tr>\n",
       "    <tr>\n",
       "      <th>2</th>\n",
       "      <td>None</td>\n",
       "      <td>Domaine Moreau-Naudet</td>\n",
       "      <td>Chablis</td>\n",
       "      <td>CHARDONNAY</td>\n",
       "      <td>WHITE</td>\n",
       "      <td>Burgundy</td>\n",
       "      <td>FRA</td>\n",
       "      <td>2020</td>\n",
       "      <td>52</td>\n",
       "      <td>NaN</td>\n",
       "    </tr>\n",
       "    <tr>\n",
       "      <th>3</th>\n",
       "      <td>None</td>\n",
       "      <td>Domaine Roger &amp; Didier Raimbault</td>\n",
       "      <td>Sancerre</td>\n",
       "      <td>SAUVIGNON BLANC</td>\n",
       "      <td>WHITE</td>\n",
       "      <td>Loire</td>\n",
       "      <td>FRA</td>\n",
       "      <td>2020</td>\n",
       "      <td>33</td>\n",
       "      <td>NaN</td>\n",
       "    </tr>\n",
       "    <tr>\n",
       "      <th>4</th>\n",
       "      <td>None</td>\n",
       "      <td>Kistler</td>\n",
       "      <td>\"Les Noisetiers\", Sonoma Coast</td>\n",
       "      <td>CHARDONNAY</td>\n",
       "      <td>WHITE</td>\n",
       "      <td>California</td>\n",
       "      <td>USA</td>\n",
       "      <td>2020</td>\n",
       "      <td>71</td>\n",
       "      <td>NaN</td>\n",
       "    </tr>\n",
       "    <tr>\n",
       "      <th>5</th>\n",
       "      <td>None</td>\n",
       "      <td>Dashe Cellars</td>\n",
       "      <td>Dry Creek Valley Zinfandel</td>\n",
       "      <td>ZINFANDEL</td>\n",
       "      <td>RED</td>\n",
       "      <td>California</td>\n",
       "      <td>USA</td>\n",
       "      <td>2017</td>\n",
       "      <td>41</td>\n",
       "      <td>NaN</td>\n",
       "    </tr>\n",
       "    <tr>\n",
       "      <th>6</th>\n",
       "      <td>None</td>\n",
       "      <td>Corison</td>\n",
       "      <td>Napa Valley Cabernet Sauvignon</td>\n",
       "      <td>CABERNET SAUVIGNON</td>\n",
       "      <td>RED</td>\n",
       "      <td>California</td>\n",
       "      <td>USA</td>\n",
       "      <td>2018</td>\n",
       "      <td>116</td>\n",
       "      <td>NaN</td>\n",
       "    </tr>\n",
       "    <tr>\n",
       "      <th>7</th>\n",
       "      <td>None</td>\n",
       "      <td>O. Horiot</td>\n",
       "      <td>\"Métisse-Les Riceys\", Brut Nature</td>\n",
       "      <td>BRUT NATURE</td>\n",
       "      <td>SPARKLING</td>\n",
       "      <td>Champagne</td>\n",
       "      <td>FRA</td>\n",
       "      <td>None</td>\n",
       "      <td>550</td>\n",
       "      <td>NaN</td>\n",
       "    </tr>\n",
       "    <tr>\n",
       "      <th>8</th>\n",
       "      <td>None</td>\n",
       "      <td>Domaine Benoit Courault</td>\n",
       "      <td>\"Gilbourg\", VDF</td>\n",
       "      <td>CHENIN BLANC</td>\n",
       "      <td>WHITE</td>\n",
       "      <td>Loire Valley</td>\n",
       "      <td>FRA</td>\n",
       "      <td>2020</td>\n",
       "      <td>180</td>\n",
       "      <td>NaN</td>\n",
       "    </tr>\n",
       "    <tr>\n",
       "      <th>9</th>\n",
       "      <td>None</td>\n",
       "      <td>Weingut J. J. Prüm</td>\n",
       "      <td>\"Graacher Himmelreich\", Kabinett</td>\n",
       "      <td>RIESLING</td>\n",
       "      <td>WHITE</td>\n",
       "      <td>Mosel</td>\n",
       "      <td>DEU</td>\n",
       "      <td>2020</td>\n",
       "      <td>254</td>\n",
       "      <td>NaN</td>\n",
       "    </tr>\n",
       "    <tr>\n",
       "      <th>10</th>\n",
       "      <td>None</td>\n",
       "      <td>Sébastien Riffault</td>\n",
       "      <td>\"Auksinis Maceration\", Sancerre</td>\n",
       "      <td>SAUVIGNON BLANC</td>\n",
       "      <td>ORANGE</td>\n",
       "      <td>Loire Valley</td>\n",
       "      <td>FRA</td>\n",
       "      <td>2018</td>\n",
       "      <td>187</td>\n",
       "      <td>NaN</td>\n",
       "    </tr>\n",
       "    <tr>\n",
       "      <th>11</th>\n",
       "      <td>None</td>\n",
       "      <td>Čotar</td>\n",
       "      <td>Kras Malvazija</td>\n",
       "      <td>MALVASIA</td>\n",
       "      <td>ORANGE</td>\n",
       "      <td>Primorska</td>\n",
       "      <td>SVN</td>\n",
       "      <td>2019</td>\n",
       "      <td>178</td>\n",
       "      <td>NaN</td>\n",
       "    </tr>\n",
       "    <tr>\n",
       "      <th>12</th>\n",
       "      <td>None</td>\n",
       "      <td>Roberto Henriquez</td>\n",
       "      <td>\"Super Estrella\"</td>\n",
       "      <td>CORINTO/CHASSELAS</td>\n",
       "      <td>ORANGE</td>\n",
       "      <td>Itata Valley</td>\n",
       "      <td>CHL</td>\n",
       "      <td>2020</td>\n",
       "      <td>93</td>\n",
       "      <td>NaN</td>\n",
       "    </tr>\n",
       "    <tr>\n",
       "      <th>13</th>\n",
       "      <td>None</td>\n",
       "      <td>Chateau Moulin de Tricot</td>\n",
       "      <td>Margaux</td>\n",
       "      <td>CABERNET SAUVIGNON BLEND</td>\n",
       "      <td>RED</td>\n",
       "      <td>Bordeaux</td>\n",
       "      <td>FRA</td>\n",
       "      <td>2015</td>\n",
       "      <td>192</td>\n",
       "      <td>NaN</td>\n",
       "    </tr>\n",
       "    <tr>\n",
       "      <th>14</th>\n",
       "      <td>None</td>\n",
       "      <td>Equipo Navazos</td>\n",
       "      <td>\"Casa del Inca\", PX</td>\n",
       "      <td>PEDRO XIMENEZ</td>\n",
       "      <td>DESSERT</td>\n",
       "      <td>Jerez</td>\n",
       "      <td>ESP</td>\n",
       "      <td>2021</td>\n",
       "      <td>98</td>\n",
       "      <td>NaN</td>\n",
       "    </tr>\n",
       "  </tbody>\n",
       "</table>\n",
       "</div>"
      ],
      "text/plain": [
       "      id                          producer                               name  \\\n",
       "0   None            Pierre Gimonnet & Fils                 \"BdB\" 1er Cru Brut   \n",
       "1   None                 Ployez-Jacquemart                    Extra Brut Rosé   \n",
       "2   None             Domaine Moreau-Naudet                            Chablis   \n",
       "3   None  Domaine Roger & Didier Raimbault                           Sancerre   \n",
       "4   None                           Kistler     \"Les Noisetiers\", Sonoma Coast   \n",
       "5   None                     Dashe Cellars         Dry Creek Valley Zinfandel   \n",
       "6   None                           Corison     Napa Valley Cabernet Sauvignon   \n",
       "7   None                         O. Horiot  \"Métisse-Les Riceys\", Brut Nature   \n",
       "8   None           Domaine Benoit Courault                    \"Gilbourg\", VDF   \n",
       "9   None                Weingut J. J. Prüm   \"Graacher Himmelreich\", Kabinett   \n",
       "10  None                Sébastien Riffault    \"Auksinis Maceration\", Sancerre   \n",
       "11  None                             Čotar                     Kras Malvazija   \n",
       "12  None                 Roberto Henriquez                   \"Super Estrella\"   \n",
       "13  None          Chateau Moulin de Tricot                            Margaux   \n",
       "14  None                    Equipo Navazos                \"Casa del Inca\", PX   \n",
       "\n",
       "                        type  main_type        region country vintage price  \\\n",
       "0         BLANC DE BLANCS NV  SPARKLING     Champagne     FRA    None    68   \n",
       "1                    ROSÉ NV  SPARKLING     Champagne     FRA    None    62   \n",
       "2                 CHARDONNAY      WHITE      Burgundy     FRA    2020    52   \n",
       "3            SAUVIGNON BLANC      WHITE         Loire     FRA    2020    33   \n",
       "4                 CHARDONNAY      WHITE    California     USA    2020    71   \n",
       "5                  ZINFANDEL        RED    California     USA    2017    41   \n",
       "6         CABERNET SAUVIGNON        RED    California     USA    2018   116   \n",
       "7                BRUT NATURE  SPARKLING     Champagne     FRA    None   550   \n",
       "8               CHENIN BLANC      WHITE  Loire Valley     FRA    2020   180   \n",
       "9                   RIESLING      WHITE         Mosel     DEU    2020   254   \n",
       "10           SAUVIGNON BLANC     ORANGE  Loire Valley     FRA    2018   187   \n",
       "11                  MALVASIA     ORANGE     Primorska     SVN    2019   178   \n",
       "12         CORINTO/CHASSELAS     ORANGE  Itata Valley     CHL    2020    93   \n",
       "13  CABERNET SAUVIGNON BLEND        RED      Bordeaux     FRA    2015   192   \n",
       "14             PEDRO XIMENEZ    DESSERT         Jerez     ESP    2021    98   \n",
       "\n",
       "    country_code  \n",
       "0            NaN  \n",
       "1            NaN  \n",
       "2            NaN  \n",
       "3            NaN  \n",
       "4            NaN  \n",
       "5            NaN  \n",
       "6            NaN  \n",
       "7            NaN  \n",
       "8            NaN  \n",
       "9            NaN  \n",
       "10           NaN  \n",
       "11           NaN  \n",
       "12           NaN  \n",
       "13           NaN  \n",
       "14           NaN  "
      ]
     },
     "execution_count": 22,
     "metadata": {},
     "output_type": "execute_result"
    }
   ],
   "source": [
    "def get_vivino_table(wine_df):\n",
    "    # Run get_vivino_data for each wine in the dataframe\n",
    "\n",
    "    countries = wine_df[\"country\"].unique()\n",
    "    print(f\"Getting data for {countries} countries\")\n",
    "    country_mapping = {country.name : country.alpha_2 for country in pycountry.countries if country.name in countries}\n",
    "\n",
    "    wine_df[\"country_code\"] = wine_df[\"country\"].map(country_mapping)\n",
    "\n",
    "    return wine_df\n",
    "\n",
    "# Call the function\n",
    "get_vivino_table(df)\n"
   ]
  },
  {
   "cell_type": "code",
   "execution_count": 42,
   "metadata": {},
   "outputs": [],
   "source": [
    "import requests\n",
    "from bs4 import BeautifulSoup\n",
    "import re\n",
    "\n",
    "# Define the search now that we know the names\n",
    "def vivino_search(name, producer, type,\tregion,\tcountry, vintage, menu_price):\n",
    "\n",
    "    # Define the base URL\n",
    "    base_url = \"https://www.vivino.com/search/wines\"\n",
    "\n",
    "    # Create the search query\n",
    "    query = f\"{name} {producer} {type} {vintage} {region} {country}\"\n",
    "\n",
    "    # Send request to Vivino search page\n",
    "    params = {\"q\": query}\n",
    "    headers = {\n",
    "        \"User-Agent\": \"Mozilla/5.0 (Windows NT 10.0; Win64; x64; rv:66.0) Gecko/20100101 Firefox/66.0\"\n",
    "    }\n",
    "\n",
    "    # Send GET request\n",
    "    response = requests.get(base_url, params=params, headers=headers)\n",
    "\n",
    "    # Check if request was successful\n",
    "    if response.status_code != 200:\n",
    "        print(\"Failed to fetch data\")\n",
    "        return None\n",
    "\n",
    "    # Parse the HTML response\n",
    "    soup = BeautifulSoup(response.text, \"html.parser\")\n",
    "\n",
    "    # Find first wine result\n",
    "    first_result = soup.select_one(\".card.card-lg\")\n",
    "    if not first_result:\n",
    "        print(\"No results found.\")\n",
    "        return None\n",
    "\n",
    "    # Extract wine details\n",
    "    try:\n",
    "        wine_name = first_result.select_one(\".wine-card__name\").text.strip()\n",
    "        link = \"https://www.vivino.com\" + first_result.select_one(\"a\")[\"href\"]\n",
    "        country = first_result.select_one(\".wine-card__region [data-item-type='country']\").text.strip()\n",
    "        region = first_result.select_one(\".wine-card__region .link-color-alt-grey\").text.strip()\n",
    "        rating = first_result.select_one(\".average__number\").text.strip() if first_result.select_one(\".average__number\") else \"N/A\"\n",
    "        num_ratings = first_result.select_one(\".text-micro\").text.split(' ratings')[0].strip() if first_result.select_one(\".text-micro\") else \"N/A\"\n",
    "        price = first_result.select_one(\".wine-price-value\").text.strip() if first_result.select_one(\".wine-price-value\") else \"N/A\"\n",
    "\n",
    "    except AttributeError:\n",
    "        print(\"Error extracting data\")\n",
    "        return None\n",
    "    \n",
    "\n",
    "    print(\"Result found:\", wine_name)\n",
    "\n",
    "    print(\"Checking link:\", link)\n",
    "\n",
    "    link_response = requests.get(link, headers=headers)\n",
    "    if link_response.status_code != 200:\n",
    "        print(\"Failed to fetch data\")\n",
    "        return None\n",
    "    link_soup = BeautifulSoup(link_response.text, \"html.parser\")\n",
    "    \n",
    "    # Save the data as link.txt\n",
    "    with open(\"link.txt\", \"w\") as f:\n",
    "        f.write(str(link_soup))\n",
    "\n",
    "    try:\n",
    "        food_container = link_soup.select_one(\".foodPairing__foodContainer--1bvxM\")\n",
    "\n",
    "        # Extract food pairing names\n",
    "        food_pairings = [str(a).split('aria-label=\"')[1].split('\"')[0] for a in food_container.find_all(\"a\")]\n",
    "\n",
    "    except AttributeError:\n",
    "        print(\"Error extracting food pairings\")\n",
    "        food_pairings = []\n",
    "\n",
    "    # Extract price if not available\n",
    "    if len(price) <= 1:\n",
    "        # print(\"Price not available. Extracting from page\")\n",
    "        try:\n",
    "            script_tag = link_soup.find(\"script\", {\"type\": \"application/ld+json\"})\n",
    "\n",
    "            # Load the JSON data\n",
    "            json_data = json.loads(script_tag.string)\n",
    "\n",
    "            # Extract the price\n",
    "            price = json_data.get(\"offers\", {}).get(\"price\")\n",
    "            \n",
    "            if price is None:\n",
    "                # Find the price element\n",
    "                price_element = link_soup.find(\"span\", class_=\"purchaseAvailabilityPPC__amount--2_4GT\")\n",
    "\n",
    "                # Extract the text and clean it\n",
    "                price = price_element.text.strip() if price_element else \"N/A\"\n",
    "\n",
    "        except AttributeError:\n",
    "            print(\"Error extracting price\")\n",
    "\n",
    "    # Check if price is a number\n",
    "    if price != \"N/A\" and price != \"-\":\n",
    "        price = price.replace(\"$\", \"\")\n",
    "        price = price.replace(\" \", \"\")\n",
    "        price = price.replace(\"€\", \"\")\n",
    "        price = price.replace(\"£\", \"\")\n",
    "        price = price.replace(\"¥\", \"\")\n",
    "        price = price.replace(\"₩\", \"\")\n",
    "        price = price.replace(\"₹\", \"\")\n",
    "\n",
    "        try:\n",
    "            price = float(price)\n",
    "            price_multiplier = menu_price / price\n",
    "        except ValueError:\n",
    "            print(\"Error converting price to float\")\n",
    "            price_multiplier = \"N/A\"\n",
    "    else:\n",
    "        price_multiplier = \"N/A\"\n",
    "\n",
    "    # Create output\n",
    "    # Return wine data\n",
    "    data = {\n",
    "        \"name\": wine_name,\n",
    "        \"link\": link,\n",
    "        \"country\": country,\n",
    "        \"region\": region,\n",
    "        \"rating\": rating,\n",
    "        \"num_ratings\": num_ratings,\n",
    "        \"price\": price,\n",
    "        \"price_multiplier\": price_multiplier,\n",
    "        \"food_pairings\": food_pairings\n",
    "    }\n",
    "\n",
    "    return data\n"
   ]
  },
  {
   "cell_type": "code",
   "execution_count": 20,
   "metadata": {},
   "outputs": [],
   "source": [
    "import requests\n",
    "from bs4 import BeautifulSoup\n",
    "import re\n",
    "\n",
    "# Define the search now that we know the names\n",
    "def vivino_search_mp(wine_tuple):\n",
    "    name, producer, type, region, country, vintage, menu_price = wine_tuple\n",
    "\n",
    "    # Define the base URL\n",
    "    base_url = \"https://www.vivino.com/search/wines\"\n",
    "\n",
    "    # Create the search query\n",
    "    query = f\"{name} {producer} {type} {vintage} {region} {country}\"\n",
    "\n",
    "    # Send request to Vivino search page\n",
    "    params = {\"q\": query}\n",
    "    headers = {\n",
    "        \"User-Agent\": \"Mozilla/5.0 (Windows NT 10.0; Win64; x64; rv:66.0) Gecko/20100101 Firefox/66.0\"\n",
    "    }\n",
    "\n",
    "    # Send GET request\n",
    "    response = requests.get(base_url, params=params, headers=headers)\n",
    "\n",
    "    # Check if request was successful\n",
    "    if response.status_code != 200:\n",
    "        print(\"Failed to fetch data\")\n",
    "        return None\n",
    "\n",
    "    # Parse the HTML response\n",
    "    soup = BeautifulSoup(response.text, \"html.parser\")\n",
    "\n",
    "    # Find first wine result\n",
    "    first_result = soup.select_one(\".card.card-lg\")\n",
    "    if not first_result:\n",
    "        print(\"No results found.\")\n",
    "        return None\n",
    "\n",
    "    # Extract wine details\n",
    "    try:\n",
    "        wine_name = first_result.select_one(\".wine-card__name\").text.strip()\n",
    "        link = \"https://www.vivino.com\" + first_result.select_one(\"a\")[\"href\"]\n",
    "        country = first_result.select_one(\".wine-card__region [data-item-type='country']\").text.strip()\n",
    "        region = first_result.select_one(\".wine-card__region .link-color-alt-grey\").text.strip()\n",
    "        rating = first_result.select_one(\".average__number\").text.strip() if first_result.select_one(\".average__number\") else \"N/A\"\n",
    "        num_ratings = first_result.select_one(\".text-micro\").text.split(' ratings')[0].strip() if first_result.select_one(\".text-micro\") else \"N/A\"\n",
    "        price = first_result.select_one(\".wine-price-value\").text.strip() if first_result.select_one(\".wine-price-value\") else \"N/A\"\n",
    "\n",
    "    except AttributeError:\n",
    "        print(\"Error extracting data\")\n",
    "        return None\n",
    "    \n",
    "    # Check if price is a number\n",
    "    if price != \"N/A\":\n",
    "        price = float(price)\n",
    "        price_multiplier = menu_price / price\n",
    "\n",
    "    # Return wine data\n",
    "    data = {\n",
    "        \"name\": wine_name,\n",
    "        \"link\": link,\n",
    "        \"country\": country,\n",
    "        \"region\": region,\n",
    "        \"rating\": rating,\n",
    "        \"num_ratings\": num_ratings,\n",
    "        \"price\": price,\n",
    "        \"price_multiplier\": price_multiplier\n",
    "    }\n",
    "\n",
    "    print(\"Result found:\", wine_name)\n",
    "\n",
    "    print(\"Checking link:\", link)\n",
    "\n",
    "    link_response = requests.get(link, headers=headers)\n",
    "    if link_response.status_code != 200:\n",
    "        print(\"Failed to fetch data\")\n",
    "        return None\n",
    "    link_soup = BeautifulSoup(link_response.text, \"html.parser\")\n",
    "    \n",
    "    # Save the data as link.txt\n",
    "    with open(\"link.txt\", \"w\") as f:\n",
    "        f.write(str(link_soup))\n",
    "\n",
    "    try:\n",
    "        food_container = link_soup.select_one(\".foodPairing__foodContainer--1bvxM\")\n",
    "\n",
    "        # Extract food pairing names\n",
    "        food_pairings = [str(a).split('aria-label=\"')[1].split('\"')[0] for a in food_container.find_all(\"a\")]\n",
    "\n",
    "        data[\"food_pairings\"] = food_pairings\n",
    "\n",
    "    except AttributeError:\n",
    "        print(\"Error extracting food pairings\")\n",
    "\n",
    "    # Extract price if not available\n",
    "    if len(price) <= 1:\n",
    "        # print(\"Price not available. Extracting from page\")\n",
    "        try:\n",
    "            script_tag = link_soup.find(\"script\", {\"type\": \"application/ld+json\"})\n",
    "\n",
    "            # Load the JSON data\n",
    "            json_data = json.loads(script_tag.string)\n",
    "\n",
    "            # Extract the price\n",
    "            price = json_data.get(\"offers\", {}).get(\"price\")\n",
    "            \n",
    "            if price is None:\n",
    "                # Find the price element\n",
    "                price_element = link_soup.find(\"span\", class_=\"purchaseAvailabilityPPC__amount--2_4GT\")\n",
    "\n",
    "                # Extract the text and clean it\n",
    "                price = price_element.text.strip() if price_element else \"N/A\"\n",
    "\n",
    "\n",
    "            data[\"price\"] = price\n",
    "\n",
    "        except AttributeError:\n",
    "            print(\"Error extracting price\")\n",
    "\n",
    "    return data\n"
   ]
  },
  {
   "cell_type": "code",
   "execution_count": 51,
   "metadata": {},
   "outputs": [
    {
     "name": "stdout",
     "output_type": "stream",
     "text": [
      "id                              None\n",
      "producer     Azienda Agricola Monban\n",
      "name                  Questo Neanche\n",
      "type                       COL FONDO\n",
      "main_type                  SPARKLING\n",
      "region                        Veneto\n",
      "country                          ITA\n",
      "vintage                         2021\n",
      "price                             45\n",
      "size                          bottle\n",
      "Name: 5, dtype: object\n",
      "Result found: Inama Azienda Agricola Vulcaia Fume Sauvignon del Veneto\n",
      "Checking link: https://www.vivino.com/US/en/wines/1912147\n",
      "Error extracting taste data\n"
     ]
    },
    {
     "data": {
      "text/plain": [
       "{'name': 'Inama Azienda Agricola Vulcaia Fume Sauvignon del Veneto',\n",
       " 'link': 'https://www.vivino.com/US/en/wines/1912147',\n",
       " 'country': 'Italy',\n",
       " 'region': 'Veneto',\n",
       " 'rating': '4.2',\n",
       " 'num_ratings': '5051',\n",
       " 'price': '$48.99',\n",
       " 'food_pairings': ['Shellfish',\n",
       "  'Pasta',\n",
       "  'Mature and hard cheese',\n",
       "  'Lean fish',\n",
       "  'Cured Meat']}"
      ]
     },
     "execution_count": 51,
     "metadata": {},
     "output_type": "execute_result"
    }
   ],
   "source": [
    "# Test the function\n",
    "\n",
    "# Select random row from the dataframe\n",
    "row = df.sample(1).iloc[0]\n",
    "\n",
    "print(row)\n",
    "\n",
    "# Get wine data\n",
    "wine_data = vivino_search(row[\"name\"], row[\"producer\"], row[\"type\"], row[\"region\"], row[\"country\"], row[\"vintage\"])\n",
    "\n",
    "wine_data"
   ]
  },
  {
   "cell_type": "code",
   "execution_count": 25,
   "metadata": {},
   "outputs": [
    {
     "data": {
      "text/html": [
       "<div>\n",
       "<style scoped>\n",
       "    .dataframe tbody tr th:only-of-type {\n",
       "        vertical-align: middle;\n",
       "    }\n",
       "\n",
       "    .dataframe tbody tr th {\n",
       "        vertical-align: top;\n",
       "    }\n",
       "\n",
       "    .dataframe thead th {\n",
       "        text-align: right;\n",
       "    }\n",
       "</style>\n",
       "<table border=\"1\" class=\"dataframe\">\n",
       "  <thead>\n",
       "    <tr style=\"text-align: right;\">\n",
       "      <th></th>\n",
       "      <th>id</th>\n",
       "      <th>producer</th>\n",
       "      <th>name</th>\n",
       "      <th>type</th>\n",
       "      <th>main_type</th>\n",
       "      <th>region</th>\n",
       "      <th>country</th>\n",
       "      <th>vintage</th>\n",
       "      <th>price</th>\n",
       "      <th>size</th>\n",
       "    </tr>\n",
       "  </thead>\n",
       "  <tbody>\n",
       "    <tr>\n",
       "      <th>0</th>\n",
       "      <td>NaN</td>\n",
       "      <td>Chëpìka</td>\n",
       "      <td>Petnat Catawba</td>\n",
       "      <td>PETNAT</td>\n",
       "      <td>WHITE</td>\n",
       "      <td>Finger Lakes</td>\n",
       "      <td>USA</td>\n",
       "      <td>2021</td>\n",
       "      <td>64.0</td>\n",
       "      <td>bottle</td>\n",
       "    </tr>\n",
       "    <tr>\n",
       "      <th>1</th>\n",
       "      <td>NaN</td>\n",
       "      <td>La Ferme du Vert</td>\n",
       "      <td>L' Angelou Blanc Bulle</td>\n",
       "      <td>NaN</td>\n",
       "      <td>WHITE</td>\n",
       "      <td>Southwest</td>\n",
       "      <td>FRA</td>\n",
       "      <td>2021</td>\n",
       "      <td>56.0</td>\n",
       "      <td>bottle</td>\n",
       "    </tr>\n",
       "    <tr>\n",
       "      <th>2</th>\n",
       "      <td>NaN</td>\n",
       "      <td>Guiborat</td>\n",
       "      <td>Prisme - Blanc de Blancs</td>\n",
       "      <td>BLANC DE BLANCS, GRAND CRU EXTRA BRUT</td>\n",
       "      <td>SPARKLING</td>\n",
       "      <td>Champagne</td>\n",
       "      <td>FRA</td>\n",
       "      <td>NaN</td>\n",
       "      <td>144.0</td>\n",
       "      <td>bottle</td>\n",
       "    </tr>\n",
       "    <tr>\n",
       "      <th>3</th>\n",
       "      <td>NaN</td>\n",
       "      <td>Pierre Moncuit</td>\n",
       "      <td>Delos Blanc de Blancs</td>\n",
       "      <td>BLANC DE BLANCS, GRAND CRU BRUT</td>\n",
       "      <td>SPARKLING</td>\n",
       "      <td>Champagne</td>\n",
       "      <td>FRA</td>\n",
       "      <td>NaN</td>\n",
       "      <td>117.0</td>\n",
       "      <td>bottle</td>\n",
       "    </tr>\n",
       "    <tr>\n",
       "      <th>4</th>\n",
       "      <td>NaN</td>\n",
       "      <td>Robert Moncuit</td>\n",
       "      <td>Millésime Blanc de Blancs</td>\n",
       "      <td>BLANC DE BLANCS, GRAND CRU BRUT</td>\n",
       "      <td>SPARKLING</td>\n",
       "      <td>Champagne</td>\n",
       "      <td>FRA</td>\n",
       "      <td>2013</td>\n",
       "      <td>196.0</td>\n",
       "      <td>bottle</td>\n",
       "    </tr>\n",
       "  </tbody>\n",
       "</table>\n",
       "</div>"
      ],
      "text/plain": [
       "   id          producer                       name  \\\n",
       "0 NaN           Chëpìka             Petnat Catawba   \n",
       "1 NaN  La Ferme du Vert     L' Angelou Blanc Bulle   \n",
       "2 NaN          Guiborat   Prisme - Blanc de Blancs   \n",
       "3 NaN    Pierre Moncuit      Delos Blanc de Blancs   \n",
       "4 NaN    Robert Moncuit  Millésime Blanc de Blancs   \n",
       "\n",
       "                                    type  main_type        region country  \\\n",
       "0                                 PETNAT      WHITE  Finger Lakes     USA   \n",
       "1                                    NaN      WHITE     Southwest     FRA   \n",
       "2  BLANC DE BLANCS, GRAND CRU EXTRA BRUT  SPARKLING     Champagne     FRA   \n",
       "3        BLANC DE BLANCS, GRAND CRU BRUT  SPARKLING     Champagne     FRA   \n",
       "4        BLANC DE BLANCS, GRAND CRU BRUT  SPARKLING     Champagne     FRA   \n",
       "\n",
       "  vintage  price    size  \n",
       "0    2021   64.0  bottle  \n",
       "1    2021   56.0  bottle  \n",
       "2     NaN  144.0  bottle  \n",
       "3     NaN  117.0  bottle  \n",
       "4    2013  196.0  bottle  "
      ]
     },
     "execution_count": 25,
     "metadata": {},
     "output_type": "execute_result"
    }
   ],
   "source": [
    "df = pd.read_csv(\"menus/rake-wine.csv\")\n",
    "\n",
    "df.head()"
   ]
  },
  {
   "cell_type": "code",
   "execution_count": 43,
   "metadata": {},
   "outputs": [
    {
     "name": "stderr",
     "output_type": "stream",
     "text": [
      "  0%|          | 0/166 [00:00<?, ?it/s]"
     ]
    },
    {
     "name": "stdout",
     "output_type": "stream",
     "text": [
      "Result found: Chëpìka Delaware Pet Nat\n",
      "Checking link: https://www.vivino.com/US/en/wines/155265081\n",
      "Error extracting food pairings\n"
     ]
    },
    {
     "name": "stderr",
     "output_type": "stream",
     "text": [
      "  1%|          | 1/166 [00:01<04:38,  1.69s/it]"
     ]
    },
    {
     "name": "stdout",
     "output_type": "stream",
     "text": [
      "Result found: Ferme du Vert Jérôme Galaup L'AngeLou Blanc Bulle\n",
      "Checking link: https://www.vivino.com/US/en/wines/37976367\n"
     ]
    },
    {
     "name": "stderr",
     "output_type": "stream",
     "text": [
      "  1%|          | 2/166 [00:03<04:30,  1.65s/it]"
     ]
    },
    {
     "name": "stdout",
     "output_type": "stream",
     "text": [
      "Result found: François Gonet Extra Brut Blanc de Blancs Champagne Grand Cru 'Le Mesnil-sur-Oger'\n",
      "Checking link: https://www.vivino.com/US/en/wines/163391155\n"
     ]
    },
    {
     "name": "stderr",
     "output_type": "stream",
     "text": [
      "  2%|▏         | 3/166 [00:05<04:32,  1.67s/it]"
     ]
    },
    {
     "name": "stdout",
     "output_type": "stream",
     "text": [
      "Result found: Pierre Moncuit Delos Blanc de Blancs Brut Champagne Grand Cru 'Le Mesnil-sur-Oger'\n",
      "Checking link: https://www.vivino.com/US/en/wines/3765256\n"
     ]
    },
    {
     "name": "stderr",
     "output_type": "stream",
     "text": [
      "  2%|▏         | 4/166 [00:07<05:12,  1.93s/it]"
     ]
    },
    {
     "name": "stdout",
     "output_type": "stream",
     "text": [
      "Result found: Robert Moncuit Blanc de Blancs Brut Champagne Grand Cru 'Le Mesnil-sur-Oger' Millésime\n",
      "Checking link: https://www.vivino.com/US/en/wines/165673198\n"
     ]
    },
    {
     "name": "stderr",
     "output_type": "stream",
     "text": [
      "  3%|▎         | 5/166 [00:09<05:03,  1.89s/it]"
     ]
    },
    {
     "name": "stdout",
     "output_type": "stream",
     "text": [
      "Result found: Inama Azienda Agricola Vulcaia Fume Sauvignon del Veneto\n",
      "Checking link: https://www.vivino.com/US/en/wines/1912147\n"
     ]
    },
    {
     "name": "stderr",
     "output_type": "stream",
     "text": [
      "  4%|▎         | 6/166 [00:10<04:58,  1.86s/it]"
     ]
    },
    {
     "name": "stdout",
     "output_type": "stream",
     "text": [
      "Result found: Tonello Marachelle Frizzante\n",
      "Checking link: https://www.vivino.com/US/en/wines/174221101\n"
     ]
    },
    {
     "name": "stderr",
     "output_type": "stream",
     "text": [
      "  4%|▍         | 7/166 [00:12<04:59,  1.88s/it]"
     ]
    },
    {
     "name": "stdout",
     "output_type": "stream",
     "text": [
      "Result found: Aldo Viola Brutto Catarratto\n",
      "Checking link: https://www.vivino.com/US/en/wines/160956141\n"
     ]
    },
    {
     "name": "stderr",
     "output_type": "stream",
     "text": [
      "  5%|▍         | 8/166 [00:14<04:55,  1.87s/it]"
     ]
    },
    {
     "name": "stdout",
     "output_type": "stream",
     "text": [
      "Result found: Luis Pato João Pato Branco\n",
      "Checking link: https://www.vivino.com/US/en/wines/167366463\n"
     ]
    },
    {
     "name": "stderr",
     "output_type": "stream",
     "text": [
      "  5%|▌         | 9/166 [00:16<05:06,  1.95s/it]"
     ]
    },
    {
     "name": "stdout",
     "output_type": "stream",
     "text": [
      "Result found: Familie Bauer Barig Alte Reben\n",
      "Checking link: https://www.vivino.com/US/en/wines/164244051\n"
     ]
    },
    {
     "name": "stderr",
     "output_type": "stream",
     "text": [
      "  6%|▌         | 10/166 [00:18<04:52,  1.87s/it]"
     ]
    },
    {
     "name": "stdout",
     "output_type": "stream",
     "text": [
      "Result found: Annesanti Raspato Pet Nat Rosé\n",
      "Checking link: https://www.vivino.com/US/en/wines/161193783\n"
     ]
    },
    {
     "name": "stderr",
     "output_type": "stream",
     "text": [
      "  7%|▋         | 11/166 [00:20<04:52,  1.89s/it]"
     ]
    },
    {
     "name": "stdout",
     "output_type": "stream",
     "text": [
      "Result found: Laherte Freres Les Beaudiers Rosé de Saignée Vieilles Vignes de Pinot Meunier Extra-Brut Champagne\n",
      "Checking link: https://www.vivino.com/US/en/wines/3477991\n"
     ]
    },
    {
     "name": "stderr",
     "output_type": "stream",
     "text": [
      "  7%|▋         | 12/166 [00:22<05:01,  1.96s/it]"
     ]
    },
    {
     "name": "stdout",
     "output_type": "stream",
     "text": [
      "Result found: Weszeli We Pét Nat Rosé\n",
      "Checking link: https://www.vivino.com/US/en/wines/167794791\n"
     ]
    },
    {
     "name": "stderr",
     "output_type": "stream",
     "text": [
      "  8%|▊         | 13/166 [00:24<04:46,  1.87s/it]"
     ]
    },
    {
     "name": "stdout",
     "output_type": "stream",
     "text": [
      "Result found: Dulcinea Santos Ferreira Sidónio de Sousa Rosé Brut Nature\n",
      "Checking link: https://www.vivino.com/US/en/wines/154894172\n"
     ]
    },
    {
     "name": "stderr",
     "output_type": "stream",
     "text": [
      "  8%|▊         | 14/166 [00:26<05:01,  1.98s/it]"
     ]
    },
    {
     "name": "stdout",
     "output_type": "stream",
     "text": [
      "Result found: Filipa Pato 3B Metodo Tradicional Rosé\n",
      "Checking link: https://www.vivino.com/US/en/wines/1612574\n"
     ]
    },
    {
     "name": "stderr",
     "output_type": "stream",
     "text": [
      "  9%|▉         | 15/166 [00:28<04:56,  1.97s/it]"
     ]
    },
    {
     "name": "stdout",
     "output_type": "stream",
     "text": [
      "Result found: Mas Foraster Josep Foraster Trepat\n",
      "Checking link: https://www.vivino.com/US/en/wines/1607472\n"
     ]
    },
    {
     "name": "stderr",
     "output_type": "stream",
     "text": [
      " 10%|▉         | 16/166 [00:30<04:52,  1.95s/it]"
     ]
    },
    {
     "name": "stdout",
     "output_type": "stream",
     "text": [
      "Result found: Nevio Scala Gargànte\n",
      "Checking link: https://www.vivino.com/US/en/wines/155338314\n"
     ]
    },
    {
     "name": "stderr",
     "output_type": "stream",
     "text": [
      " 10%|█         | 17/166 [00:32<04:49,  1.94s/it]"
     ]
    },
    {
     "name": "stdout",
     "output_type": "stream",
     "text": [
      "Result found: Folicello Il Rosso Lambrusco Emilia\n",
      "Checking link: https://www.vivino.com/US/en/wines/151048544\n"
     ]
    },
    {
     "name": "stderr",
     "output_type": "stream",
     "text": [
      " 11%|█         | 18/166 [00:34<04:44,  1.92s/it]"
     ]
    },
    {
     "name": "stdout",
     "output_type": "stream",
     "text": [
      "Result found: Escala Humana Livverá Malvasia\n",
      "Checking link: https://www.vivino.com/US/en/wines/147702744\n"
     ]
    },
    {
     "name": "stderr",
     "output_type": "stream",
     "text": [
      " 11%|█▏        | 19/166 [00:35<04:36,  1.88s/it]"
     ]
    },
    {
     "name": "stdout",
     "output_type": "stream",
     "text": [
      "Result found: Heinrich Naked White\n",
      "Checking link: https://www.vivino.com/US/en/wines/159554043\n"
     ]
    },
    {
     "name": "stderr",
     "output_type": "stream",
     "text": [
      " 12%|█▏        | 20/166 [00:37<04:30,  1.85s/it]"
     ]
    },
    {
     "name": "stdout",
     "output_type": "stream",
     "text": [
      "Result found: Matthias Warnung Basis Grüner Veltliner\n",
      "Checking link: https://www.vivino.com/US/en/wines/26999350\n"
     ]
    },
    {
     "name": "stderr",
     "output_type": "stream",
     "text": [
      " 13%|█▎        | 21/166 [00:39<04:19,  1.79s/it]"
     ]
    },
    {
     "name": "stdout",
     "output_type": "stream",
     "text": [
      "Result found: Hager Matthias Grüner Veltliner\n",
      "Checking link: https://www.vivino.com/US/en/wines/2985184\n"
     ]
    },
    {
     "name": "stderr",
     "output_type": "stream",
     "text": [
      " 13%|█▎        | 22/166 [00:41<04:26,  1.85s/it]"
     ]
    },
    {
     "name": "stdout",
     "output_type": "stream",
     "text": [
      "Result found: Au Bon Climat Chardonnay Los Alamos Vineyard\n",
      "Checking link: https://www.vivino.com/US/en/wines/2187482\n"
     ]
    },
    {
     "name": "stderr",
     "output_type": "stream",
     "text": [
      " 14%|█▍        | 23/166 [00:43<04:19,  1.82s/it]"
     ]
    },
    {
     "name": "stdout",
     "output_type": "stream",
     "text": [
      "Result found: Arnot-Roberts Watson Ranch Vineyard Chardonnay\n",
      "Checking link: https://www.vivino.com/US/en/wines/4736270\n"
     ]
    },
    {
     "name": "stderr",
     "output_type": "stream",
     "text": [
      " 14%|█▍        | 24/166 [00:45<04:26,  1.88s/it]"
     ]
    },
    {
     "name": "stdout",
     "output_type": "stream",
     "text": [
      "Result found: Martha Stoumen Nero d'Avola\n",
      "Checking link: https://www.vivino.com/US/en/wines/154847452\n",
      "Error extracting food pairings\n"
     ]
    },
    {
     "name": "stderr",
     "output_type": "stream",
     "text": [
      " 15%|█▌        | 25/166 [00:46<04:15,  1.81s/it]"
     ]
    },
    {
     "name": "stdout",
     "output_type": "stream",
     "text": [
      "Result found: Rogue Vine Grand Itata Tinto\n",
      "Checking link: https://www.vivino.com/US/en/wines/4157682\n",
      "Error extracting food pairings\n"
     ]
    },
    {
     "name": "stderr",
     "output_type": "stream",
     "text": [
      " 16%|█▌        | 26/166 [00:50<05:39,  2.43s/it]"
     ]
    },
    {
     "name": "stdout",
     "output_type": "stream",
     "text": [
      "Result found: Voirin-Jumel Coteaux Champenois Blanc Chardonnay de Cramant\n",
      "Checking link: https://www.vivino.com/US/en/wines/9039780\n"
     ]
    },
    {
     "name": "stderr",
     "output_type": "stream",
     "text": [
      " 16%|█▋        | 27/166 [00:54<06:25,  2.77s/it]"
     ]
    },
    {
     "name": "stdout",
     "output_type": "stream",
     "text": [
      "Result found: Domaine de la Touraize Savagnin Sous Voile Arbois\n",
      "Checking link: https://www.vivino.com/US/en/wines/176807180\n"
     ]
    },
    {
     "name": "stderr",
     "output_type": "stream",
     "text": [
      " 17%|█▋        | 28/166 [00:56<05:45,  2.51s/it]"
     ]
    },
    {
     "name": "stdout",
     "output_type": "stream",
     "text": [
      "Result found: Pierre Richard Les Marnes Chardonnay\n",
      "Checking link: https://www.vivino.com/US/en/wines/167669890\n"
     ]
    },
    {
     "name": "stderr",
     "output_type": "stream",
     "text": [
      " 17%|█▋        | 29/166 [00:58<05:34,  2.44s/it]"
     ]
    },
    {
     "name": "stdout",
     "output_type": "stream",
     "text": [
      "Result found: Jean et Sébastien Dauvissat Chablis Grand Cru 'Les Preuses'\n",
      "Checking link: https://www.vivino.com/US/en/wines/4941747\n"
     ]
    },
    {
     "name": "stderr",
     "output_type": "stream",
     "text": [
      " 18%|█▊        | 30/166 [01:01<05:48,  2.56s/it]"
     ]
    },
    {
     "name": "stdout",
     "output_type": "stream",
     "text": [
      "Result found: Domaine de l'Ecu Nobis\n",
      "Checking link: https://www.vivino.com/US/en/wines/157874853\n",
      "Error extracting food pairings\n"
     ]
    },
    {
     "name": "stderr",
     "output_type": "stream",
     "text": [
      " 19%|█▊        | 31/166 [01:02<05:11,  2.31s/it]"
     ]
    },
    {
     "name": "stdout",
     "output_type": "stream",
     "text": [
      "Result found: Manuel Pineau Le Jardin de La Hyonniére Melon de Bourgogne\n",
      "Checking link: https://www.vivino.com/US/en/wines/171487343\n",
      "Error extracting food pairings\n"
     ]
    },
    {
     "name": "stderr",
     "output_type": "stream",
     "text": [
      " 19%|█▉        | 32/166 [01:04<04:42,  2.11s/it]"
     ]
    },
    {
     "name": "stdout",
     "output_type": "stream",
     "text": [
      "Result found: Domaine du Closel - Château des Vaults Belle Dame Chenin Blanc\n",
      "Checking link: https://www.vivino.com/US/en/wines/160770397\n"
     ]
    },
    {
     "name": "stderr",
     "output_type": "stream",
     "text": [
      " 20%|█▉        | 33/166 [01:06<04:22,  1.97s/it]"
     ]
    },
    {
     "name": "stdout",
     "output_type": "stream",
     "text": [
      "Result found: Nicolas Idiart Chenin Blanc\n",
      "Checking link: https://www.vivino.com/US/en/wines/157388895\n"
     ]
    },
    {
     "name": "stderr",
     "output_type": "stream",
     "text": [
      " 20%|██        | 34/166 [01:08<04:12,  1.92s/it]"
     ]
    },
    {
     "name": "stdout",
     "output_type": "stream",
     "text": [
      "Result found: Lucien Crochet Le Chêne Marchand Sancerre Blanc\n",
      "Checking link: https://www.vivino.com/US/en/wines/2600109\n"
     ]
    },
    {
     "name": "stderr",
     "output_type": "stream",
     "text": [
      " 21%|██        | 35/166 [01:10<04:14,  1.95s/it]"
     ]
    },
    {
     "name": "stdout",
     "output_type": "stream",
     "text": [
      "Result found: Mann Vignoble des 3 Terres La Lluna Pinot Noir\n",
      "Checking link: https://www.vivino.com/US/en/wines/176095443\n"
     ]
    },
    {
     "name": "stderr",
     "output_type": "stream",
     "text": [
      " 22%|██▏       | 36/166 [01:12<04:41,  2.17s/it]"
     ]
    },
    {
     "name": "stdout",
     "output_type": "stream",
     "text": [
      "Result found: Franck Balthazar Côtes du Rhône\n",
      "Checking link: https://www.vivino.com/US/en/wines/2045972\n"
     ]
    },
    {
     "name": "stderr",
     "output_type": "stream",
     "text": [
      " 22%|██▏       | 37/166 [01:14<04:22,  2.04s/it]"
     ]
    },
    {
     "name": "stdout",
     "output_type": "stream",
     "text": [
      "Result found: Vigneti Massa Derthona\n",
      "Checking link: https://www.vivino.com/US/en/wines/1923172\n"
     ]
    },
    {
     "name": "stderr",
     "output_type": "stream",
     "text": [
      " 23%|██▎       | 38/166 [01:16<04:07,  1.93s/it]"
     ]
    },
    {
     "name": "stdout",
     "output_type": "stream",
     "text": [
      "Result found: Fratelli Ponte Roero Arneis\n",
      "Checking link: https://www.vivino.com/US/en/wines/3981423\n"
     ]
    },
    {
     "name": "stderr",
     "output_type": "stream",
     "text": [
      " 23%|██▎       | 39/166 [01:17<04:01,  1.90s/it]"
     ]
    },
    {
     "name": "stdout",
     "output_type": "stream",
     "text": [
      "Result found: De Forville Moscato d'Asti\n",
      "Checking link: https://www.vivino.com/US/en/wines/142245163\n"
     ]
    },
    {
     "name": "stderr",
     "output_type": "stream",
     "text": [
      " 24%|██▍       | 40/166 [01:20<04:07,  1.96s/it]"
     ]
    },
    {
     "name": "stdout",
     "output_type": "stream",
     "text": [
      "Result found: Nevio Scala Blanko\n",
      "Checking link: https://www.vivino.com/US/en/wines/175326649\n"
     ]
    },
    {
     "name": "stderr",
     "output_type": "stream",
     "text": [
      " 25%|██▍       | 41/166 [01:21<03:57,  1.90s/it]"
     ]
    },
    {
     "name": "stdout",
     "output_type": "stream",
     "text": [
      "Result found: Anselmi San Vincenzo\n",
      "Checking link: https://www.vivino.com/US/en/wines/1662726\n"
     ]
    },
    {
     "name": "stderr",
     "output_type": "stream",
     "text": [
      " 25%|██▌       | 42/166 [01:23<03:49,  1.85s/it]"
     ]
    },
    {
     "name": "stdout",
     "output_type": "stream",
     "text": [
      "Result found: Luisa I Ferretti Collezione Friulano\n",
      "Checking link: https://www.vivino.com/US/en/wines/143564437\n"
     ]
    },
    {
     "name": "stderr",
     "output_type": "stream",
     "text": [
      " 26%|██▌       | 43/166 [01:25<03:56,  1.92s/it]"
     ]
    },
    {
     "name": "stdout",
     "output_type": "stream",
     "text": [
      "Result found: Regno di Bacco Friuli Colli Orientali Ribolla Gialla\n",
      "Checking link: https://www.vivino.com/US/en/wines/3774335\n"
     ]
    },
    {
     "name": "stderr",
     "output_type": "stream",
     "text": [
      " 27%|██▋       | 44/166 [01:27<03:52,  1.90s/it]"
     ]
    },
    {
     "name": "stdout",
     "output_type": "stream",
     "text": [
      "Result found: Bruno Verdi Pinot Grigio\n",
      "Checking link: https://www.vivino.com/US/en/wines/4985386\n"
     ]
    },
    {
     "name": "stderr",
     "output_type": "stream",
     "text": [
      " 27%|██▋       | 45/166 [01:29<03:49,  1.89s/it]"
     ]
    },
    {
     "name": "stdout",
     "output_type": "stream",
     "text": [
      "Result found: Tiberio Pecorino\n",
      "Checking link: https://www.vivino.com/US/en/wines/1577902\n"
     ]
    },
    {
     "name": "stderr",
     "output_type": "stream",
     "text": [
      " 28%|██▊       | 46/166 [01:31<03:49,  1.91s/it]"
     ]
    },
    {
     "name": "stdout",
     "output_type": "stream",
     "text": [
      "Result found: Ferracane Guanciabianca Catarratto\n",
      "Checking link: https://www.vivino.com/US/en/wines/8568902\n"
     ]
    },
    {
     "name": "stderr",
     "output_type": "stream",
     "text": [
      " 28%|██▊       | 47/166 [01:33<03:39,  1.84s/it]"
     ]
    },
    {
     "name": "stdout",
     "output_type": "stream",
     "text": [
      "Result found: Castellucci Miano Miano Bianco\n",
      "Checking link: https://www.vivino.com/US/en/wines/4966645\n"
     ]
    },
    {
     "name": "stderr",
     "output_type": "stream",
     "text": [
      " 29%|██▉       | 48/166 [01:35<04:02,  2.06s/it]"
     ]
    },
    {
     "name": "stdout",
     "output_type": "stream",
     "text": [
      "Result found: Joh. Jos. Prüm Graacher Himmelreich Riesling Kabinett\n",
      "Checking link: https://www.vivino.com/US/en/wines/4758356\n"
     ]
    },
    {
     "name": "stderr",
     "output_type": "stream",
     "text": [
      " 30%|██▉       | 49/166 [01:37<04:02,  2.07s/it]"
     ]
    },
    {
     "name": "stdout",
     "output_type": "stream",
     "text": [
      "Result found: Joh. Jos. Prüm Edition Weinhaus Wehlener Sonnenuhr Riesling Spätlese\n",
      "Checking link: https://www.vivino.com/US/en/wines/171420718\n"
     ]
    },
    {
     "name": "stderr",
     "output_type": "stream",
     "text": [
      " 30%|███       | 50/166 [01:39<03:49,  1.98s/it]"
     ]
    },
    {
     "name": "stdout",
     "output_type": "stream",
     "text": [
      "Result found: Domaine Tetta Chardonnay Perlant\n",
      "Checking link: https://www.vivino.com/US/en/wines/167284615\n"
     ]
    },
    {
     "name": "stderr",
     "output_type": "stream",
     "text": [
      " 31%|███       | 51/166 [01:41<03:38,  1.90s/it]"
     ]
    },
    {
     "name": "stdout",
     "output_type": "stream",
     "text": [
      "Result found: Dr. Konstantin Frank Riesling Dry\n",
      "Checking link: https://www.vivino.com/US/en/wines/16426421\n"
     ]
    },
    {
     "name": "stderr",
     "output_type": "stream",
     "text": [
      " 31%|███▏      | 52/166 [01:43<04:03,  2.13s/it]"
     ]
    },
    {
     "name": "stdout",
     "output_type": "stream",
     "text": [
      "Result found: Usonia Cayuga\n",
      "Checking link: https://www.vivino.com/US/en/wines/175645468\n",
      "Error extracting food pairings\n"
     ]
    },
    {
     "name": "stderr",
     "output_type": "stream",
     "text": [
      " 32%|███▏      | 53/166 [01:45<03:43,  1.98s/it]"
     ]
    },
    {
     "name": "stdout",
     "output_type": "stream",
     "text": [
      "Result found: Távora Terras do Demo Verdelho\n",
      "Checking link: https://www.vivino.com/US/en/wines/158321125\n"
     ]
    },
    {
     "name": "stderr",
     "output_type": "stream",
     "text": [
      " 33%|███▎      | 54/166 [01:47<03:34,  1.91s/it]"
     ]
    },
    {
     "name": "stdout",
     "output_type": "stream",
     "text": [
      "Result found: The Portugal Wine Firm Ayres\n",
      "Checking link: https://www.vivino.com/US/en/wines/170490117\n"
     ]
    },
    {
     "name": "stderr",
     "output_type": "stream",
     "text": [
      " 33%|███▎      | 55/166 [01:49<03:29,  1.88s/it]"
     ]
    },
    {
     "name": "stdout",
     "output_type": "stream",
     "text": [
      "Result found: Niepoort V.V. Bical - Maria Gomes Vinhas Velhas\n",
      "Checking link: https://www.vivino.com/US/en/wines/37935368\n"
     ]
    },
    {
     "name": "stderr",
     "output_type": "stream",
     "text": [
      " 34%|███▎      | 56/166 [01:51<03:47,  2.07s/it]"
     ]
    },
    {
     "name": "stdout",
     "output_type": "stream",
     "text": [
      "Result found: Joao Portugal Ramos Loios Medium-Sweet Branco\n",
      "Checking link: https://www.vivino.com/US/en/wines/164772769\n"
     ]
    },
    {
     "name": "stderr",
     "output_type": "stream",
     "text": [
      " 34%|███▍      | 57/166 [01:53<03:30,  1.93s/it]"
     ]
    },
    {
     "name": "stdout",
     "output_type": "stream",
     "text": [
      "Result found: Eulogio Pomares O Estranxeiro Tinto\n",
      "Checking link: https://www.vivino.com/US/en/wines/167110787\n"
     ]
    },
    {
     "name": "stderr",
     "output_type": "stream",
     "text": [
      " 35%|███▍      | 58/166 [01:55<03:40,  2.04s/it]"
     ]
    },
    {
     "name": "stdout",
     "output_type": "stream",
     "text": [
      "Result found: César Márquez La Salvación Godello\n",
      "Checking link: https://www.vivino.com/US/en/wines/152878113\n",
      "Error extracting food pairings\n"
     ]
    },
    {
     "name": "stderr",
     "output_type": "stream",
     "text": [
      " 36%|███▌      | 59/166 [01:57<03:28,  1.95s/it]"
     ]
    },
    {
     "name": "stdout",
     "output_type": "stream",
     "text": [
      "Result found: Iria Otero Sacabeira Albariño\n",
      "Checking link: https://www.vivino.com/US/en/wines/154373922\n"
     ]
    },
    {
     "name": "stderr",
     "output_type": "stream",
     "text": [
      " 36%|███▌      | 60/166 [01:58<03:21,  1.90s/it]"
     ]
    },
    {
     "name": "stdout",
     "output_type": "stream",
     "text": [
      "Result found: Iria Otero Alebub\n",
      "Checking link: https://www.vivino.com/US/en/wines/170464803\n",
      "Error extracting food pairings\n"
     ]
    },
    {
     "name": "stderr",
     "output_type": "stream",
     "text": [
      " 37%|███▋      | 61/166 [02:00<03:11,  1.82s/it]"
     ]
    },
    {
     "name": "stdout",
     "output_type": "stream",
     "text": [
      "Result found: Bodegas Gallegas Gran Alanis Treixadura - Godello\n",
      "Checking link: https://www.vivino.com/US/en/wines/154319144\n",
      "Error extracting food pairings\n"
     ]
    },
    {
     "name": "stderr",
     "output_type": "stream",
     "text": [
      " 37%|███▋      | 62/166 [02:02<03:13,  1.86s/it]"
     ]
    },
    {
     "name": "stdout",
     "output_type": "stream",
     "text": [
      "Result found: Orto Vins Les Argiles d'Orto Blanc\n",
      "Checking link: https://www.vivino.com/US/en/wines/39562813\n",
      "Error extracting food pairings\n"
     ]
    },
    {
     "name": "stderr",
     "output_type": "stream",
     "text": [
      " 38%|███▊      | 63/166 [02:04<03:07,  1.82s/it]"
     ]
    },
    {
     "name": "stdout",
     "output_type": "stream",
     "text": [
      "Result found: Basa-Lore Hondarrabi Zuri\n",
      "Checking link: https://www.vivino.com/US/en/wines/167487228\n"
     ]
    },
    {
     "name": "stderr",
     "output_type": "stream",
     "text": [
      " 39%|███▊      | 64/166 [02:06<03:06,  1.83s/it]"
     ]
    },
    {
     "name": "stdout",
     "output_type": "stream",
     "text": [
      "Result found: Talaiot Blanc Pla I Llevant Mallorca Premsal Macabeu Chardonnay Parellada Moscatel\n",
      "Checking link: https://www.vivino.com/US/en/wines/9233335\n"
     ]
    },
    {
     "name": "stderr",
     "output_type": "stream",
     "text": [
      " 39%|███▉      | 65/166 [02:08<03:11,  1.90s/it]"
     ]
    },
    {
     "name": "stdout",
     "output_type": "stream",
     "text": [
      "Result found: Ruben Diaz Finca La Coronilla Chassellas Dore - Albillo\n",
      "Checking link: https://www.vivino.com/US/en/wines/159358442\n",
      "Error extracting food pairings\n"
     ]
    },
    {
     "name": "stderr",
     "output_type": "stream",
     "text": [
      " 40%|███▉      | 66/166 [02:09<03:06,  1.86s/it]"
     ]
    },
    {
     "name": "stdout",
     "output_type": "stream",
     "text": [
      "Result found: Victoria Ordoñez La Ola del Melillero Pedro Ximenez - Moscatel de Alejandría\n",
      "Checking link: https://www.vivino.com/US/en/wines/144648944\n",
      "Error extracting food pairings\n"
     ]
    },
    {
     "name": "stderr",
     "output_type": "stream",
     "text": [
      " 40%|████      | 67/166 [02:12<03:11,  1.93s/it]"
     ]
    },
    {
     "name": "stdout",
     "output_type": "stream",
     "text": [
      "Result found: Meinklang Graupert Pinot Gris\n",
      "Checking link: https://www.vivino.com/US/en/wines/8371024\n"
     ]
    },
    {
     "name": "stderr",
     "output_type": "stream",
     "text": [
      " 41%|████      | 68/166 [02:14<03:12,  1.97s/it]"
     ]
    },
    {
     "name": "stdout",
     "output_type": "stream",
     "text": [
      "Result found: Curran Grenache Blanc\n",
      "Checking link: https://www.vivino.com/US/en/wines/4736142\n"
     ]
    },
    {
     "name": "stderr",
     "output_type": "stream",
     "text": [
      " 42%|████▏     | 69/166 [02:15<03:06,  1.92s/it]"
     ]
    },
    {
     "name": "stdout",
     "output_type": "stream",
     "text": [
      "Result found: Villard JCV Charlie Villard Ramato Pinot Grigio\n",
      "Checking link: https://www.vivino.com/US/en/wines/157388507\n",
      "Error extracting food pairings\n"
     ]
    },
    {
     "name": "stderr",
     "output_type": "stream",
     "text": [
      " 42%|████▏     | 70/166 [02:17<02:56,  1.83s/it]"
     ]
    },
    {
     "name": "stdout",
     "output_type": "stream",
     "text": [
      "Result found: Les Vins Pirouettes Le Brutal de Jean-Marc\n",
      "Checking link: https://www.vivino.com/US/en/wines/165681804\n"
     ]
    },
    {
     "name": "stderr",
     "output_type": "stream",
     "text": [
      " 43%|████▎     | 71/166 [02:19<02:58,  1.87s/it]"
     ]
    },
    {
     "name": "stdout",
     "output_type": "stream",
     "text": [
      "Result found: Les Solstices (FR) Cuvée Tradition Blanc de France\n",
      "Checking link: https://www.vivino.com/US/en/wines/151405188\n",
      "Error extracting food pairings\n"
     ]
    },
    {
     "name": "stderr",
     "output_type": "stream",
     "text": [
      " 43%|████▎     | 72/166 [02:21<03:01,  1.93s/it]"
     ]
    },
    {
     "name": "stdout",
     "output_type": "stream",
     "text": [
      "Result found: Marks & Spencer Val de Loire Sauvignon Blanc\n",
      "Checking link: https://www.vivino.com/US/en/wines/6162517\n",
      "Error extracting food pairings\n"
     ]
    },
    {
     "name": "stderr",
     "output_type": "stream",
     "text": [
      " 44%|████▍     | 73/166 [02:23<02:52,  1.86s/it]"
     ]
    },
    {
     "name": "stdout",
     "output_type": "stream",
     "text": [
      "Result found: Gabriel's Wine Kakhuri Mtsvane - Rkatsiteli\n",
      "Checking link: https://www.vivino.com/US/en/wines/160549112\n"
     ]
    },
    {
     "name": "stderr",
     "output_type": "stream",
     "text": [
      " 45%|████▍     | 74/166 [02:25<02:54,  1.89s/it]"
     ]
    },
    {
     "name": "stdout",
     "output_type": "stream",
     "text": [
      "Result found: Dila-o Rkatsiteli - Mtsvane Amber Dry\n",
      "Checking link: https://www.vivino.com/US/en/wines/153291990\n"
     ]
    },
    {
     "name": "stderr",
     "output_type": "stream",
     "text": [
      " 45%|████▌     | 75/166 [02:27<03:00,  1.99s/it]"
     ]
    },
    {
     "name": "stdout",
     "output_type": "stream",
     "text": [
      "Result found: Qvevri Wine Cellar Mtsvane Qvevri\n",
      "Checking link: https://www.vivino.com/US/en/wines/154783616\n"
     ]
    },
    {
     "name": "stderr",
     "output_type": "stream",
     "text": [
      " 46%|████▌     | 76/166 [02:29<02:51,  1.90s/it]"
     ]
    },
    {
     "name": "stdout",
     "output_type": "stream",
     "text": [
      "Result found: Kiketi Farm Wine (კიკეთის ფერმის ღვინო) Khikhvi Qvevri\n",
      "Checking link: https://www.vivino.com/US/en/wines/174046883\n"
     ]
    },
    {
     "name": "stderr",
     "output_type": "stream",
     "text": [
      " 46%|████▋     | 77/166 [02:30<02:41,  1.81s/it]"
     ]
    },
    {
     "name": "stdout",
     "output_type": "stream",
     "text": [
      "Result found: Nevio Scala Cóntame\n",
      "Checking link: https://www.vivino.com/US/en/wines/158707779\n"
     ]
    },
    {
     "name": "stderr",
     "output_type": "stream",
     "text": [
      " 47%|████▋     | 78/166 [02:32<02:41,  1.84s/it]"
     ]
    },
    {
     "name": "stdout",
     "output_type": "stream",
     "text": [
      "Result found: Podere Pradarolo Velius Rosso Asciutto\n",
      "Checking link: https://www.vivino.com/US/en/wines/2400430\n"
     ]
    },
    {
     "name": "stderr",
     "output_type": "stream",
     "text": [
      " 48%|████▊     | 79/166 [02:34<02:38,  1.82s/it]"
     ]
    },
    {
     "name": "stdout",
     "output_type": "stream",
     "text": [
      "Result found: Az. Agr. Cauda Giuseppe Terre Alfieri Nebbiolo\n",
      "Checking link: https://www.vivino.com/US/en/wines/76495672\n"
     ]
    },
    {
     "name": "stderr",
     "output_type": "stream",
     "text": [
      " 48%|████▊     | 80/166 [02:36<02:48,  1.95s/it]"
     ]
    },
    {
     "name": "stdout",
     "output_type": "stream",
     "text": [
      "Result found: Mas del Périé - Fabien Jouves Skin-Contact Maceracion\n",
      "Checking link: https://www.vivino.com/US/en/wines/163771968\n",
      "Error extracting food pairings\n"
     ]
    },
    {
     "name": "stderr",
     "output_type": "stream",
     "text": [
      " 49%|████▉     | 81/166 [02:38<02:47,  1.97s/it]"
     ]
    },
    {
     "name": "stdout",
     "output_type": "stream",
     "text": [
      "Result found: Bojo do Luar Deu Bode\n",
      "Checking link: https://www.vivino.com/US/en/wines/165412068\n"
     ]
    },
    {
     "name": "stderr",
     "output_type": "stream",
     "text": [
      " 49%|████▉     | 82/166 [02:40<02:46,  1.98s/it]"
     ]
    },
    {
     "name": "stdout",
     "output_type": "stream",
     "text": [
      "Result found: Bojo do Luar Doralice\n",
      "Checking link: https://www.vivino.com/US/en/wines/167978638\n"
     ]
    },
    {
     "name": "stderr",
     "output_type": "stream",
     "text": [
      " 50%|█████     | 83/166 [02:42<02:40,  1.94s/it]"
     ]
    },
    {
     "name": "stdout",
     "output_type": "stream",
     "text": [
      "Result found: Celler Sanromà We've Made Contact\n",
      "Checking link: https://www.vivino.com/US/en/wines/175114853\n",
      "Error extracting food pairings\n"
     ]
    },
    {
     "name": "stderr",
     "output_type": "stream",
     "text": [
      " 51%|█████     | 84/166 [02:45<02:54,  2.13s/it]"
     ]
    },
    {
     "name": "stdout",
     "output_type": "stream",
     "text": [
      "Result found: Costador Metamorphika Xarel·lo Orange (Brisat)\n",
      "Checking link: https://www.vivino.com/US/en/wines/157654106\n",
      "Error extracting food pairings\n"
     ]
    },
    {
     "name": "stderr",
     "output_type": "stream",
     "text": [
      " 51%|█████     | 85/166 [02:47<02:54,  2.15s/it]"
     ]
    },
    {
     "name": "stdout",
     "output_type": "stream",
     "text": [
      "Result found: Alonso & Pedrajo Nauda Blanco\n",
      "Checking link: https://www.vivino.com/US/en/wines/172638266\n"
     ]
    },
    {
     "name": "stderr",
     "output_type": "stream",
     "text": [
      " 52%|█████▏    | 86/166 [02:49<02:42,  2.03s/it]"
     ]
    },
    {
     "name": "stdout",
     "output_type": "stream",
     "text": [
      "Failed to fetch data\n"
     ]
    },
    {
     "name": "stderr",
     "output_type": "stream",
     "text": [
      " 52%|█████▏    | 87/166 [02:49<02:06,  1.60s/it]"
     ]
    },
    {
     "name": "stdout",
     "output_type": "stream",
     "text": [
      "Failed to fetch data\n"
     ]
    },
    {
     "name": "stderr",
     "output_type": "stream",
     "text": [
      " 53%|█████▎    | 88/166 [02:50<01:41,  1.30s/it]"
     ]
    },
    {
     "name": "stdout",
     "output_type": "stream",
     "text": [
      "Failed to fetch data\n"
     ]
    },
    {
     "name": "stderr",
     "output_type": "stream",
     "text": [
      " 54%|█████▎    | 89/166 [02:50<01:24,  1.10s/it]"
     ]
    },
    {
     "name": "stdout",
     "output_type": "stream",
     "text": [
      "Failed to fetch data\n"
     ]
    },
    {
     "name": "stderr",
     "output_type": "stream",
     "text": [
      " 54%|█████▍    | 90/166 [02:51<01:12,  1.05it/s]"
     ]
    },
    {
     "name": "stdout",
     "output_type": "stream",
     "text": [
      "Failed to fetch data\n",
      "Failed 5 times in a row. Pausing for 10 seconds.\n"
     ]
    },
    {
     "name": "stderr",
     "output_type": "stream",
     "text": [
      " 55%|█████▍    | 91/166 [03:02<04:49,  3.86s/it]"
     ]
    },
    {
     "name": "stdout",
     "output_type": "stream",
     "text": [
      "Failed to fetch data\n",
      "Failed 5 times in a row. Pausing for 10 seconds.\n"
     ]
    },
    {
     "name": "stderr",
     "output_type": "stream",
     "text": [
      " 55%|█████▌    | 92/166 [03:12<07:16,  5.90s/it]"
     ]
    },
    {
     "name": "stdout",
     "output_type": "stream",
     "text": [
      "Failed to fetch data\n",
      "Failed 5 times in a row. Pausing for 10 seconds.\n"
     ]
    },
    {
     "name": "stderr",
     "output_type": "stream",
     "text": [
      " 56%|█████▌    | 93/166 [03:23<08:54,  7.32s/it]"
     ]
    },
    {
     "name": "stdout",
     "output_type": "stream",
     "text": [
      "Failed to fetch data\n",
      "Failed 5 times in a row. Pausing for 10 seconds.\n"
     ]
    },
    {
     "name": "stderr",
     "output_type": "stream",
     "text": [
      " 57%|█████▋    | 94/166 [03:34<09:59,  8.32s/it]"
     ]
    },
    {
     "name": "stdout",
     "output_type": "stream",
     "text": [
      "Failed to fetch data\n",
      "Failed 5 times in a row. Pausing for 10 seconds.\n"
     ]
    },
    {
     "name": "stderr",
     "output_type": "stream",
     "text": [
      " 57%|█████▋    | 95/166 [03:44<10:40,  9.02s/it]"
     ]
    },
    {
     "name": "stdout",
     "output_type": "stream",
     "text": [
      "Failed to fetch data\n",
      "Failed 5 times in a row. Pausing for 10 seconds.\n"
     ]
    },
    {
     "name": "stderr",
     "output_type": "stream",
     "text": [
      " 58%|█████▊    | 96/166 [03:55<11:05,  9.51s/it]"
     ]
    },
    {
     "name": "stdout",
     "output_type": "stream",
     "text": [
      "Failed to fetch data\n",
      "Failed 5 times in a row. Pausing for 10 seconds.\n"
     ]
    },
    {
     "name": "stderr",
     "output_type": "stream",
     "text": [
      " 58%|█████▊    | 97/166 [04:06<11:18,  9.84s/it]"
     ]
    },
    {
     "name": "stdout",
     "output_type": "stream",
     "text": [
      "Failed to fetch data\n",
      "Failed 5 times in a row. Pausing for 10 seconds.\n"
     ]
    },
    {
     "name": "stderr",
     "output_type": "stream",
     "text": [
      " 59%|█████▉    | 98/166 [04:16<11:25, 10.08s/it]"
     ]
    },
    {
     "name": "stdout",
     "output_type": "stream",
     "text": [
      "Failed to fetch data\n",
      "Failed 5 times in a row. Pausing for 10 seconds.\n"
     ]
    },
    {
     "name": "stderr",
     "output_type": "stream",
     "text": [
      " 60%|█████▉    | 99/166 [04:27<11:26, 10.24s/it]"
     ]
    },
    {
     "name": "stdout",
     "output_type": "stream",
     "text": [
      "Failed to fetch data\n",
      "Failed 5 times in a row. Pausing for 10 seconds.\n"
     ]
    },
    {
     "name": "stderr",
     "output_type": "stream",
     "text": [
      " 60%|██████    | 100/166 [04:37<11:23, 10.36s/it]"
     ]
    },
    {
     "name": "stdout",
     "output_type": "stream",
     "text": [
      "Failed to fetch data\n",
      "Failed 5 times in a row. Pausing for 10 seconds.\n"
     ]
    },
    {
     "name": "stderr",
     "output_type": "stream",
     "text": [
      " 61%|██████    | 101/166 [04:48<11:18, 10.44s/it]"
     ]
    },
    {
     "name": "stdout",
     "output_type": "stream",
     "text": [
      "Failed to fetch data\n",
      "Failed 5 times in a row. Pausing for 10 seconds.\n"
     ]
    },
    {
     "name": "stderr",
     "output_type": "stream",
     "text": [
      " 61%|██████▏   | 102/166 [04:59<11:11, 10.50s/it]"
     ]
    },
    {
     "name": "stdout",
     "output_type": "stream",
     "text": [
      "Failed to fetch data\n",
      "Failed 5 times in a row. Pausing for 10 seconds.\n"
     ]
    },
    {
     "name": "stderr",
     "output_type": "stream",
     "text": [
      " 62%|██████▏   | 103/166 [05:09<11:04, 10.54s/it]"
     ]
    },
    {
     "name": "stdout",
     "output_type": "stream",
     "text": [
      "Failed to fetch data\n",
      "Failed 5 times in a row. Pausing for 10 seconds.\n"
     ]
    },
    {
     "name": "stderr",
     "output_type": "stream",
     "text": [
      " 63%|██████▎   | 104/166 [05:20<10:55, 10.57s/it]"
     ]
    },
    {
     "name": "stdout",
     "output_type": "stream",
     "text": [
      "Failed to fetch data\n",
      "Failed 5 times in a row. Pausing for 10 seconds.\n"
     ]
    },
    {
     "name": "stderr",
     "output_type": "stream",
     "text": [
      " 63%|██████▎   | 105/166 [05:31<10:45, 10.59s/it]"
     ]
    },
    {
     "name": "stdout",
     "output_type": "stream",
     "text": [
      "Failed to fetch data\n",
      "Failed 5 times in a row. Pausing for 10 seconds.\n"
     ]
    },
    {
     "name": "stderr",
     "output_type": "stream",
     "text": [
      " 64%|██████▍   | 106/166 [05:41<10:35, 10.60s/it]"
     ]
    },
    {
     "name": "stdout",
     "output_type": "stream",
     "text": [
      "Failed to fetch data\n",
      "Failed 5 times in a row. Pausing for 10 seconds.\n"
     ]
    },
    {
     "name": "stderr",
     "output_type": "stream",
     "text": [
      " 64%|██████▍   | 107/166 [05:52<10:25, 10.61s/it]"
     ]
    },
    {
     "name": "stdout",
     "output_type": "stream",
     "text": [
      "Failed to fetch data\n",
      "Failed 5 times in a row. Pausing for 10 seconds.\n"
     ]
    },
    {
     "name": "stderr",
     "output_type": "stream",
     "text": [
      " 65%|██████▌   | 108/166 [06:02<10:15, 10.61s/it]"
     ]
    },
    {
     "name": "stdout",
     "output_type": "stream",
     "text": [
      "Failed to fetch data\n",
      "Failed 5 times in a row. Pausing for 10 seconds.\n"
     ]
    },
    {
     "name": "stderr",
     "output_type": "stream",
     "text": [
      " 66%|██████▌   | 109/166 [06:13<10:04, 10.61s/it]"
     ]
    },
    {
     "name": "stdout",
     "output_type": "stream",
     "text": [
      "Result found: Arnot-Roberts Fellom Ranch Cabernet Sauvignon\n",
      "Checking link: https://www.vivino.com/US/en/wines/4736264\n"
     ]
    },
    {
     "name": "stderr",
     "output_type": "stream",
     "text": [
      " 66%|██████▋   | 110/166 [06:15<07:28,  8.02s/it]"
     ]
    },
    {
     "name": "stdout",
     "output_type": "stream",
     "text": [
      "Result found: Matthiasson Cabernet Sauvignon\n",
      "Checking link: https://www.vivino.com/US/en/wines/4885711\n"
     ]
    },
    {
     "name": "stderr",
     "output_type": "stream",
     "text": [
      " 67%|██████▋   | 111/166 [06:17<05:43,  6.25s/it]"
     ]
    },
    {
     "name": "stdout",
     "output_type": "stream",
     "text": [
      "Result found: Bedrock Wine Co. Cabernet Sauvignon\n",
      "Checking link: https://www.vivino.com/US/en/wines/160010627\n"
     ]
    },
    {
     "name": "stderr",
     "output_type": "stream",
     "text": [
      " 67%|██████▋   | 112/166 [06:19<04:25,  4.92s/it]"
     ]
    },
    {
     "name": "stdout",
     "output_type": "stream",
     "text": [
      "Result found: Sky Vineyards Late Harvest Zinfandel\n",
      "Checking link: https://www.vivino.com/US/en/wines/3314505\n"
     ]
    },
    {
     "name": "stderr",
     "output_type": "stream",
     "text": [
      " 68%|██████▊   | 113/166 [06:21<03:30,  3.96s/it]"
     ]
    },
    {
     "name": "stdout",
     "output_type": "stream",
     "text": [
      "Result found: Erggelet Brothers Zinfandel\n",
      "Checking link: https://www.vivino.com/US/en/wines/166029741\n"
     ]
    },
    {
     "name": "stderr",
     "output_type": "stream",
     "text": [
      " 69%|██████▊   | 114/166 [06:23<02:57,  3.42s/it]"
     ]
    },
    {
     "name": "stdout",
     "output_type": "stream",
     "text": [
      "Result found: A Los Viñateros Bravos Granítico País\n",
      "Checking link: https://www.vivino.com/US/en/wines/157410486\n",
      "Error extracting food pairings\n"
     ]
    },
    {
     "name": "stderr",
     "output_type": "stream",
     "text": [
      " 69%|██████▉   | 115/166 [06:25<02:30,  2.95s/it]"
     ]
    },
    {
     "name": "stdout",
     "output_type": "stream",
     "text": [
      "Result found: A Los Viñateros Bravos Granítico Cinsault\n",
      "Checking link: https://www.vivino.com/US/en/wines/152773611\n",
      "Error extracting food pairings\n"
     ]
    },
    {
     "name": "stderr",
     "output_type": "stream",
     "text": [
      " 70%|██████▉   | 116/166 [06:27<02:11,  2.62s/it]"
     ]
    },
    {
     "name": "stdout",
     "output_type": "stream",
     "text": [
      "Result found: A Los Viñateros Bravos El Túnel\n",
      "Checking link: https://www.vivino.com/US/en/wines/152772560\n",
      "Error extracting food pairings\n"
     ]
    },
    {
     "name": "stderr",
     "output_type": "stream",
     "text": [
      " 70%|███████   | 117/166 [06:29<02:04,  2.54s/it]"
     ]
    },
    {
     "name": "stdout",
     "output_type": "stream",
     "text": [
      "Result found: Roberto Henriquez País Verde\n",
      "Checking link: https://www.vivino.com/US/en/wines/158175790\n",
      "Error extracting food pairings\n"
     ]
    },
    {
     "name": "stderr",
     "output_type": "stream",
     "text": [
      " 71%|███████   | 118/166 [06:31<01:53,  2.37s/it]"
     ]
    },
    {
     "name": "stdout",
     "output_type": "stream",
     "text": [
      "Result found: Vinogorje Brac SV.Vid Plavac Mali Kvalitetno Vino\n",
      "Checking link: https://www.vivino.com/US/en/wines/4954897\n"
     ]
    },
    {
     "name": "stderr",
     "output_type": "stream",
     "text": [
      " 72%|███████▏  | 119/166 [06:33<01:44,  2.23s/it]"
     ]
    },
    {
     "name": "stdout",
     "output_type": "stream",
     "text": [
      "Result found: Domaine Les Grandes Vignes - Vaillant Le P'tit Vaillant Blanc\n",
      "Checking link: https://www.vivino.com/US/en/wines/177224874\n",
      "Error extracting food pairings\n"
     ]
    },
    {
     "name": "stderr",
     "output_type": "stream",
     "text": [
      " 72%|███████▏  | 120/166 [06:35<01:45,  2.29s/it]"
     ]
    },
    {
     "name": "stdout",
     "output_type": "stream",
     "text": [
      "Result found: Domaine Breton - Catherine & Pierre Breton Clos Sénéchal\n",
      "Checking link: https://www.vivino.com/US/en/wines/4774002\n"
     ]
    },
    {
     "name": "stderr",
     "output_type": "stream",
     "text": [
      " 73%|███████▎  | 121/166 [06:37<01:40,  2.24s/it]"
     ]
    },
    {
     "name": "stdout",
     "output_type": "stream",
     "text": [
      "Result found: Couly-Dutheil Retour au Franc Chinon Cabernet Franc\n",
      "Checking link: https://www.vivino.com/US/en/wines/43406158\n",
      "Error extracting food pairings\n"
     ]
    },
    {
     "name": "stderr",
     "output_type": "stream",
     "text": [
      " 73%|███████▎  | 122/166 [06:39<01:29,  2.03s/it]"
     ]
    },
    {
     "name": "stdout",
     "output_type": "stream",
     "text": [
      "Result found: Pierre Richard Hermétique Trousseau\n",
      "Checking link: https://www.vivino.com/US/en/wines/170698054\n"
     ]
    },
    {
     "name": "stderr",
     "output_type": "stream",
     "text": [
      " 74%|███████▍  | 123/166 [06:41<01:23,  1.95s/it]"
     ]
    },
    {
     "name": "stdout",
     "output_type": "stream",
     "text": [
      "Result found: Domaine Chevrot Santenay 1er Cru 'Clos Rousseau'\n",
      "Checking link: https://www.vivino.com/US/en/wines/4769574\n"
     ]
    },
    {
     "name": "stderr",
     "output_type": "stream",
     "text": [
      " 75%|███████▍  | 124/166 [06:43<01:23,  1.99s/it]"
     ]
    },
    {
     "name": "stdout",
     "output_type": "stream",
     "text": [
      "Result found: Château Cambon Beaujolais\n",
      "Checking link: https://www.vivino.com/US/en/wines/3660665\n"
     ]
    },
    {
     "name": "stderr",
     "output_type": "stream",
     "text": [
      " 75%|███████▌  | 125/166 [06:45<01:20,  1.97s/it]"
     ]
    },
    {
     "name": "stdout",
     "output_type": "stream",
     "text": [
      "Result found: Clusel-Roch Les Schistes Côte-Rôtie\n",
      "Checking link: https://www.vivino.com/US/en/wines/158840078\n"
     ]
    },
    {
     "name": "stderr",
     "output_type": "stream",
     "text": [
      " 76%|███████▌  | 126/166 [06:47<01:19,  1.99s/it]"
     ]
    },
    {
     "name": "stdout",
     "output_type": "stream",
     "text": [
      "Result found: Charles et Francois Tardy Domaine des Entrefaux Crozes-Hermitage\n",
      "Checking link: https://www.vivino.com/US/en/wines/1502011\n"
     ]
    },
    {
     "name": "stderr",
     "output_type": "stream",
     "text": [
      " 77%|███████▋  | 127/166 [06:49<01:18,  2.00s/it]"
     ]
    },
    {
     "name": "stdout",
     "output_type": "stream",
     "text": [
      "Result found: Domaine André Mathieu Châteauneuf-du-Pape\n",
      "Checking link: https://www.vivino.com/US/en/wines/1487589\n"
     ]
    },
    {
     "name": "stderr",
     "output_type": "stream",
     "text": [
      " 77%|███████▋  | 128/166 [06:51<01:15,  1.99s/it]"
     ]
    },
    {
     "name": "stdout",
     "output_type": "stream",
     "text": [
      "Result found: Château Tour de Bonnet Grande Cuvée Merlot - Cabernet Sauvignon\n",
      "Checking link: https://www.vivino.com/US/en/wines/36343673\n"
     ]
    },
    {
     "name": "stderr",
     "output_type": "stream",
     "text": [
      " 78%|███████▊  | 129/166 [06:53<01:15,  2.04s/it]"
     ]
    },
    {
     "name": "stdout",
     "output_type": "stream",
     "text": [
      "Result found: Château Peyredon Lagravette Haut-Médoc Rouge\n",
      "Checking link: https://www.vivino.com/US/en/wines/4824864\n"
     ]
    },
    {
     "name": "stderr",
     "output_type": "stream",
     "text": [
      " 78%|███████▊  | 130/166 [06:55<01:11,  1.99s/it]"
     ]
    },
    {
     "name": "stdout",
     "output_type": "stream",
     "text": [
      "Result found: Matassa Coume de l'Olla Rouge\n",
      "Checking link: https://www.vivino.com/US/en/wines/30923686\n",
      "Error extracting food pairings\n"
     ]
    },
    {
     "name": "stderr",
     "output_type": "stream",
     "text": [
      " 79%|███████▉  | 131/166 [06:57<01:08,  1.95s/it]"
     ]
    },
    {
     "name": "stdout",
     "output_type": "stream",
     "text": [
      "Result found: Clos d'Audhuy Toujours Plus Malbec\n",
      "Checking link: https://www.vivino.com/US/en/wines/175280909\n"
     ]
    },
    {
     "name": "stderr",
     "output_type": "stream",
     "text": [
      " 80%|███████▉  | 132/166 [06:58<01:03,  1.87s/it]"
     ]
    },
    {
     "name": "stdout",
     "output_type": "stream",
     "text": [
      "Result found: Naberauli Wines (ნაბერაული) Saperavi - Dzelshavi (საფერავი - ძელშავი წითელი მშრალი)\n",
      "Checking link: https://www.vivino.com/US/en/wines/169317194\n"
     ]
    },
    {
     "name": "stderr",
     "output_type": "stream",
     "text": [
      " 80%|████████  | 133/166 [07:00<01:02,  1.89s/it]"
     ]
    },
    {
     "name": "stdout",
     "output_type": "stream",
     "text": [
      "Result found: Trullo di Pezza Licurti Primitivo di Manduria\n",
      "Checking link: https://www.vivino.com/US/en/wines/5818920\n"
     ]
    },
    {
     "name": "stderr",
     "output_type": "stream",
     "text": [
      " 81%|████████  | 134/166 [07:02<01:03,  1.99s/it]"
     ]
    },
    {
     "name": "stdout",
     "output_type": "stream",
     "text": [
      "Result found: Emidio Pepe Montepulciano d'Abruzzo\n",
      "Checking link: https://www.vivino.com/US/en/wines/1640203\n"
     ]
    },
    {
     "name": "stderr",
     "output_type": "stream",
     "text": [
      " 81%|████████▏ | 135/166 [07:06<01:14,  2.41s/it]"
     ]
    },
    {
     "name": "stdout",
     "output_type": "stream",
     "text": [
      "Result found: De Angelis Corvi Fonte Raviliano Montepulciano d'Abruzzo Colline Teramane\n",
      "Checking link: https://www.vivino.com/US/en/wines/155607401\n"
     ]
    },
    {
     "name": "stderr",
     "output_type": "stream",
     "text": [
      " 82%|████████▏ | 136/166 [07:08<01:06,  2.22s/it]"
     ]
    },
    {
     "name": "stdout",
     "output_type": "stream",
     "text": [
      "Result found: Istine Chianti Classico\n",
      "Checking link: https://www.vivino.com/US/en/wines/4993003\n"
     ]
    },
    {
     "name": "stderr",
     "output_type": "stream",
     "text": [
      " 83%|████████▎ | 137/166 [07:09<00:59,  2.05s/it]"
     ]
    },
    {
     "name": "stdout",
     "output_type": "stream",
     "text": [
      "Result found: Ombretta Agricola Fermo Rosso\n",
      "Checking link: https://www.vivino.com/US/en/wines/161862994\n"
     ]
    },
    {
     "name": "stderr",
     "output_type": "stream",
     "text": [
      " 83%|████████▎ | 138/166 [07:12<00:59,  2.12s/it]"
     ]
    },
    {
     "name": "stdout",
     "output_type": "stream",
     "text": [
      "Result found: Fuso Tèh Rosso\n",
      "Checking link: https://www.vivino.com/US/en/wines/172637975\n"
     ]
    },
    {
     "name": "stderr",
     "output_type": "stream",
     "text": [
      " 84%|████████▎ | 139/166 [07:13<00:54,  2.03s/it]"
     ]
    },
    {
     "name": "stdout",
     "output_type": "stream",
     "text": [
      "Result found: Cascina Gasparda Da Nord Rosso\n",
      "Checking link: https://www.vivino.com/US/en/wines/172251976\n"
     ]
    },
    {
     "name": "stderr",
     "output_type": "stream",
     "text": [
      " 84%|████████▍ | 140/166 [07:15<00:52,  2.01s/it]"
     ]
    },
    {
     "name": "stdout",
     "output_type": "stream",
     "text": [
      "Result found: Fabio Gea La Msòira e'l Rastel Pino Dolcetto d'Alba Superiore\n",
      "Checking link: https://www.vivino.com/US/en/wines/131219095\n"
     ]
    },
    {
     "name": "stderr",
     "output_type": "stream",
     "text": [
      " 85%|████████▍ | 141/166 [07:17<00:50,  2.01s/it]"
     ]
    },
    {
     "name": "stdout",
     "output_type": "stream",
     "text": [
      "Result found: Rivella Serafino Montestefano Barbaresco\n",
      "Checking link: https://www.vivino.com/US/en/wines/1582904\n"
     ]
    },
    {
     "name": "stderr",
     "output_type": "stream",
     "text": [
      " 86%|████████▌ | 142/166 [07:19<00:46,  1.94s/it]"
     ]
    },
    {
     "name": "stdout",
     "output_type": "stream",
     "text": [
      "Result found: Marziano E Enrico Abbona d'Alba Nebbiolo\n",
      "Checking link: https://www.vivino.com/US/en/wines/15558554\n"
     ]
    },
    {
     "name": "stderr",
     "output_type": "stream",
     "text": [
      " 86%|████████▌ | 143/166 [07:21<00:42,  1.84s/it]"
     ]
    },
    {
     "name": "stdout",
     "output_type": "stream",
     "text": [
      "Result found: Viberti Giacomo e Figli Palotu Langhe Nebbiolo\n",
      "Checking link: https://www.vivino.com/US/en/wines/4982454\n"
     ]
    },
    {
     "name": "stderr",
     "output_type": "stream",
     "text": [
      " 87%|████████▋ | 144/166 [07:22<00:39,  1.81s/it]"
     ]
    },
    {
     "name": "stdout",
     "output_type": "stream",
     "text": [
      "Result found: Ap Vino Rosso\n",
      "Checking link: https://www.vivino.com/US/en/wines/1468844\n"
     ]
    },
    {
     "name": "stderr",
     "output_type": "stream",
     "text": [
      " 87%|████████▋ | 145/166 [07:24<00:37,  1.77s/it]"
     ]
    },
    {
     "name": "stdout",
     "output_type": "stream",
     "text": [
      "Result found: Feudo Montoni Vigna Lagnusa Nero d'Avola\n",
      "Checking link: https://www.vivino.com/US/en/wines/10417723\n"
     ]
    },
    {
     "name": "stderr",
     "output_type": "stream",
     "text": [
      " 88%|████████▊ | 146/166 [07:27<00:39,  1.98s/it]"
     ]
    },
    {
     "name": "stdout",
     "output_type": "stream",
     "text": [
      "Result found: Bichi Gordo Guapo\n",
      "Checking link: https://www.vivino.com/US/en/wines/176312865\n",
      "Error extracting food pairings\n"
     ]
    },
    {
     "name": "stderr",
     "output_type": "stream",
     "text": [
      " 89%|████████▊ | 147/166 [07:28<00:35,  1.89s/it]"
     ]
    },
    {
     "name": "stdout",
     "output_type": "stream",
     "text": [
      "Result found: Ravines Cabernet Franc\n",
      "Checking link: https://www.vivino.com/US/en/wines/2452978\n"
     ]
    },
    {
     "name": "stderr",
     "output_type": "stream",
     "text": [
      " 89%|████████▉ | 148/166 [07:31<00:37,  2.07s/it]"
     ]
    },
    {
     "name": "stdout",
     "output_type": "stream",
     "text": [
      "Result found: Portal do Minho Branco\n",
      "Checking link: https://www.vivino.com/US/en/wines/1585652\n"
     ]
    },
    {
     "name": "stderr",
     "output_type": "stream",
     "text": [
      " 90%|████████▉ | 149/166 [07:33<00:34,  2.05s/it]"
     ]
    },
    {
     "name": "stdout",
     "output_type": "stream",
     "text": [
      "Result found: Bojo do Luar Duplo\n",
      "Checking link: https://www.vivino.com/US/en/wines/171676424\n"
     ]
    },
    {
     "name": "stderr",
     "output_type": "stream",
     "text": [
      " 90%|█████████ | 150/166 [07:35<00:32,  2.06s/it]"
     ]
    },
    {
     "name": "stdout",
     "output_type": "stream",
     "text": [
      "Result found: Hugo Mendes Castelão\n",
      "Checking link: https://www.vivino.com/US/en/wines/165588160\n"
     ]
    },
    {
     "name": "stderr",
     "output_type": "stream",
     "text": [
      " 91%|█████████ | 151/166 [07:37<00:31,  2.09s/it]"
     ]
    },
    {
     "name": "stdout",
     "output_type": "stream",
     "text": [
      "Result found: Casa de Saima Grande Reserva Baga da Corga\n",
      "Checking link: https://www.vivino.com/US/en/wines/3491716\n"
     ]
    },
    {
     "name": "stderr",
     "output_type": "stream",
     "text": [
      " 92%|█████████▏| 152/166 [07:39<00:27,  1.99s/it]"
     ]
    },
    {
     "name": "stdout",
     "output_type": "stream",
     "text": [
      "Result found: Maurer Crazylud\n",
      "Checking link: https://www.vivino.com/US/en/wines/164547547\n",
      "Error extracting food pairings\n"
     ]
    },
    {
     "name": "stderr",
     "output_type": "stream",
     "text": [
      " 92%|█████████▏| 153/166 [07:40<00:24,  1.90s/it]"
     ]
    },
    {
     "name": "stdout",
     "output_type": "stream",
     "text": [
      "Result found: Iria Otero A Seara Castes Tintas\n",
      "Checking link: https://www.vivino.com/US/en/wines/168047540\n"
     ]
    },
    {
     "name": "stderr",
     "output_type": "stream",
     "text": [
      " 93%|█████████▎| 154/166 [07:43<00:23,  1.97s/it]"
     ]
    },
    {
     "name": "stdout",
     "output_type": "stream",
     "text": [
      "Result found: Iria Otero Teixugo\n",
      "Checking link: https://www.vivino.com/US/en/wines/164855876\n"
     ]
    },
    {
     "name": "stderr",
     "output_type": "stream",
     "text": [
      " 93%|█████████▎| 155/166 [07:44<00:20,  1.82s/it]"
     ]
    },
    {
     "name": "stdout",
     "output_type": "stream",
     "text": [
      "Result found: César Márquez Pico Ferreira\n",
      "Checking link: https://www.vivino.com/US/en/wines/154558785\n"
     ]
    },
    {
     "name": "stderr",
     "output_type": "stream",
     "text": [
      " 94%|█████████▍| 156/166 [07:46<00:17,  1.80s/it]"
     ]
    },
    {
     "name": "stdout",
     "output_type": "stream",
     "text": [
      "Result found: R. López de Heredia Viña Tondonia Reserva\n",
      "Checking link: https://www.vivino.com/US/en/wines/1970246\n"
     ]
    },
    {
     "name": "stderr",
     "output_type": "stream",
     "text": [
      " 95%|█████████▍| 157/166 [07:49<00:19,  2.17s/it]"
     ]
    },
    {
     "name": "stdout",
     "output_type": "stream",
     "text": [
      "Result found: Marques del Atrio Tempranillo - Graciano\n",
      "Checking link: https://www.vivino.com/US/en/wines/161225568\n"
     ]
    },
    {
     "name": "stderr",
     "output_type": "stream",
     "text": [
      " 95%|█████████▌| 158/166 [07:51<00:17,  2.14s/it]"
     ]
    },
    {
     "name": "stdout",
     "output_type": "stream",
     "text": [
      "Result found: Vega Sicilia Valbuena 5º (Reserva)\n",
      "Checking link: https://www.vivino.com/US/en/wines/1491028\n"
     ]
    },
    {
     "name": "stderr",
     "output_type": "stream",
     "text": [
      " 96%|█████████▌| 159/166 [07:53<00:15,  2.17s/it]"
     ]
    },
    {
     "name": "stdout",
     "output_type": "stream",
     "text": [
      "Failed to fetch data\n"
     ]
    },
    {
     "name": "stderr",
     "output_type": "stream",
     "text": [
      " 96%|█████████▋| 160/166 [07:54<00:10,  1.71s/it]"
     ]
    },
    {
     "name": "stdout",
     "output_type": "stream",
     "text": [
      "Failed to fetch data\n"
     ]
    },
    {
     "name": "stderr",
     "output_type": "stream",
     "text": [
      " 97%|█████████▋| 161/166 [07:54<00:06,  1.38s/it]"
     ]
    },
    {
     "name": "stdout",
     "output_type": "stream",
     "text": [
      "Failed to fetch data\n"
     ]
    },
    {
     "name": "stderr",
     "output_type": "stream",
     "text": [
      " 98%|█████████▊| 162/166 [07:55<00:04,  1.15s/it]"
     ]
    },
    {
     "name": "stdout",
     "output_type": "stream",
     "text": [
      "Failed to fetch data\n"
     ]
    },
    {
     "name": "stderr",
     "output_type": "stream",
     "text": [
      " 98%|█████████▊| 163/166 [07:56<00:02,  1.01it/s]"
     ]
    },
    {
     "name": "stdout",
     "output_type": "stream",
     "text": [
      "Failed to fetch data\n",
      "Failed 5 times in a row. Pausing for 10 seconds.\n"
     ]
    },
    {
     "name": "stderr",
     "output_type": "stream",
     "text": [
      " 99%|█████████▉| 164/166 [08:06<00:07,  3.87s/it]"
     ]
    },
    {
     "name": "stdout",
     "output_type": "stream",
     "text": [
      "Failed to fetch data\n",
      "Failed 5 times in a row. Pausing for 10 seconds.\n"
     ]
    },
    {
     "name": "stderr",
     "output_type": "stream",
     "text": [
      " 99%|█████████▉| 165/166 [08:17<00:05,  5.99s/it]"
     ]
    },
    {
     "name": "stdout",
     "output_type": "stream",
     "text": [
      "Failed to fetch data\n",
      "Failed 5 times in a row. Pausing for 10 seconds.\n"
     ]
    },
    {
     "name": "stderr",
     "output_type": "stream",
     "text": [
      "100%|██████████| 166/166 [08:28<00:00,  3.06s/it]\n"
     ]
    },
    {
     "data": {
      "text/html": [
       "<div>\n",
       "<style scoped>\n",
       "    .dataframe tbody tr th:only-of-type {\n",
       "        vertical-align: middle;\n",
       "    }\n",
       "\n",
       "    .dataframe tbody tr th {\n",
       "        vertical-align: top;\n",
       "    }\n",
       "\n",
       "    .dataframe thead th {\n",
       "        text-align: right;\n",
       "    }\n",
       "</style>\n",
       "<table border=\"1\" class=\"dataframe\">\n",
       "  <thead>\n",
       "    <tr style=\"text-align: right;\">\n",
       "      <th></th>\n",
       "      <th>id</th>\n",
       "      <th>producer</th>\n",
       "      <th>name</th>\n",
       "      <th>type</th>\n",
       "      <th>main_type</th>\n",
       "      <th>region</th>\n",
       "      <th>country</th>\n",
       "      <th>vintage</th>\n",
       "      <th>menu_price</th>\n",
       "      <th>size</th>\n",
       "      <th>food_pairings</th>\n",
       "      <th>vivino_price</th>\n",
       "      <th>price_multiplier</th>\n",
       "      <th>rating</th>\n",
       "      <th>link</th>\n",
       "    </tr>\n",
       "  </thead>\n",
       "  <tbody>\n",
       "    <tr>\n",
       "      <th>0</th>\n",
       "      <td>NaN</td>\n",
       "      <td>Chëpìka</td>\n",
       "      <td>Petnat Catawba</td>\n",
       "      <td>PETNAT</td>\n",
       "      <td>WHITE</td>\n",
       "      <td>Finger Lakes</td>\n",
       "      <td>USA</td>\n",
       "      <td>2021</td>\n",
       "      <td>64.0</td>\n",
       "      <td>bottle</td>\n",
       "      <td>[]</td>\n",
       "      <td>30.15</td>\n",
       "      <td>2.12272</td>\n",
       "      <td>3.9</td>\n",
       "      <td>https://www.vivino.com/US/en/wines/155265081</td>\n",
       "    </tr>\n",
       "    <tr>\n",
       "      <th>1</th>\n",
       "      <td>NaN</td>\n",
       "      <td>La Ferme du Vert</td>\n",
       "      <td>L' Angelou Blanc Bulle</td>\n",
       "      <td>NaN</td>\n",
       "      <td>WHITE</td>\n",
       "      <td>Southwest</td>\n",
       "      <td>FRA</td>\n",
       "      <td>2021</td>\n",
       "      <td>56.0</td>\n",
       "      <td>bottle</td>\n",
       "      <td>[Shellfish, Poultry, Appetizers and snacks, Le...</td>\n",
       "      <td>21.59</td>\n",
       "      <td>2.593793</td>\n",
       "      <td>3.9</td>\n",
       "      <td>https://www.vivino.com/US/en/wines/37976367</td>\n",
       "    </tr>\n",
       "    <tr>\n",
       "      <th>2</th>\n",
       "      <td>NaN</td>\n",
       "      <td>Guiborat</td>\n",
       "      <td>Prisme - Blanc de Blancs</td>\n",
       "      <td>BLANC DE BLANCS, GRAND CRU EXTRA BRUT</td>\n",
       "      <td>SPARKLING</td>\n",
       "      <td>Champagne</td>\n",
       "      <td>FRA</td>\n",
       "      <td>NaN</td>\n",
       "      <td>144.0</td>\n",
       "      <td>bottle</td>\n",
       "      <td>[Pork, Shellfish, Rich fish (salmon, tuna etc)...</td>\n",
       "      <td>23.99</td>\n",
       "      <td>6.002501</td>\n",
       "      <td>4.0</td>\n",
       "      <td>https://www.vivino.com/US/en/wines/163391155</td>\n",
       "    </tr>\n",
       "    <tr>\n",
       "      <th>3</th>\n",
       "      <td>NaN</td>\n",
       "      <td>Pierre Moncuit</td>\n",
       "      <td>Delos Blanc de Blancs</td>\n",
       "      <td>BLANC DE BLANCS, GRAND CRU BRUT</td>\n",
       "      <td>SPARKLING</td>\n",
       "      <td>Champagne</td>\n",
       "      <td>FRA</td>\n",
       "      <td>NaN</td>\n",
       "      <td>117.0</td>\n",
       "      <td>bottle</td>\n",
       "      <td>[Pork, Shellfish, Rich fish (salmon, tuna etc)...</td>\n",
       "      <td>N/A</td>\n",
       "      <td>N/A</td>\n",
       "      <td>4.1</td>\n",
       "      <td>https://www.vivino.com/US/en/wines/3765256</td>\n",
       "    </tr>\n",
       "    <tr>\n",
       "      <th>4</th>\n",
       "      <td>NaN</td>\n",
       "      <td>Robert Moncuit</td>\n",
       "      <td>Millésime Blanc de Blancs</td>\n",
       "      <td>BLANC DE BLANCS, GRAND CRU BRUT</td>\n",
       "      <td>SPARKLING</td>\n",
       "      <td>Champagne</td>\n",
       "      <td>FRA</td>\n",
       "      <td>2013</td>\n",
       "      <td>196.0</td>\n",
       "      <td>bottle</td>\n",
       "      <td>[Pork, Shellfish, Rich fish (salmon, tuna etc)...</td>\n",
       "      <td>N/A</td>\n",
       "      <td>N/A</td>\n",
       "      <td>4.2</td>\n",
       "      <td>https://www.vivino.com/US/en/wines/165673198</td>\n",
       "    </tr>\n",
       "    <tr>\n",
       "      <th>5</th>\n",
       "      <td>NaN</td>\n",
       "      <td>Azienda Agricola Monban</td>\n",
       "      <td>Questo Neanche</td>\n",
       "      <td>COL FONDO</td>\n",
       "      <td>SPARKLING</td>\n",
       "      <td>Veneto</td>\n",
       "      <td>ITA</td>\n",
       "      <td>2021</td>\n",
       "      <td>45.0</td>\n",
       "      <td>bottle</td>\n",
       "      <td>[Shellfish, Pasta, Mature and hard cheese, Lea...</td>\n",
       "      <td>48.99</td>\n",
       "      <td>0.918555</td>\n",
       "      <td>4.2</td>\n",
       "      <td>https://www.vivino.com/US/en/wines/1912147</td>\n",
       "    </tr>\n",
       "    <tr>\n",
       "      <th>6</th>\n",
       "      <td>NaN</td>\n",
       "      <td>Diletta Tonello</td>\n",
       "      <td>Marachelle</td>\n",
       "      <td>FRIZZANTE</td>\n",
       "      <td>WHITE</td>\n",
       "      <td>Veneto</td>\n",
       "      <td>ITA</td>\n",
       "      <td>NaN</td>\n",
       "      <td>53.0</td>\n",
       "      <td>bottle</td>\n",
       "      <td>[Appetizers and snacks, Aperitif]</td>\n",
       "      <td>N/A</td>\n",
       "      <td>N/A</td>\n",
       "      <td>4.0</td>\n",
       "      <td>https://www.vivino.com/US/en/wines/174221101</td>\n",
       "    </tr>\n",
       "    <tr>\n",
       "      <th>7</th>\n",
       "      <td>NaN</td>\n",
       "      <td>Aldo Viola</td>\n",
       "      <td>Brutto</td>\n",
       "      <td>NaN</td>\n",
       "      <td>WHITE</td>\n",
       "      <td>Sicily</td>\n",
       "      <td>ITA</td>\n",
       "      <td>2022</td>\n",
       "      <td>49.0</td>\n",
       "      <td>bottle</td>\n",
       "      <td>[Appetizers and snacks, Aperitif]</td>\n",
       "      <td>N/A</td>\n",
       "      <td>N/A</td>\n",
       "      <td>4.0</td>\n",
       "      <td>https://www.vivino.com/US/en/wines/160956141</td>\n",
       "    </tr>\n",
       "    <tr>\n",
       "      <th>8</th>\n",
       "      <td>NaN</td>\n",
       "      <td>Joao Pato</td>\n",
       "      <td>Ducking</td>\n",
       "      <td>PETNAT</td>\n",
       "      <td>WHITE</td>\n",
       "      <td>Bairrada</td>\n",
       "      <td>PRT</td>\n",
       "      <td>2022</td>\n",
       "      <td>61.0</td>\n",
       "      <td>bottle</td>\n",
       "      <td>[Shellfish, Rich fish (salmon, tuna etc), Appe...</td>\n",
       "      <td>N/A</td>\n",
       "      <td>N/A</td>\n",
       "      <td>3.9</td>\n",
       "      <td>https://www.vivino.com/US/en/wines/167366463</td>\n",
       "    </tr>\n",
       "    <tr>\n",
       "      <th>9</th>\n",
       "      <td>NaN</td>\n",
       "      <td>Familie Bauer</td>\n",
       "      <td>Unsprung</td>\n",
       "      <td>PETNAT</td>\n",
       "      <td>WHITE</td>\n",
       "      <td>Wagram</td>\n",
       "      <td>AUT</td>\n",
       "      <td>2021</td>\n",
       "      <td>52.0</td>\n",
       "      <td>bottle</td>\n",
       "      <td>[Pork, Shellfish, Poultry, Rich fish (salmon, ...</td>\n",
       "      <td>22.99</td>\n",
       "      <td>2.261853</td>\n",
       "      <td>4.1</td>\n",
       "      <td>https://www.vivino.com/US/en/wines/164244051</td>\n",
       "    </tr>\n",
       "    <tr>\n",
       "      <th>10</th>\n",
       "      <td>NaN</td>\n",
       "      <td>Annesanti</td>\n",
       "      <td>Raspato</td>\n",
       "      <td>FRIZZANTE ROSATO</td>\n",
       "      <td>ROSE</td>\n",
       "      <td>Umbria</td>\n",
       "      <td>ITA</td>\n",
       "      <td>2020</td>\n",
       "      <td>57.0</td>\n",
       "      <td>bottle</td>\n",
       "      <td>[Appetizers and snacks, Aperitif]</td>\n",
       "      <td>N/A</td>\n",
       "      <td>N/A</td>\n",
       "      <td>3.9</td>\n",
       "      <td>https://www.vivino.com/US/en/wines/161193783</td>\n",
       "    </tr>\n",
       "    <tr>\n",
       "      <th>11</th>\n",
       "      <td>NaN</td>\n",
       "      <td>Laherte Frères</td>\n",
       "      <td>Les Beaudiers</td>\n",
       "      <td>ROSÉ DE SAIGNÉE</td>\n",
       "      <td>ROSE</td>\n",
       "      <td>Champagne</td>\n",
       "      <td>FRA</td>\n",
       "      <td>NaN</td>\n",
       "      <td>166.0</td>\n",
       "      <td>bottle</td>\n",
       "      <td>[Pork, Shellfish, Rich fish (salmon, tuna etc)...</td>\n",
       "      <td>N/A</td>\n",
       "      <td>N/A</td>\n",
       "      <td>4.1</td>\n",
       "      <td>https://www.vivino.com/US/en/wines/3477991</td>\n",
       "    </tr>\n",
       "    <tr>\n",
       "      <th>12</th>\n",
       "      <td>NaN</td>\n",
       "      <td>Weszeli</td>\n",
       "      <td>We Love Petnat</td>\n",
       "      <td>PETNAT</td>\n",
       "      <td>ROSE</td>\n",
       "      <td>Kamptal</td>\n",
       "      <td>AUT</td>\n",
       "      <td>2020</td>\n",
       "      <td>57.0</td>\n",
       "      <td>bottle</td>\n",
       "      <td>[Shellfish, Appetizers and snacks, Lean fish, ...</td>\n",
       "      <td>N/A</td>\n",
       "      <td>N/A</td>\n",
       "      <td>3.7</td>\n",
       "      <td>https://www.vivino.com/US/en/wines/167794791</td>\n",
       "    </tr>\n",
       "    <tr>\n",
       "      <th>13</th>\n",
       "      <td>NaN</td>\n",
       "      <td>Sidonio de Sousa</td>\n",
       "      <td>Rose Brut Nature</td>\n",
       "      <td>BRUT NATURE</td>\n",
       "      <td>ROSE</td>\n",
       "      <td>Bairrada</td>\n",
       "      <td>PRT</td>\n",
       "      <td>NaN</td>\n",
       "      <td>46.0</td>\n",
       "      <td>bottle</td>\n",
       "      <td>[Shellfish, Appetizers and snacks, Aperitif]</td>\n",
       "      <td>N/A</td>\n",
       "      <td>N/A</td>\n",
       "      <td>3.7</td>\n",
       "      <td>https://www.vivino.com/US/en/wines/154894172</td>\n",
       "    </tr>\n",
       "    <tr>\n",
       "      <th>14</th>\n",
       "      <td>NaN</td>\n",
       "      <td>Filipa Pato</td>\n",
       "      <td>3B</td>\n",
       "      <td>METODO TRADICIONAL</td>\n",
       "      <td>ROSE</td>\n",
       "      <td>Bairrada</td>\n",
       "      <td>PRT</td>\n",
       "      <td>NaN</td>\n",
       "      <td>46.0</td>\n",
       "      <td>bottle</td>\n",
       "      <td>[Shellfish, Appetizers and snacks, Aperitif]</td>\n",
       "      <td>N/A</td>\n",
       "      <td>N/A</td>\n",
       "      <td>3.8</td>\n",
       "      <td>https://www.vivino.com/US/en/wines/1612574</td>\n",
       "    </tr>\n",
       "    <tr>\n",
       "      <th>15</th>\n",
       "      <td>NaN</td>\n",
       "      <td>Josep Foraster</td>\n",
       "      <td>Lilla</td>\n",
       "      <td>METODE ANCESTRAL</td>\n",
       "      <td>ROSE</td>\n",
       "      <td>Catalonia</td>\n",
       "      <td>ESP</td>\n",
       "      <td>NaN</td>\n",
       "      <td>NaN</td>\n",
       "      <td>bottle</td>\n",
       "      <td>[Beef, Veal, Poultry, Pasta]</td>\n",
       "      <td>N/A</td>\n",
       "      <td>N/A</td>\n",
       "      <td>3.7</td>\n",
       "      <td>https://www.vivino.com/US/en/wines/1607472</td>\n",
       "    </tr>\n",
       "    <tr>\n",
       "      <th>16</th>\n",
       "      <td>NaN</td>\n",
       "      <td>Nevio Scala</td>\n",
       "      <td>Gargante</td>\n",
       "      <td>NaN</td>\n",
       "      <td>ORANGE</td>\n",
       "      <td>Veneto</td>\n",
       "      <td>ITA</td>\n",
       "      <td>NaN</td>\n",
       "      <td>53.0</td>\n",
       "      <td>bottle</td>\n",
       "      <td>[Appetizers and snacks, Aperitif]</td>\n",
       "      <td>21.66</td>\n",
       "      <td>2.446907</td>\n",
       "      <td>3.8</td>\n",
       "      <td>https://www.vivino.com/US/en/wines/155338314</td>\n",
       "    </tr>\n",
       "    <tr>\n",
       "      <th>17</th>\n",
       "      <td>NaN</td>\n",
       "      <td>Folicello</td>\n",
       "      <td>Il Rosso</td>\n",
       "      <td>NaN</td>\n",
       "      <td>RED</td>\n",
       "      <td>Emilia Romagna</td>\n",
       "      <td>ITA</td>\n",
       "      <td>NaN</td>\n",
       "      <td>44.0</td>\n",
       "      <td>bottle</td>\n",
       "      <td>[Mature and hard cheese, Cured Meat]</td>\n",
       "      <td>N/A</td>\n",
       "      <td>N/A</td>\n",
       "      <td>3.9</td>\n",
       "      <td>https://www.vivino.com/US/en/wines/151048544</td>\n",
       "    </tr>\n",
       "    <tr>\n",
       "      <th>18</th>\n",
       "      <td>NaN</td>\n",
       "      <td>Escala Humana Wines</td>\n",
       "      <td>Livverá</td>\n",
       "      <td>Tupungato Malvasia</td>\n",
       "      <td>WHITE</td>\n",
       "      <td>Mendoza</td>\n",
       "      <td>Argentina</td>\n",
       "      <td>2020</td>\n",
       "      <td>48.0</td>\n",
       "      <td>bottle</td>\n",
       "      <td>[Pork, Shellfish, Vegetarian, Mature and hard ...</td>\n",
       "      <td>N/A</td>\n",
       "      <td>N/A</td>\n",
       "      <td>3.9</td>\n",
       "      <td>https://www.vivino.com/US/en/wines/147702744</td>\n",
       "    </tr>\n",
       "    <tr>\n",
       "      <th>19</th>\n",
       "      <td>NaN</td>\n",
       "      <td>Gernot &amp; Heike Heinrich</td>\n",
       "      <td>Naked White</td>\n",
       "      <td>PB + Chardonnay + PG</td>\n",
       "      <td>WHITE</td>\n",
       "      <td>Burgenland</td>\n",
       "      <td>Austria</td>\n",
       "      <td>2021</td>\n",
       "      <td>46.0</td>\n",
       "      <td>bottle</td>\n",
       "      <td>[Pork, Shellfish, Poultry, Rich fish (salmon, ...</td>\n",
       "      <td>N/A</td>\n",
       "      <td>N/A</td>\n",
       "      <td>3.8</td>\n",
       "      <td>https://www.vivino.com/US/en/wines/159554043</td>\n",
       "    </tr>\n",
       "    <tr>\n",
       "      <th>20</th>\n",
       "      <td>NaN</td>\n",
       "      <td>Matthias Warnung</td>\n",
       "      <td>Basis</td>\n",
       "      <td>Gruner Veltliner</td>\n",
       "      <td>WHITE</td>\n",
       "      <td>Niederosterreich</td>\n",
       "      <td>Austria</td>\n",
       "      <td>NaN</td>\n",
       "      <td>49.0</td>\n",
       "      <td>bottle</td>\n",
       "      <td>[Pork, Vegetarian, Lean fish, Mild and soft ch...</td>\n",
       "      <td>N/A</td>\n",
       "      <td>N/A</td>\n",
       "      <td>3.9</td>\n",
       "      <td>https://www.vivino.com/US/en/wines/26999350</td>\n",
       "    </tr>\n",
       "    <tr>\n",
       "      <th>21</th>\n",
       "      <td>NaN</td>\n",
       "      <td>Hager Matthias</td>\n",
       "      <td>Mollands</td>\n",
       "      <td>Gruner Veltliner</td>\n",
       "      <td>WHITE</td>\n",
       "      <td>Niederosterreich</td>\n",
       "      <td>Austria</td>\n",
       "      <td>NaN</td>\n",
       "      <td>49.0</td>\n",
       "      <td>bottle</td>\n",
       "      <td>[Pork, Vegetarian, Lean fish, Mild and soft ch...</td>\n",
       "      <td>17.43</td>\n",
       "      <td>2.811245</td>\n",
       "      <td>4.0</td>\n",
       "      <td>https://www.vivino.com/US/en/wines/2985184</td>\n",
       "    </tr>\n",
       "    <tr>\n",
       "      <th>22</th>\n",
       "      <td>NaN</td>\n",
       "      <td>Au Bon Climat</td>\n",
       "      <td>Los Alamos Vineyard</td>\n",
       "      <td>Chardonnay</td>\n",
       "      <td>WHITE</td>\n",
       "      <td>Sta. Barbara County</td>\n",
       "      <td>USA</td>\n",
       "      <td>2020</td>\n",
       "      <td>66.0</td>\n",
       "      <td>bottle</td>\n",
       "      <td>[Pork, Shellfish, Vegetarian, Poultry]</td>\n",
       "      <td>65.0</td>\n",
       "      <td>1.015385</td>\n",
       "      <td>4.1</td>\n",
       "      <td>https://www.vivino.com/US/en/wines/2187482</td>\n",
       "    </tr>\n",
       "    <tr>\n",
       "      <th>23</th>\n",
       "      <td>NaN</td>\n",
       "      <td>Arnot-Roberts</td>\n",
       "      <td>Watson Ranch</td>\n",
       "      <td>Chardonnay</td>\n",
       "      <td>WHITE</td>\n",
       "      <td>Napa Valley</td>\n",
       "      <td>USA</td>\n",
       "      <td>2020</td>\n",
       "      <td>94.0</td>\n",
       "      <td>bottle</td>\n",
       "      <td>[Pork, Vegetarian, Poultry, Rich fish (salmon,...</td>\n",
       "      <td>N/A</td>\n",
       "      <td>N/A</td>\n",
       "      <td>4.1</td>\n",
       "      <td>https://www.vivino.com/US/en/wines/4736270</td>\n",
       "    </tr>\n",
       "    <tr>\n",
       "      <th>24</th>\n",
       "      <td>NaN</td>\n",
       "      <td>Martha Stoumen Wines</td>\n",
       "      <td>Honeymoon</td>\n",
       "      <td>Colombard + Chard + Chenin</td>\n",
       "      <td>WHITE</td>\n",
       "      <td>Mendocino County</td>\n",
       "      <td>USA</td>\n",
       "      <td>2020</td>\n",
       "      <td>80.0</td>\n",
       "      <td>bottle</td>\n",
       "      <td>[]</td>\n",
       "      <td>N/A</td>\n",
       "      <td>N/A</td>\n",
       "      <td>4.2</td>\n",
       "      <td>https://www.vivino.com/US/en/wines/154847452</td>\n",
       "    </tr>\n",
       "    <tr>\n",
       "      <th>25</th>\n",
       "      <td>NaN</td>\n",
       "      <td>Rogue Vine</td>\n",
       "      <td>Grand Itata</td>\n",
       "      <td>Moscatel + Riesling</td>\n",
       "      <td>WHITE</td>\n",
       "      <td>Itata Valley</td>\n",
       "      <td>Chile</td>\n",
       "      <td>2021</td>\n",
       "      <td>42.0</td>\n",
       "      <td>bottle</td>\n",
       "      <td>[]</td>\n",
       "      <td>N/A</td>\n",
       "      <td>N/A</td>\n",
       "      <td>3.9</td>\n",
       "      <td>https://www.vivino.com/US/en/wines/4157682</td>\n",
       "    </tr>\n",
       "    <tr>\n",
       "      <th>26</th>\n",
       "      <td>NaN</td>\n",
       "      <td>Chavost</td>\n",
       "      <td>Coteaux Champenois Blanc</td>\n",
       "      <td>Chardonnay</td>\n",
       "      <td>SPARKLING</td>\n",
       "      <td>Champagne</td>\n",
       "      <td>France</td>\n",
       "      <td>NaN</td>\n",
       "      <td>175.0</td>\n",
       "      <td>bottle</td>\n",
       "      <td>[Pork, Shellfish, Rich fish (salmon, tuna etc)...</td>\n",
       "      <td>N/A</td>\n",
       "      <td>N/A</td>\n",
       "      <td>3.8</td>\n",
       "      <td>https://www.vivino.com/US/en/wines/9039780</td>\n",
       "    </tr>\n",
       "  </tbody>\n",
       "</table>\n",
       "</div>"
      ],
      "text/plain": [
       "    id                 producer                       name  \\\n",
       "0  NaN                  Chëpìka             Petnat Catawba   \n",
       "1  NaN         La Ferme du Vert     L' Angelou Blanc Bulle   \n",
       "2  NaN                 Guiborat   Prisme - Blanc de Blancs   \n",
       "3  NaN           Pierre Moncuit      Delos Blanc de Blancs   \n",
       "4  NaN           Robert Moncuit  Millésime Blanc de Blancs   \n",
       "5  NaN  Azienda Agricola Monban             Questo Neanche   \n",
       "6  NaN          Diletta Tonello                 Marachelle   \n",
       "7  NaN               Aldo Viola                     Brutto   \n",
       "8  NaN                Joao Pato                    Ducking   \n",
       "9  NaN            Familie Bauer                   Unsprung   \n",
       "10 NaN                Annesanti                    Raspato   \n",
       "11 NaN           Laherte Frères              Les Beaudiers   \n",
       "12 NaN                  Weszeli             We Love Petnat   \n",
       "13 NaN         Sidonio de Sousa           Rose Brut Nature   \n",
       "14 NaN              Filipa Pato                         3B   \n",
       "15 NaN           Josep Foraster                      Lilla   \n",
       "16 NaN              Nevio Scala                   Gargante   \n",
       "17 NaN                Folicello                   Il Rosso   \n",
       "18 NaN      Escala Humana Wines                    Livverá   \n",
       "19 NaN  Gernot & Heike Heinrich                Naked White   \n",
       "20 NaN         Matthias Warnung                      Basis   \n",
       "21 NaN           Hager Matthias                   Mollands   \n",
       "22 NaN            Au Bon Climat        Los Alamos Vineyard   \n",
       "23 NaN            Arnot-Roberts               Watson Ranch   \n",
       "24 NaN     Martha Stoumen Wines                  Honeymoon   \n",
       "25 NaN               Rogue Vine                Grand Itata   \n",
       "26 NaN                  Chavost   Coteaux Champenois Blanc   \n",
       "\n",
       "                                     type  main_type               region  \\\n",
       "0                                  PETNAT      WHITE         Finger Lakes   \n",
       "1                                     NaN      WHITE            Southwest   \n",
       "2   BLANC DE BLANCS, GRAND CRU EXTRA BRUT  SPARKLING            Champagne   \n",
       "3         BLANC DE BLANCS, GRAND CRU BRUT  SPARKLING            Champagne   \n",
       "4         BLANC DE BLANCS, GRAND CRU BRUT  SPARKLING            Champagne   \n",
       "5                               COL FONDO  SPARKLING               Veneto   \n",
       "6                               FRIZZANTE      WHITE               Veneto   \n",
       "7                                     NaN      WHITE               Sicily   \n",
       "8                                  PETNAT      WHITE             Bairrada   \n",
       "9                                  PETNAT      WHITE               Wagram   \n",
       "10                       FRIZZANTE ROSATO       ROSE               Umbria   \n",
       "11                        ROSÉ DE SAIGNÉE       ROSE            Champagne   \n",
       "12                                 PETNAT       ROSE              Kamptal   \n",
       "13                            BRUT NATURE       ROSE             Bairrada   \n",
       "14                     METODO TRADICIONAL       ROSE             Bairrada   \n",
       "15                       METODE ANCESTRAL       ROSE            Catalonia   \n",
       "16                                    NaN     ORANGE               Veneto   \n",
       "17                                    NaN        RED       Emilia Romagna   \n",
       "18                     Tupungato Malvasia      WHITE              Mendoza   \n",
       "19                   PB + Chardonnay + PG      WHITE           Burgenland   \n",
       "20                       Gruner Veltliner      WHITE     Niederosterreich   \n",
       "21                       Gruner Veltliner      WHITE     Niederosterreich   \n",
       "22                             Chardonnay      WHITE  Sta. Barbara County   \n",
       "23                             Chardonnay      WHITE          Napa Valley   \n",
       "24             Colombard + Chard + Chenin      WHITE     Mendocino County   \n",
       "25                    Moscatel + Riesling      WHITE         Itata Valley   \n",
       "26                             Chardonnay  SPARKLING            Champagne   \n",
       "\n",
       "      country vintage  menu_price    size  \\\n",
       "0         USA    2021        64.0  bottle   \n",
       "1         FRA    2021        56.0  bottle   \n",
       "2         FRA     NaN       144.0  bottle   \n",
       "3         FRA     NaN       117.0  bottle   \n",
       "4         FRA    2013       196.0  bottle   \n",
       "5         ITA    2021        45.0  bottle   \n",
       "6         ITA     NaN        53.0  bottle   \n",
       "7         ITA    2022        49.0  bottle   \n",
       "8         PRT    2022        61.0  bottle   \n",
       "9         AUT    2021        52.0  bottle   \n",
       "10        ITA    2020        57.0  bottle   \n",
       "11        FRA     NaN       166.0  bottle   \n",
       "12        AUT    2020        57.0  bottle   \n",
       "13        PRT     NaN        46.0  bottle   \n",
       "14        PRT     NaN        46.0  bottle   \n",
       "15        ESP     NaN         NaN  bottle   \n",
       "16        ITA     NaN        53.0  bottle   \n",
       "17        ITA     NaN        44.0  bottle   \n",
       "18  Argentina    2020        48.0  bottle   \n",
       "19    Austria    2021        46.0  bottle   \n",
       "20    Austria     NaN        49.0  bottle   \n",
       "21    Austria     NaN        49.0  bottle   \n",
       "22        USA    2020        66.0  bottle   \n",
       "23        USA    2020        94.0  bottle   \n",
       "24        USA    2020        80.0  bottle   \n",
       "25      Chile    2021        42.0  bottle   \n",
       "26     France     NaN       175.0  bottle   \n",
       "\n",
       "                                        food_pairings vivino_price  \\\n",
       "0                                                  []        30.15   \n",
       "1   [Shellfish, Poultry, Appetizers and snacks, Le...        21.59   \n",
       "2   [Pork, Shellfish, Rich fish (salmon, tuna etc)...        23.99   \n",
       "3   [Pork, Shellfish, Rich fish (salmon, tuna etc)...          N/A   \n",
       "4   [Pork, Shellfish, Rich fish (salmon, tuna etc)...          N/A   \n",
       "5   [Shellfish, Pasta, Mature and hard cheese, Lea...        48.99   \n",
       "6                   [Appetizers and snacks, Aperitif]          N/A   \n",
       "7                   [Appetizers and snacks, Aperitif]          N/A   \n",
       "8   [Shellfish, Rich fish (salmon, tuna etc), Appe...          N/A   \n",
       "9   [Pork, Shellfish, Poultry, Rich fish (salmon, ...        22.99   \n",
       "10                  [Appetizers and snacks, Aperitif]          N/A   \n",
       "11  [Pork, Shellfish, Rich fish (salmon, tuna etc)...          N/A   \n",
       "12  [Shellfish, Appetizers and snacks, Lean fish, ...          N/A   \n",
       "13       [Shellfish, Appetizers and snacks, Aperitif]          N/A   \n",
       "14       [Shellfish, Appetizers and snacks, Aperitif]          N/A   \n",
       "15                       [Beef, Veal, Poultry, Pasta]          N/A   \n",
       "16                  [Appetizers and snacks, Aperitif]        21.66   \n",
       "17               [Mature and hard cheese, Cured Meat]          N/A   \n",
       "18  [Pork, Shellfish, Vegetarian, Mature and hard ...          N/A   \n",
       "19  [Pork, Shellfish, Poultry, Rich fish (salmon, ...          N/A   \n",
       "20  [Pork, Vegetarian, Lean fish, Mild and soft ch...          N/A   \n",
       "21  [Pork, Vegetarian, Lean fish, Mild and soft ch...        17.43   \n",
       "22             [Pork, Shellfish, Vegetarian, Poultry]         65.0   \n",
       "23  [Pork, Vegetarian, Poultry, Rich fish (salmon,...          N/A   \n",
       "24                                                 []          N/A   \n",
       "25                                                 []          N/A   \n",
       "26  [Pork, Shellfish, Rich fish (salmon, tuna etc)...          N/A   \n",
       "\n",
       "   price_multiplier rating                                          link  \n",
       "0           2.12272    3.9  https://www.vivino.com/US/en/wines/155265081  \n",
       "1          2.593793    3.9   https://www.vivino.com/US/en/wines/37976367  \n",
       "2          6.002501    4.0  https://www.vivino.com/US/en/wines/163391155  \n",
       "3               N/A    4.1    https://www.vivino.com/US/en/wines/3765256  \n",
       "4               N/A    4.2  https://www.vivino.com/US/en/wines/165673198  \n",
       "5          0.918555    4.2    https://www.vivino.com/US/en/wines/1912147  \n",
       "6               N/A    4.0  https://www.vivino.com/US/en/wines/174221101  \n",
       "7               N/A    4.0  https://www.vivino.com/US/en/wines/160956141  \n",
       "8               N/A    3.9  https://www.vivino.com/US/en/wines/167366463  \n",
       "9          2.261853    4.1  https://www.vivino.com/US/en/wines/164244051  \n",
       "10              N/A    3.9  https://www.vivino.com/US/en/wines/161193783  \n",
       "11              N/A    4.1    https://www.vivino.com/US/en/wines/3477991  \n",
       "12              N/A    3.7  https://www.vivino.com/US/en/wines/167794791  \n",
       "13              N/A    3.7  https://www.vivino.com/US/en/wines/154894172  \n",
       "14              N/A    3.8    https://www.vivino.com/US/en/wines/1612574  \n",
       "15              N/A    3.7    https://www.vivino.com/US/en/wines/1607472  \n",
       "16         2.446907    3.8  https://www.vivino.com/US/en/wines/155338314  \n",
       "17              N/A    3.9  https://www.vivino.com/US/en/wines/151048544  \n",
       "18              N/A    3.9  https://www.vivino.com/US/en/wines/147702744  \n",
       "19              N/A    3.8  https://www.vivino.com/US/en/wines/159554043  \n",
       "20              N/A    3.9   https://www.vivino.com/US/en/wines/26999350  \n",
       "21         2.811245    4.0    https://www.vivino.com/US/en/wines/2985184  \n",
       "22         1.015385    4.1    https://www.vivino.com/US/en/wines/2187482  \n",
       "23              N/A    4.1    https://www.vivino.com/US/en/wines/4736270  \n",
       "24              N/A    4.2  https://www.vivino.com/US/en/wines/154847452  \n",
       "25              N/A    3.9    https://www.vivino.com/US/en/wines/4157682  \n",
       "26              N/A    3.8    https://www.vivino.com/US/en/wines/9039780  "
      ]
     },
     "execution_count": 43,
     "metadata": {},
     "output_type": "execute_result"
    }
   ],
   "source": [
    "from tqdm import tqdm\n",
    "import time\n",
    "import multiprocessing\n",
    "\n",
    "# Get wine data for all wines in the dataframe\n",
    "def vivino_search_all(df):\n",
    "    # Create a copy of the dataframe\n",
    "    new_df = df.copy()\n",
    "\n",
    "    # Create lists to store the results\n",
    "    food_pairings = []\n",
    "    prices = []\n",
    "    price_multipliers = []\n",
    "    ratings = []\n",
    "    num_ratings = []\n",
    "    links = []\n",
    "\n",
    "    # Set fail count to quite if 5 fails in a row\n",
    "    fail_count = 0\n",
    "\n",
    "    # Iterate over each row in the dataframe\n",
    "    for index, row in tqdm(new_df.iterrows(), total=len(new_df)):\n",
    "        # Get wine data\n",
    "        wine_data = vivino_search(name=row[\"name\"], producer=row[\"producer\"], type=row[\"type\"], region=row[\"region\"], country=row[\"country\"], vintage=row[\"vintage\"], menu_price=row[\"price\"])\n",
    "        \n",
    "        # Append the data to the list\n",
    "        if wine_data:\n",
    "            food_pairings.append(wine_data[\"food_pairings\"])\n",
    "            prices.append(wine_data[\"price\"])\n",
    "            ratings.append(wine_data[\"rating\"])\n",
    "            links.append(wine_data[\"link\"])\n",
    "            price_multipliers.append(wine_data[\"price_multiplier\"])\n",
    "            num_ratings.append(wine_data[\"num_ratings\"])\n",
    "            fail_count = 0\n",
    "            \n",
    "        else:\n",
    "            food_pairings.append(\"N/A\")\n",
    "            prices.append(\"N/A\")\n",
    "            ratings.append(\"N/A\")\n",
    "            links.append(\"N/A\")\n",
    "            price_multipliers.append(\"N/A\")\n",
    "            num_ratings.append(\"N/A\")\n",
    "            fail_count += 1\n",
    "\n",
    "        if fail_count >= 5:\n",
    "            print(\"Failed 5 times in a row. Pausing for 3 minutes.\")\n",
    "            time.sleep(180)\n",
    "            \n",
    "        \n",
    "        # Pause for a half second to avoid rate limiting\n",
    "        time.sleep(0.51)\n",
    "\n",
    "    # Add the lists to the dataframe\n",
    "    new_df[\"food_pairings\"] = food_pairings\n",
    "    new_df[\"vivino_price\"] = prices\n",
    "    new_df[\"price_multiplier\"] = price_multipliers\n",
    "    new_df[\"rating\"] = ratings\n",
    "    new_df[\"link\"] = links\n",
    "    new_df[\"num_ratings\"] = num_ratings\n",
    "    \n",
    "    # Rename the price column to menu_price\n",
    "    new_df.rename(columns={\"price\": \"menu_price\"}, inplace=True)\n",
    "\n",
    "    return new_df\n",
    "\n",
    "# # Call the function\n",
    "new_df = vivino_search_all(df)\n",
    "\n",
    "new_df.head(27)"
   ]
  },
  {
   "cell_type": "code",
   "execution_count": 22,
   "metadata": {},
   "outputs": [
    {
     "name": "stderr",
     "output_type": "stream",
     "text": [
      "  0%|          | 0/10 [00:00<?, ?it/s]Process SpawnPoolWorker-26:\n",
      "Process SpawnPoolWorker-23:\n",
      "Process SpawnPoolWorker-22:\n",
      "Process SpawnPoolWorker-25:\n",
      "Process SpawnPoolWorker-24:\n",
      "Traceback (most recent call last):\n",
      "Traceback (most recent call last):\n",
      "Traceback (most recent call last):\n",
      "  File \"/Users/Austin/opt/anaconda3/envs/ANLY501/lib/python3.10/multiprocessing/process.py\", line 314, in _bootstrap\n",
      "    self.run()\n",
      "  File \"/Users/Austin/opt/anaconda3/envs/ANLY501/lib/python3.10/multiprocessing/process.py\", line 108, in run\n",
      "    self._target(*self._args, **self._kwargs)\n",
      "  File \"/Users/Austin/opt/anaconda3/envs/ANLY501/lib/python3.10/multiprocessing/process.py\", line 314, in _bootstrap\n",
      "    self.run()\n",
      "  File \"/Users/Austin/opt/anaconda3/envs/ANLY501/lib/python3.10/multiprocessing/pool.py\", line 114, in worker\n",
      "    task = get()\n",
      "  File \"/Users/Austin/opt/anaconda3/envs/ANLY501/lib/python3.10/multiprocessing/process.py\", line 314, in _bootstrap\n",
      "    self.run()\n",
      "  File \"/Users/Austin/opt/anaconda3/envs/ANLY501/lib/python3.10/multiprocessing/process.py\", line 108, in run\n",
      "    self._target(*self._args, **self._kwargs)\n",
      "  File \"/Users/Austin/opt/anaconda3/envs/ANLY501/lib/python3.10/multiprocessing/queues.py\", line 367, in get\n",
      "    return _ForkingPickler.loads(res)\n",
      "  File \"/Users/Austin/opt/anaconda3/envs/ANLY501/lib/python3.10/multiprocessing/pool.py\", line 114, in worker\n",
      "    task = get()\n",
      "  File \"/Users/Austin/opt/anaconda3/envs/ANLY501/lib/python3.10/multiprocessing/queues.py\", line 367, in get\n",
      "    return _ForkingPickler.loads(res)\n",
      "AttributeError: Can't get attribute 'vivino_search_mp' on <module '__main__' (built-in)>\n",
      "AttributeError: Can't get attribute 'vivino_search_mp' on <module '__main__' (built-in)>\n",
      "Traceback (most recent call last):\n",
      "  File \"/Users/Austin/opt/anaconda3/envs/ANLY501/lib/python3.10/multiprocessing/process.py\", line 314, in _bootstrap\n",
      "    self.run()\n",
      "  File \"/Users/Austin/opt/anaconda3/envs/ANLY501/lib/python3.10/multiprocessing/process.py\", line 108, in run\n",
      "    self._target(*self._args, **self._kwargs)\n",
      "  File \"/Users/Austin/opt/anaconda3/envs/ANLY501/lib/python3.10/multiprocessing/pool.py\", line 114, in worker\n",
      "    task = get()\n",
      "  File \"/Users/Austin/opt/anaconda3/envs/ANLY501/lib/python3.10/multiprocessing/queues.py\", line 367, in get\n",
      "    return _ForkingPickler.loads(res)\n",
      "AttributeError: Can't get attribute 'vivino_search_mp' on <module '__main__' (built-in)>\n",
      "Traceback (most recent call last):\n",
      "  File \"/Users/Austin/opt/anaconda3/envs/ANLY501/lib/python3.10/multiprocessing/process.py\", line 314, in _bootstrap\n",
      "    self.run()\n",
      "  File \"/Users/Austin/opt/anaconda3/envs/ANLY501/lib/python3.10/multiprocessing/process.py\", line 108, in run\n",
      "    self._target(*self._args, **self._kwargs)\n",
      "  File \"/Users/Austin/opt/anaconda3/envs/ANLY501/lib/python3.10/multiprocessing/pool.py\", line 114, in worker\n",
      "    task = get()\n",
      "  File \"/Users/Austin/opt/anaconda3/envs/ANLY501/lib/python3.10/multiprocessing/queues.py\", line 367, in get\n",
      "    return _ForkingPickler.loads(res)\n",
      "AttributeError: Can't get attribute 'vivino_search_mp' on <module '__main__' (built-in)>\n",
      "  File \"/Users/Austin/opt/anaconda3/envs/ANLY501/lib/python3.10/multiprocessing/process.py\", line 108, in run\n",
      "    self._target(*self._args, **self._kwargs)\n",
      "  File \"/Users/Austin/opt/anaconda3/envs/ANLY501/lib/python3.10/multiprocessing/pool.py\", line 114, in worker\n",
      "    task = get()\n",
      "  File \"/Users/Austin/opt/anaconda3/envs/ANLY501/lib/python3.10/multiprocessing/queues.py\", line 367, in get\n",
      "    return _ForkingPickler.loads(res)\n",
      "AttributeError: Can't get attribute 'vivino_search_mp' on <module '__main__' (built-in)>\n",
      "Process SpawnPoolWorker-27:\n",
      "Traceback (most recent call last):\n",
      "  File \"/Users/Austin/opt/anaconda3/envs/ANLY501/lib/python3.10/multiprocessing/process.py\", line 314, in _bootstrap\n",
      "    self.run()\n",
      "  File \"/Users/Austin/opt/anaconda3/envs/ANLY501/lib/python3.10/multiprocessing/process.py\", line 108, in run\n",
      "    self._target(*self._args, **self._kwargs)\n",
      "  File \"/Users/Austin/opt/anaconda3/envs/ANLY501/lib/python3.10/multiprocessing/pool.py\", line 114, in worker\n",
      "    task = get()\n",
      "  File \"/Users/Austin/opt/anaconda3/envs/ANLY501/lib/python3.10/multiprocessing/queues.py\", line 367, in get\n",
      "    return _ForkingPickler.loads(res)\n",
      "AttributeError: Can't get attribute 'vivino_search_mp' on <module '__main__' (built-in)>\n",
      "Process SpawnPoolWorker-28:\n",
      "Traceback (most recent call last):\n",
      "  File \"/Users/Austin/opt/anaconda3/envs/ANLY501/lib/python3.10/multiprocessing/process.py\", line 314, in _bootstrap\n",
      "    self.run()\n",
      "  File \"/Users/Austin/opt/anaconda3/envs/ANLY501/lib/python3.10/multiprocessing/process.py\", line 108, in run\n",
      "    self._target(*self._args, **self._kwargs)\n",
      "  File \"/Users/Austin/opt/anaconda3/envs/ANLY501/lib/python3.10/multiprocessing/pool.py\", line 114, in worker\n",
      "    task = get()\n",
      "  File \"/Users/Austin/opt/anaconda3/envs/ANLY501/lib/python3.10/multiprocessing/queues.py\", line 367, in get\n",
      "    return _ForkingPickler.loads(res)\n",
      "AttributeError: Can't get attribute 'vivino_search_mp' on <module '__main__' (built-in)>\n",
      "Process SpawnPoolWorker-29:\n",
      "Traceback (most recent call last):\n",
      "  File \"/Users/Austin/opt/anaconda3/envs/ANLY501/lib/python3.10/multiprocessing/process.py\", line 314, in _bootstrap\n",
      "    self.run()\n",
      "  File \"/Users/Austin/opt/anaconda3/envs/ANLY501/lib/python3.10/multiprocessing/process.py\", line 108, in run\n",
      "    self._target(*self._args, **self._kwargs)\n",
      "  File \"/Users/Austin/opt/anaconda3/envs/ANLY501/lib/python3.10/multiprocessing/pool.py\", line 114, in worker\n",
      "    task = get()\n",
      "  File \"/Users/Austin/opt/anaconda3/envs/ANLY501/lib/python3.10/multiprocessing/queues.py\", line 367, in get\n",
      "    return _ForkingPickler.loads(res)\n",
      "AttributeError: Can't get attribute 'vivino_search_mp' on <module '__main__' (built-in)>\n",
      "Process SpawnPoolWorker-30:\n",
      "Traceback (most recent call last):\n",
      "  File \"/Users/Austin/opt/anaconda3/envs/ANLY501/lib/python3.10/multiprocessing/process.py\", line 314, in _bootstrap\n",
      "    self.run()\n",
      "  File \"/Users/Austin/opt/anaconda3/envs/ANLY501/lib/python3.10/multiprocessing/process.py\", line 108, in run\n",
      "    self._target(*self._args, **self._kwargs)\n",
      "  File \"/Users/Austin/opt/anaconda3/envs/ANLY501/lib/python3.10/multiprocessing/pool.py\", line 114, in worker\n",
      "    task = get()\n",
      "  File \"/Users/Austin/opt/anaconda3/envs/ANLY501/lib/python3.10/multiprocessing/queues.py\", line 367, in get\n",
      "    return _ForkingPickler.loads(res)\n",
      "AttributeError: Can't get attribute 'vivino_search_mp' on <module '__main__' (built-in)>\n",
      "Process SpawnPoolWorker-31:\n",
      "Traceback (most recent call last):\n",
      "  File \"/Users/Austin/opt/anaconda3/envs/ANLY501/lib/python3.10/multiprocessing/process.py\", line 314, in _bootstrap\n",
      "    self.run()\n",
      "  File \"/Users/Austin/opt/anaconda3/envs/ANLY501/lib/python3.10/multiprocessing/process.py\", line 108, in run\n",
      "    self._target(*self._args, **self._kwargs)\n",
      "  File \"/Users/Austin/opt/anaconda3/envs/ANLY501/lib/python3.10/multiprocessing/pool.py\", line 114, in worker\n",
      "    task = get()\n",
      "  File \"/Users/Austin/opt/anaconda3/envs/ANLY501/lib/python3.10/multiprocessing/queues.py\", line 367, in get\n",
      "    return _ForkingPickler.loads(res)\n",
      "AttributeError: Can't get attribute 'vivino_search_mp' on <module '__main__' (built-in)>\n",
      "  0%|          | 0/10 [00:35<?, ?it/s]\n"
     ]
    },
    {
     "ename": "KeyboardInterrupt",
     "evalue": "",
     "output_type": "error",
     "traceback": [
      "\u001b[0;31m---------------------------------------------------------------------------\u001b[0m",
      "\u001b[0;31mIndexError\u001b[0m                                Traceback (most recent call last)",
      "File \u001b[0;32m~/opt/anaconda3/envs/ANLY501/lib/python3.10/multiprocessing/pool.py:856\u001b[0m, in \u001b[0;36mIMapIterator.next\u001b[0;34m(self, timeout)\u001b[0m\n\u001b[1;32m    855\u001b[0m \u001b[38;5;28;01mtry\u001b[39;00m:\n\u001b[0;32m--> 856\u001b[0m     item \u001b[38;5;241m=\u001b[39m \u001b[38;5;28;43mself\u001b[39;49m\u001b[38;5;241;43m.\u001b[39;49m\u001b[43m_items\u001b[49m\u001b[38;5;241;43m.\u001b[39;49m\u001b[43mpopleft\u001b[49m\u001b[43m(\u001b[49m\u001b[43m)\u001b[49m\n\u001b[1;32m    857\u001b[0m \u001b[38;5;28;01mexcept\u001b[39;00m \u001b[38;5;167;01mIndexError\u001b[39;00m:\n",
      "\u001b[0;31mIndexError\u001b[0m: pop from an empty deque",
      "\nDuring handling of the above exception, another exception occurred:\n",
      "\u001b[0;31mKeyboardInterrupt\u001b[0m                         Traceback (most recent call last)",
      "Cell \u001b[0;32mIn[22], line 61\u001b[0m\n\u001b[1;32m     58\u001b[0m     \u001b[38;5;28;01mreturn\u001b[39;00m new_df\n\u001b[1;32m     60\u001b[0m \u001b[38;5;66;03m# Test the function\u001b[39;00m\n\u001b[0;32m---> 61\u001b[0m vivino_df \u001b[38;5;241m=\u001b[39m \u001b[43mvivino_search_multiprocess\u001b[49m\u001b[43m(\u001b[49m\u001b[43mdf\u001b[49m\u001b[38;5;241;43m.\u001b[39;49m\u001b[43mhead\u001b[49m\u001b[43m(\u001b[49m\u001b[38;5;241;43m10\u001b[39;49m\u001b[43m)\u001b[49m\u001b[43m)\u001b[49m\n\u001b[1;32m     63\u001b[0m vivino_df\u001b[38;5;241m.\u001b[39mhead()\n",
      "Cell \u001b[0;32mIn[22], line 18\u001b[0m, in \u001b[0;36mvivino_search_multiprocess\u001b[0;34m(df)\u001b[0m\n\u001b[1;32m     15\u001b[0m pool \u001b[38;5;241m=\u001b[39m multiprocessing\u001b[38;5;241m.\u001b[39mPool(processes\u001b[38;5;241m=\u001b[39mmultiprocessing\u001b[38;5;241m.\u001b[39mcpu_count() \u001b[38;5;241m-\u001b[39m \u001b[38;5;241m1\u001b[39m)\n\u001b[1;32m     17\u001b[0m \u001b[38;5;66;03m# Run the search for each record in parallel\u001b[39;00m\n\u001b[0;32m---> 18\u001b[0m results \u001b[38;5;241m=\u001b[39m \u001b[38;5;28;43mlist\u001b[39;49m\u001b[43m(\u001b[49m\u001b[43mtqdm\u001b[49m\u001b[43m(\u001b[49m\u001b[43mpool\u001b[49m\u001b[38;5;241;43m.\u001b[39;49m\u001b[43mimap\u001b[49m\u001b[43m(\u001b[49m\u001b[43mvivino_search_mp\u001b[49m\u001b[43m,\u001b[49m\u001b[43m \u001b[49m\u001b[43mrecords\u001b[49m\u001b[43m)\u001b[49m\u001b[43m,\u001b[49m\u001b[43m \u001b[49m\u001b[43mtotal\u001b[49m\u001b[38;5;241;43m=\u001b[39;49m\u001b[38;5;28;43mlen\u001b[39;49m\u001b[43m(\u001b[49m\u001b[43mrecords\u001b[49m\u001b[43m)\u001b[49m\u001b[43m)\u001b[49m\u001b[43m)\u001b[49m\n\u001b[1;32m     20\u001b[0m \u001b[38;5;66;03m# Close the pool\u001b[39;00m\n\u001b[1;32m     21\u001b[0m pool\u001b[38;5;241m.\u001b[39mclose()\n",
      "File \u001b[0;32m~/opt/anaconda3/envs/ANLY501/lib/python3.10/site-packages/tqdm/std.py:1195\u001b[0m, in \u001b[0;36mtqdm.__iter__\u001b[0;34m(self)\u001b[0m\n\u001b[1;32m   1192\u001b[0m time \u001b[38;5;241m=\u001b[39m \u001b[38;5;28mself\u001b[39m\u001b[38;5;241m.\u001b[39m_time\n\u001b[1;32m   1194\u001b[0m \u001b[38;5;28;01mtry\u001b[39;00m:\n\u001b[0;32m-> 1195\u001b[0m     \u001b[38;5;28;01mfor\u001b[39;00m obj \u001b[38;5;129;01min\u001b[39;00m iterable:\n\u001b[1;32m   1196\u001b[0m         \u001b[38;5;28;01myield\u001b[39;00m obj\n\u001b[1;32m   1197\u001b[0m         \u001b[38;5;66;03m# Update and possibly print the progressbar.\u001b[39;00m\n\u001b[1;32m   1198\u001b[0m         \u001b[38;5;66;03m# Note: does not call self.update(1) for speed optimisation.\u001b[39;00m\n",
      "File \u001b[0;32m~/opt/anaconda3/envs/ANLY501/lib/python3.10/multiprocessing/pool.py:861\u001b[0m, in \u001b[0;36mIMapIterator.next\u001b[0;34m(self, timeout)\u001b[0m\n\u001b[1;32m    859\u001b[0m     \u001b[38;5;28mself\u001b[39m\u001b[38;5;241m.\u001b[39m_pool \u001b[38;5;241m=\u001b[39m \u001b[38;5;28;01mNone\u001b[39;00m\n\u001b[1;32m    860\u001b[0m     \u001b[38;5;28;01mraise\u001b[39;00m \u001b[38;5;167;01mStopIteration\u001b[39;00m \u001b[38;5;28;01mfrom\u001b[39;00m \u001b[38;5;28;01mNone\u001b[39;00m\n\u001b[0;32m--> 861\u001b[0m \u001b[38;5;28;43mself\u001b[39;49m\u001b[38;5;241;43m.\u001b[39;49m\u001b[43m_cond\u001b[49m\u001b[38;5;241;43m.\u001b[39;49m\u001b[43mwait\u001b[49m\u001b[43m(\u001b[49m\u001b[43mtimeout\u001b[49m\u001b[43m)\u001b[49m\n\u001b[1;32m    862\u001b[0m \u001b[38;5;28;01mtry\u001b[39;00m:\n\u001b[1;32m    863\u001b[0m     item \u001b[38;5;241m=\u001b[39m \u001b[38;5;28mself\u001b[39m\u001b[38;5;241m.\u001b[39m_items\u001b[38;5;241m.\u001b[39mpopleft()\n",
      "File \u001b[0;32m~/opt/anaconda3/envs/ANLY501/lib/python3.10/threading.py:320\u001b[0m, in \u001b[0;36mCondition.wait\u001b[0;34m(self, timeout)\u001b[0m\n\u001b[1;32m    318\u001b[0m \u001b[38;5;28;01mtry\u001b[39;00m:    \u001b[38;5;66;03m# restore state no matter what (e.g., KeyboardInterrupt)\u001b[39;00m\n\u001b[1;32m    319\u001b[0m     \u001b[38;5;28;01mif\u001b[39;00m timeout \u001b[38;5;129;01mis\u001b[39;00m \u001b[38;5;28;01mNone\u001b[39;00m:\n\u001b[0;32m--> 320\u001b[0m         \u001b[43mwaiter\u001b[49m\u001b[38;5;241;43m.\u001b[39;49m\u001b[43macquire\u001b[49m\u001b[43m(\u001b[49m\u001b[43m)\u001b[49m\n\u001b[1;32m    321\u001b[0m         gotit \u001b[38;5;241m=\u001b[39m \u001b[38;5;28;01mTrue\u001b[39;00m\n\u001b[1;32m    322\u001b[0m     \u001b[38;5;28;01melse\u001b[39;00m:\n",
      "\u001b[0;31mKeyboardInterrupt\u001b[0m: "
     ]
    }
   ],
   "source": [
    "def vivino_search_multiprocess(df):\n",
    "    \"\"\"\n",
    "    Process DataFrame rows in parallel using multiprocessing.\n",
    "\n",
    "    Args:\n",
    "        df (pd.DataFrame): Input DataFrame containing wine information\n",
    "\n",
    "    Returns:\n",
    "        pd.DataFrame: DataFrame with added Vivino search results\n",
    "    \"\"\"\n",
    "    # Convert DataFrame to list of dictionaries for easier serialization\n",
    "    records = df.to_dict(\"records\")\n",
    "\n",
    "    # Create a pool of processes\n",
    "    pool = multiprocessing.Pool(processes=multiprocessing.cpu_count() - 1)\n",
    "\n",
    "    # Run the search for each record in parallel\n",
    "    results = list(tqdm(pool.imap(vivino_search_mp, records), total=len(records)))\n",
    "\n",
    "    # Close the pool\n",
    "    pool.close()\n",
    "    pool.join()\n",
    "\n",
    "    # Create lists to store the results\n",
    "    food_pairings = []\n",
    "    prices = []\n",
    "    price_multipliers = []\n",
    "    ratings = []\n",
    "    links = []\n",
    "\n",
    "    # Extract the results from the list\n",
    "    for result in results:\n",
    "        if result:\n",
    "            food_pairings.append(result.get(\"food_pairings\", []))\n",
    "            prices.append(result.get(\"price\", \"N/A\"))\n",
    "            price_multipliers.append(result.get(\"price_multiplier\", 1.0))\n",
    "            ratings.append(result.get(\"rating\", \"N/A\"))\n",
    "            links.append(result.get(\"link\", \"N/A\"))\n",
    "        else:\n",
    "            # Handle None results\n",
    "            food_pairings.append([])\n",
    "            prices.append(\"N/A\")\n",
    "            price_multipliers.append(1.0)\n",
    "            ratings.append(\"N/A\")\n",
    "            links.append(\"N/A\")\n",
    "\n",
    "    # Create a new DataFrame with the results\n",
    "    new_df = df.copy()\n",
    "    new_df[\"food_pairings\"] = food_pairings\n",
    "    new_df[\"vivino_price\"] = prices\n",
    "    new_df[\"price_multiplier\"] = price_multipliers\n",
    "    new_df[\"rating\"] = ratings\n",
    "    new_df[\"link\"] = links\n",
    "\n",
    "    # Rename the price column to menu_price\n",
    "    new_df.rename(columns={\"price\": \"menu_price\"}, inplace=True)\n",
    "\n",
    "    return new_df\n",
    "\n",
    "# Test the function\n",
    "vivino_df = vivino_search_multiprocess(df.head(10))\n",
    "\n",
    "vivino_df.head()"
   ]
  },
  {
   "cell_type": "code",
   "execution_count": 3,
   "metadata": {},
   "outputs": [
    {
     "data": {
      "text/plain": [
       "'White\\nChëpìka, Petnat Catawba 2021 Finger Lakes, NY 64\\nLa Ferme du Vert, \"L\\' Angelou Blanc Bulle\" Mauzac Blanc 2021 Southwest, FRA 56\\nGuiborat, \"Prisme - Blanc de Blancs\", Grand Cru Extra Brut Chardonnay NV Champagne, FRA 144\\nPierre Moncuit, \"Delos Blanc de Blancs\" Grand Cru Brut Chardonnay NV Champagne, FRA 117\\nRobert Moncuit, \"Millésime Blanc de Blancs\", Grand Cru Brut Chardonnay 2013 Champagne, FRA 196\\nAzienda Agricola Monban, \"Questo Neanche\", Col Fondo Glera 2021 Veneto, ITA 45\\nDiletta Tonello, \"Marachelle\", Frizzante Durella blend NV Veneto, ITA 53\\nAldo Viola, \"Brutto\" Catarratto 2022 Sicily, ITA 49\\nJoao Pato, \"Ducking\" Petnat Sercialinho 2022 Bairrada, PRT 61\\nFamilie Bauer, \"Unsprung\" Petnat Gruner + Roter V. + Riesling 2021 Wagram, AUT 52\\nRosé\\nAnnesanti, \"Raspato\", Frizzante Rosato Sangiovese + Aleatico 2020 Umbria, ITA 57\\nLaherte Frères, \"Les Beaudiers\", Rosé de Saignée Pinot Meunier NV Champagne, FRA 166\\nWeszeli, \"We Love Petnat\" Zweigelt 2020 Kamptal, AUT 57\\nSidonio de Sousa, \"Rose Brut Nature\" Baga NV Bairrada, PRT 46\\nFilipa Pato, \"3B\", Metodo Tradicional Baga + Bical NV Bairrada, PRT 46\\nJosep Foraster, \"Lilla\", Metode Ancestral Trepat + Parrellada NV Catalonia, ESP\\nOrange\\nNevio Scala, \"Gargante\" Garganega NV Veneto, ITA 53\\nRed\\nFolicello, \"Il Rosso\" Lambrusco Grasparossa NV Emilia Romagna, ITA 44bubbles\\n'"
      ]
     },
     "execution_count": 3,
     "metadata": {},
     "output_type": "execute_result"
    }
   ],
   "source": [
    "# Test functions imports\n",
    "from functions import *\n",
    "from dotenv import load_dotenv\n",
    "import os\n",
    "import pandas as pd\n",
    "import requests\n",
    "import json\n",
    "import PyPDF2\n",
    "import google.generativeai as genai\n",
    "import re\n",
    "import numpy as np\n",
    "\n",
    "load_dotenv(dotenv_path='config.env')\n",
    "google_key = os.getenv('GOOGLE_KEY')\n",
    "\n",
    "if google_key is None:\n",
    "    raise ValueError(\"GOOGLE_KEY not found in .env file\")\n",
    "\n",
    "parser = GeminiWineParser(google_key)\n",
    "\n",
    "# Read the PDF\n",
    "text = extract_text_from_pdf(\"menus/rake-wine.pdf\")\n",
    "pages = [text[i] for i in text.keys()]\n",
    "\n",
    "# View the first page\n",
    "pages[0]"
   ]
  },
  {
   "cell_type": "code",
   "execution_count": 8,
   "metadata": {},
   "outputs": [
    {
     "name": "stdout",
     "output_type": "stream",
     "text": [
      "[\n",
      "  {\n",
      "    \"id\": null,\n",
      "    \"producer\": \"Ch\\u00ebp\\u00ecka\",\n",
      "    \"name\": \"Petnat Catawba\",\n",
      "    \"type\": \"PETNAT\",\n",
      "    \"main_type\": \"WHITE\",\n",
      "    \"region\": \"Finger Lakes\",\n",
      "    \"country\": \"USA\",\n",
      "    \"vintage\": \"2021\",\n",
      "    \"price\": \"64\",\n",
      "    \"size\": \"bottle\"\n",
      "  },\n",
      "  {\n",
      "    \"id\": null,\n",
      "    \"producer\": \"La Ferme du Vert\",\n",
      "    \"name\": \"L' Angelou Blanc Bulle\",\n",
      "    \"type\": null,\n",
      "    \"main_type\": \"WHITE\",\n",
      "    \"region\": \"Southwest\",\n",
      "    \"country\": \"FRA\",\n",
      "    \"vintage\": \"2021\",\n",
      "    \"price\": \"56\",\n",
      "    \"size\": \"bottle\"\n",
      "  },\n",
      "  {\n",
      "    \"id\": null,\n",
      "    \"producer\": \"Guiborat\",\n",
      "    \"name\": \"Prisme - Blanc de Blancs\",\n",
      "    \"type\": \"BLANC DE BLANCS, GRAND CRU EXTRA BRUT\",\n",
      "    \"main_type\": \"SPARKLING\",\n",
      "    \"region\": \"Champagne\",\n",
      "    \"country\": \"FRA\",\n",
      "    \"vintage\": null,\n",
      "    \"price\": \"144\",\n",
      "    \"size\": \"bottle\"\n",
      "  },\n",
      "  {\n",
      "    \"id\": null,\n",
      "    \"producer\": \"Pierre Moncuit\",\n",
      "    \"name\": \"Delos Blanc de Blancs\",\n",
      "    \"type\": \"BLANC DE BLANCS, GRAND CRU BRUT\",\n",
      "    \"main_type\": \"SPARKLING\",\n",
      "    \"region\": \"Champagne\",\n",
      "    \"country\": \"FRA\",\n",
      "    \"vintage\": null,\n",
      "    \"price\": \"117\",\n",
      "    \"size\": \"bottle\"\n",
      "  },\n",
      "  {\n",
      "    \"id\": null,\n",
      "    \"producer\": \"Robert Moncuit\",\n",
      "    \"name\": \"Mill\\u00e9sime Blanc de Blancs\",\n",
      "    \"type\": \"BLANC DE BLANCS, GRAND CRU BRUT\",\n",
      "    \"main_type\": \"SPARKLING\",\n",
      "    \"region\": \"Champagne\",\n",
      "    \"country\": \"FRA\",\n",
      "    \"vintage\": \"2013\",\n",
      "    \"price\": \"196\",\n",
      "    \"size\": \"bottle\"\n",
      "  },\n",
      "  {\n",
      "    \"id\": null,\n",
      "    \"producer\": \"Azienda Agricola Monban\",\n",
      "    \"name\": \"Questo Neanche\",\n",
      "    \"type\": \"COL FONDO\",\n",
      "    \"main_type\": \"SPARKLING\",\n",
      "    \"region\": \"Veneto\",\n",
      "    \"country\": \"ITA\",\n",
      "    \"vintage\": \"2021\",\n",
      "    \"price\": \"45\",\n",
      "    \"size\": \"bottle\"\n",
      "  },\n",
      "  {\n",
      "    \"id\": null,\n",
      "    \"producer\": \"Diletta Tonello\",\n",
      "    \"name\": \"Marachelle\",\n",
      "    \"type\": \"FRIZZANTE\",\n",
      "    \"main_type\": \"WHITE\",\n",
      "    \"region\": \"Veneto\",\n",
      "    \"country\": \"ITA\",\n",
      "    \"vintage\": null,\n",
      "    \"price\": \"53\",\n",
      "    \"size\": \"bottle\"\n",
      "  },\n",
      "  {\n",
      "    \"id\": null,\n",
      "    \"producer\": \"Aldo Viola\",\n",
      "    \"name\": \"Brutto\",\n",
      "    \"type\": null,\n",
      "    \"main_type\": \"WHITE\",\n",
      "    \"region\": \"Sicily\",\n",
      "    \"country\": \"ITA\",\n",
      "    \"vintage\": \"2022\",\n",
      "    \"price\": \"49\",\n",
      "    \"size\": \"bottle\"\n",
      "  },\n",
      "  {\n",
      "    \"id\": null,\n",
      "    \"producer\": \"Joao Pato\",\n",
      "    \"name\": \"Ducking\",\n",
      "    \"type\": \"PETNAT\",\n",
      "    \"main_type\": \"WHITE\",\n",
      "    \"region\": \"Bairrada\",\n",
      "    \"country\": \"PRT\",\n",
      "    \"vintage\": \"2022\",\n",
      "    \"price\": \"61\",\n",
      "    \"size\": \"bottle\"\n",
      "  },\n",
      "  {\n",
      "    \"id\": null,\n",
      "    \"producer\": \"Familie Bauer\",\n",
      "    \"name\": \"Unsprung\",\n",
      "    \"type\": \"PETNAT\",\n",
      "    \"main_type\": \"WHITE\",\n",
      "    \"region\": \"Wagram\",\n",
      "    \"country\": \"AUT\",\n",
      "    \"vintage\": \"2021\",\n",
      "    \"price\": \"52\",\n",
      "    \"size\": \"bottle\"\n",
      "  },\n",
      "  {\n",
      "    \"id\": null,\n",
      "    \"producer\": \"Annesanti\",\n",
      "    \"name\": \"Raspato\",\n",
      "    \"type\": \"FRIZZANTE ROSATO\",\n",
      "    \"main_type\": \"ROSE\",\n",
      "    \"region\": \"Umbria\",\n",
      "    \"country\": \"ITA\",\n",
      "    \"vintage\": \"2020\",\n",
      "    \"price\": \"57\",\n",
      "    \"size\": \"bottle\"\n",
      "  },\n",
      "  {\n",
      "    \"id\": null,\n",
      "    \"producer\": \"Laherte Fr\\u00e8res\",\n",
      "    \"name\": \"Les Beaudiers\",\n",
      "    \"type\": \"ROS\\u00c9 DE SAIGN\\u00c9E\",\n",
      "    \"main_type\": \"ROSE\",\n",
      "    \"region\": \"Champagne\",\n",
      "    \"country\": \"FRA\",\n",
      "    \"vintage\": null,\n",
      "    \"price\": \"166\",\n",
      "    \"size\": \"bottle\"\n",
      "  },\n",
      "  {\n",
      "    \"id\": null,\n",
      "    \"producer\": \"Weszeli\",\n",
      "    \"name\": \"We Love Petnat\",\n",
      "    \"type\": \"PETNAT\",\n",
      "    \"main_type\": \"ROSE\",\n",
      "    \"region\": \"Kamptal\",\n",
      "    \"country\": \"AUT\",\n",
      "    \"vintage\": \"2020\",\n",
      "    \"price\": \"57\",\n",
      "    \"size\": \"bottle\"\n",
      "  },\n",
      "  {\n",
      "    \"id\": null,\n",
      "    \"producer\": \"Sidonio de Sousa\",\n",
      "    \"name\": \"Rose Brut Nature\",\n",
      "    \"type\": \"BRUT NATURE\",\n",
      "    \"main_type\": \"ROSE\",\n",
      "    \"region\": \"Bairrada\",\n",
      "    \"country\": \"PRT\",\n",
      "    \"vintage\": null,\n",
      "    \"price\": \"46\",\n",
      "    \"size\": \"bottle\"\n",
      "  },\n",
      "  {\n",
      "    \"id\": null,\n",
      "    \"producer\": \"Filipa Pato\",\n",
      "    \"name\": \"3B\",\n",
      "    \"type\": \"METODO TRADICIONAL\",\n",
      "    \"main_type\": \"ROSE\",\n",
      "    \"region\": \"Bairrada\",\n",
      "    \"country\": \"PRT\",\n",
      "    \"vintage\": null,\n",
      "    \"price\": \"46\",\n",
      "    \"size\": \"bottle\"\n",
      "  },\n",
      "  {\n",
      "    \"id\": null,\n",
      "    \"producer\": \"Josep Foraster\",\n",
      "    \"name\": \"Lilla\",\n",
      "    \"type\": \"METODE ANCESTRAL\",\n",
      "    \"main_type\": \"ROSE\",\n",
      "    \"region\": \"Catalonia\",\n",
      "    \"country\": \"ESP\",\n",
      "    \"vintage\": null,\n",
      "    \"price\": null,\n",
      "    \"size\": \"bottle\"\n",
      "  },\n",
      "  {\n",
      "    \"id\": null,\n",
      "    \"producer\": \"Nevio Scala\",\n",
      "    \"name\": \"Gargante\",\n",
      "    \"type\": null,\n",
      "    \"main_type\": \"ORANGE\",\n",
      "    \"region\": \"Veneto\",\n",
      "    \"country\": \"ITA\",\n",
      "    \"vintage\": null,\n",
      "    \"price\": \"53\",\n",
      "    \"size\": \"bottle\"\n",
      "  },\n",
      "  {\n",
      "    \"id\": null,\n",
      "    \"producer\": \"Folicello\",\n",
      "    \"name\": \"Il Rosso\",\n",
      "    \"type\": null,\n",
      "    \"main_type\": \"RED\",\n",
      "    \"region\": \"Emilia Romagna\",\n",
      "    \"country\": \"ITA\",\n",
      "    \"vintage\": null,\n",
      "    \"price\": \"44\",\n",
      "    \"size\": \"bottle\"\n",
      "  }\n",
      "]\n"
     ]
    }
   ],
   "source": [
    "# Parse the first page\n",
    "results = parser.parse_wine_list(pages[0])\n",
    "\n",
    "print(json.dumps(results, indent=2))"
   ]
  },
  {
   "cell_type": "code",
   "execution_count": 34,
   "metadata": {},
   "outputs": [
    {
     "name": "stdout",
     "output_type": "stream",
     "text": [
      "(166, 10)\n"
     ]
    },
    {
     "data": {
      "text/html": [
       "<div>\n",
       "<style scoped>\n",
       "    .dataframe tbody tr th:only-of-type {\n",
       "        vertical-align: middle;\n",
       "    }\n",
       "\n",
       "    .dataframe tbody tr th {\n",
       "        vertical-align: top;\n",
       "    }\n",
       "\n",
       "    .dataframe thead th {\n",
       "        text-align: right;\n",
       "    }\n",
       "</style>\n",
       "<table border=\"1\" class=\"dataframe\">\n",
       "  <thead>\n",
       "    <tr style=\"text-align: right;\">\n",
       "      <th></th>\n",
       "      <th>id</th>\n",
       "      <th>producer</th>\n",
       "      <th>name</th>\n",
       "      <th>type</th>\n",
       "      <th>main_type</th>\n",
       "      <th>region</th>\n",
       "      <th>country</th>\n",
       "      <th>vintage</th>\n",
       "      <th>price</th>\n",
       "      <th>size</th>\n",
       "    </tr>\n",
       "  </thead>\n",
       "  <tbody>\n",
       "    <tr>\n",
       "      <th>0</th>\n",
       "      <td>NaN</td>\n",
       "      <td>Chëpìka</td>\n",
       "      <td>Petnat Catawba</td>\n",
       "      <td>PETNAT</td>\n",
       "      <td>WHITE</td>\n",
       "      <td>Finger Lakes</td>\n",
       "      <td>USA</td>\n",
       "      <td>2021</td>\n",
       "      <td>64.0</td>\n",
       "      <td>bottle</td>\n",
       "    </tr>\n",
       "    <tr>\n",
       "      <th>1</th>\n",
       "      <td>NaN</td>\n",
       "      <td>La Ferme du Vert</td>\n",
       "      <td>L' Angelou Blanc Bulle</td>\n",
       "      <td>NaN</td>\n",
       "      <td>WHITE</td>\n",
       "      <td>Southwest</td>\n",
       "      <td>FRA</td>\n",
       "      <td>2021</td>\n",
       "      <td>56.0</td>\n",
       "      <td>bottle</td>\n",
       "    </tr>\n",
       "    <tr>\n",
       "      <th>2</th>\n",
       "      <td>NaN</td>\n",
       "      <td>Guiborat</td>\n",
       "      <td>Prisme - Blanc de Blancs</td>\n",
       "      <td>BLANC DE BLANCS, GRAND CRU EXTRA BRUT</td>\n",
       "      <td>SPARKLING</td>\n",
       "      <td>Champagne</td>\n",
       "      <td>FRA</td>\n",
       "      <td>NaN</td>\n",
       "      <td>144.0</td>\n",
       "      <td>bottle</td>\n",
       "    </tr>\n",
       "    <tr>\n",
       "      <th>3</th>\n",
       "      <td>NaN</td>\n",
       "      <td>Pierre Moncuit</td>\n",
       "      <td>Delos Blanc de Blancs</td>\n",
       "      <td>BLANC DE BLANCS, GRAND CRU BRUT</td>\n",
       "      <td>SPARKLING</td>\n",
       "      <td>Champagne</td>\n",
       "      <td>FRA</td>\n",
       "      <td>NaN</td>\n",
       "      <td>117.0</td>\n",
       "      <td>bottle</td>\n",
       "    </tr>\n",
       "    <tr>\n",
       "      <th>4</th>\n",
       "      <td>NaN</td>\n",
       "      <td>Robert Moncuit</td>\n",
       "      <td>Millésime Blanc de Blancs</td>\n",
       "      <td>BLANC DE BLANCS, GRAND CRU BRUT</td>\n",
       "      <td>SPARKLING</td>\n",
       "      <td>Champagne</td>\n",
       "      <td>FRA</td>\n",
       "      <td>2013</td>\n",
       "      <td>196.0</td>\n",
       "      <td>bottle</td>\n",
       "    </tr>\n",
       "  </tbody>\n",
       "</table>\n",
       "</div>"
      ],
      "text/plain": [
       "   id          producer                       name  \\\n",
       "0 NaN           Chëpìka             Petnat Catawba   \n",
       "1 NaN  La Ferme du Vert     L' Angelou Blanc Bulle   \n",
       "2 NaN          Guiborat   Prisme - Blanc de Blancs   \n",
       "3 NaN    Pierre Moncuit      Delos Blanc de Blancs   \n",
       "4 NaN    Robert Moncuit  Millésime Blanc de Blancs   \n",
       "\n",
       "                                    type  main_type        region country  \\\n",
       "0                                 PETNAT      WHITE  Finger Lakes     USA   \n",
       "1                                    NaN      WHITE     Southwest     FRA   \n",
       "2  BLANC DE BLANCS, GRAND CRU EXTRA BRUT  SPARKLING     Champagne     FRA   \n",
       "3        BLANC DE BLANCS, GRAND CRU BRUT  SPARKLING     Champagne     FRA   \n",
       "4        BLANC DE BLANCS, GRAND CRU BRUT  SPARKLING     Champagne     FRA   \n",
       "\n",
       "  vintage  price    size  \n",
       "0    2021   64.0  bottle  \n",
       "1    2021   56.0  bottle  \n",
       "2     NaN  144.0  bottle  \n",
       "3     NaN  117.0  bottle  \n",
       "4    2013  196.0  bottle  "
      ]
     },
     "execution_count": 34,
     "metadata": {},
     "output_type": "execute_result"
    }
   ],
   "source": [
    "from functions import *\n",
    "import pandas as pd\n",
    "\n",
    "# Read the csv\n",
    "df = pd.read_csv(\"menus/rake-wine.csv\")\n",
    "\n",
    "print(df.shape)\n",
    "df.head()"
   ]
  },
  {
   "cell_type": "code",
   "execution_count": 16,
   "metadata": {},
   "outputs": [
    {
     "name": "stderr",
     "output_type": "stream",
     "text": [
      "  0%|          | 0/166 [00:00<?, ?it/s]\n"
     ]
    },
    {
     "ename": "PicklingError",
     "evalue": "Can't pickle <class 'pandas.core.frame.Pandas'>: attribute lookup Pandas on pandas.core.frame failed",
     "output_type": "error",
     "traceback": [
      "\u001b[0;31m---------------------------------------------------------------------------\u001b[0m",
      "\u001b[0;31mPicklingError\u001b[0m                             Traceback (most recent call last)",
      "Cell \u001b[0;32mIn[16], line 2\u001b[0m\n\u001b[1;32m      1\u001b[0m \u001b[38;5;66;03m# Get vivino data\u001b[39;00m\n\u001b[0;32m----> 2\u001b[0m vivino_df \u001b[38;5;241m=\u001b[39m \u001b[43mvivino_search_multiprocess\u001b[49m\u001b[43m(\u001b[49m\u001b[43mdf\u001b[49m\u001b[43m)\u001b[49m\n\u001b[1;32m      4\u001b[0m vivino_df\u001b[38;5;241m.\u001b[39mhead()\n",
      "Cell \u001b[0;32mIn[15], line 76\u001b[0m, in \u001b[0;36mvivino_search_multiprocess\u001b[0;34m(df)\u001b[0m\n\u001b[1;32m     73\u001b[0m pool \u001b[38;5;241m=\u001b[39m multiprocessing\u001b[38;5;241m.\u001b[39mPool(processes\u001b[38;5;241m=\u001b[39mmultiprocessing\u001b[38;5;241m.\u001b[39mcpu_count()\u001b[38;5;241m-\u001b[39m\u001b[38;5;241m1\u001b[39m)\n\u001b[1;32m     75\u001b[0m \u001b[38;5;66;03m# Run the search for each row in parallel\u001b[39;00m\n\u001b[0;32m---> 76\u001b[0m results \u001b[38;5;241m=\u001b[39m \u001b[38;5;28;43mlist\u001b[39;49m\u001b[43m(\u001b[49m\u001b[43mtqdm\u001b[49m\u001b[43m(\u001b[49m\u001b[43mpool\u001b[49m\u001b[38;5;241;43m.\u001b[39;49m\u001b[43mimap\u001b[49m\u001b[43m(\u001b[49m\u001b[43mvivino_search\u001b[49m\u001b[43m,\u001b[49m\u001b[43m \u001b[49m\u001b[43mnew_df\u001b[49m\u001b[38;5;241;43m.\u001b[39;49m\u001b[43mitertuples\u001b[49m\u001b[43m(\u001b[49m\u001b[43mindex\u001b[49m\u001b[38;5;241;43m=\u001b[39;49m\u001b[38;5;28;43;01mFalse\u001b[39;49;00m\u001b[43m)\u001b[49m\u001b[43m)\u001b[49m\u001b[43m,\u001b[49m\u001b[43m \u001b[49m\u001b[43mtotal\u001b[49m\u001b[38;5;241;43m=\u001b[39;49m\u001b[38;5;28;43mlen\u001b[39;49m\u001b[43m(\u001b[49m\u001b[43mnew_df\u001b[49m\u001b[43m)\u001b[49m\u001b[43m)\u001b[49m\u001b[43m)\u001b[49m\n\u001b[1;32m     78\u001b[0m \u001b[38;5;66;03m# Close the pool\u001b[39;00m\n\u001b[1;32m     79\u001b[0m pool\u001b[38;5;241m.\u001b[39mclose()\n",
      "File \u001b[0;32m~/opt/anaconda3/envs/ANLY501/lib/python3.10/site-packages/tqdm/std.py:1195\u001b[0m, in \u001b[0;36mtqdm.__iter__\u001b[0;34m(self)\u001b[0m\n\u001b[1;32m   1192\u001b[0m time \u001b[38;5;241m=\u001b[39m \u001b[38;5;28mself\u001b[39m\u001b[38;5;241m.\u001b[39m_time\n\u001b[1;32m   1194\u001b[0m \u001b[38;5;28;01mtry\u001b[39;00m:\n\u001b[0;32m-> 1195\u001b[0m     \u001b[38;5;28;01mfor\u001b[39;00m obj \u001b[38;5;129;01min\u001b[39;00m iterable:\n\u001b[1;32m   1196\u001b[0m         \u001b[38;5;28;01myield\u001b[39;00m obj\n\u001b[1;32m   1197\u001b[0m         \u001b[38;5;66;03m# Update and possibly print the progressbar.\u001b[39;00m\n\u001b[1;32m   1198\u001b[0m         \u001b[38;5;66;03m# Note: does not call self.update(1) for speed optimisation.\u001b[39;00m\n",
      "File \u001b[0;32m~/opt/anaconda3/envs/ANLY501/lib/python3.10/multiprocessing/pool.py:873\u001b[0m, in \u001b[0;36mIMapIterator.next\u001b[0;34m(self, timeout)\u001b[0m\n\u001b[1;32m    871\u001b[0m \u001b[38;5;28;01mif\u001b[39;00m success:\n\u001b[1;32m    872\u001b[0m     \u001b[38;5;28;01mreturn\u001b[39;00m value\n\u001b[0;32m--> 873\u001b[0m \u001b[38;5;28;01mraise\u001b[39;00m value\n",
      "File \u001b[0;32m~/opt/anaconda3/envs/ANLY501/lib/python3.10/multiprocessing/pool.py:540\u001b[0m, in \u001b[0;36mPool._handle_tasks\u001b[0;34m(taskqueue, put, outqueue, pool, cache)\u001b[0m\n\u001b[1;32m    538\u001b[0m     \u001b[38;5;28;01mbreak\u001b[39;00m\n\u001b[1;32m    539\u001b[0m \u001b[38;5;28;01mtry\u001b[39;00m:\n\u001b[0;32m--> 540\u001b[0m     \u001b[43mput\u001b[49m\u001b[43m(\u001b[49m\u001b[43mtask\u001b[49m\u001b[43m)\u001b[49m\n\u001b[1;32m    541\u001b[0m \u001b[38;5;28;01mexcept\u001b[39;00m \u001b[38;5;167;01mException\u001b[39;00m \u001b[38;5;28;01mas\u001b[39;00m e:\n\u001b[1;32m    542\u001b[0m     job, idx \u001b[38;5;241m=\u001b[39m task[:\u001b[38;5;241m2\u001b[39m]\n",
      "File \u001b[0;32m~/opt/anaconda3/envs/ANLY501/lib/python3.10/multiprocessing/connection.py:206\u001b[0m, in \u001b[0;36m_ConnectionBase.send\u001b[0;34m(self, obj)\u001b[0m\n\u001b[1;32m    204\u001b[0m \u001b[38;5;28mself\u001b[39m\u001b[38;5;241m.\u001b[39m_check_closed()\n\u001b[1;32m    205\u001b[0m \u001b[38;5;28mself\u001b[39m\u001b[38;5;241m.\u001b[39m_check_writable()\n\u001b[0;32m--> 206\u001b[0m \u001b[38;5;28mself\u001b[39m\u001b[38;5;241m.\u001b[39m_send_bytes(\u001b[43m_ForkingPickler\u001b[49m\u001b[38;5;241;43m.\u001b[39;49m\u001b[43mdumps\u001b[49m\u001b[43m(\u001b[49m\u001b[43mobj\u001b[49m\u001b[43m)\u001b[49m)\n",
      "File \u001b[0;32m~/opt/anaconda3/envs/ANLY501/lib/python3.10/multiprocessing/reduction.py:51\u001b[0m, in \u001b[0;36mForkingPickler.dumps\u001b[0;34m(cls, obj, protocol)\u001b[0m\n\u001b[1;32m     48\u001b[0m \u001b[38;5;129m@classmethod\u001b[39m\n\u001b[1;32m     49\u001b[0m \u001b[38;5;28;01mdef\u001b[39;00m \u001b[38;5;21mdumps\u001b[39m(\u001b[38;5;28mcls\u001b[39m, obj, protocol\u001b[38;5;241m=\u001b[39m\u001b[38;5;28;01mNone\u001b[39;00m):\n\u001b[1;32m     50\u001b[0m     buf \u001b[38;5;241m=\u001b[39m io\u001b[38;5;241m.\u001b[39mBytesIO()\n\u001b[0;32m---> 51\u001b[0m     \u001b[38;5;28;43mcls\u001b[39;49m\u001b[43m(\u001b[49m\u001b[43mbuf\u001b[49m\u001b[43m,\u001b[49m\u001b[43m \u001b[49m\u001b[43mprotocol\u001b[49m\u001b[43m)\u001b[49m\u001b[38;5;241;43m.\u001b[39;49m\u001b[43mdump\u001b[49m\u001b[43m(\u001b[49m\u001b[43mobj\u001b[49m\u001b[43m)\u001b[49m\n\u001b[1;32m     52\u001b[0m     \u001b[38;5;28;01mreturn\u001b[39;00m buf\u001b[38;5;241m.\u001b[39mgetbuffer()\n",
      "\u001b[0;31mPicklingError\u001b[0m: Can't pickle <class 'pandas.core.frame.Pandas'>: attribute lookup Pandas on pandas.core.frame failed"
     ]
    }
   ],
   "source": [
    "# Get vivino data\n",
    "vivino_df = vivino_search_multiprocess(df)\n",
    "\n",
    "vivino_df.head()"
   ]
  },
  {
   "cell_type": "code",
   "execution_count": 13,
   "metadata": {},
   "outputs": [
    {
     "data": {
      "text/plain": [
       "(75, 14)"
      ]
     },
     "execution_count": 13,
     "metadata": {},
     "output_type": "execute_result"
    }
   ],
   "source": [
    "smaller_df = vivino_df.head(75)\n",
    "\n",
    "smaller_df.shape"
   ]
  },
  {
   "cell_type": "code",
   "execution_count": 14,
   "metadata": {},
   "outputs": [],
   "source": [
    "smaller_df.to_csv(\"rake-wine-75.csv\", index=False)"
   ]
  },
  {
   "cell_type": "code",
   "execution_count": 46,
   "metadata": {},
   "outputs": [],
   "source": [
    "new_df.to_csv(\"rake-wine-full.csv\", index=False)"
   ]
  },
  {
   "cell_type": "code",
   "execution_count": null,
   "metadata": {},
   "outputs": [],
   "source": []
  }
 ],
 "metadata": {
  "kernelspec": {
   "display_name": "ANLY501",
   "language": "python",
   "name": "python3"
  },
  "language_info": {
   "codemirror_mode": {
    "name": "ipython",
    "version": 3
   },
   "file_extension": ".py",
   "mimetype": "text/x-python",
   "name": "python",
   "nbconvert_exporter": "python",
   "pygments_lexer": "ipython3",
   "version": "3.10.12"
  }
 },
 "nbformat": 4,
 "nbformat_minor": 2
}
